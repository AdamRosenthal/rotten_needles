{
 "cells": [
  {
   "cell_type": "code",
   "execution_count": 4,
   "metadata": {
    "collapsed": true
   },
   "outputs": [],
   "source": [
    "import urllib.request\n",
    "from bs4 import BeautifulSoup as bs"
   ]
  },
  {
   "cell_type": "code",
   "execution_count": 69,
   "metadata": {
    "collapsed": true
   },
   "outputs": [],
   "source": [
    "def _extract_titles(movie_table):\n",
    "    rows = movie_table.find_all('tr')\n",
    "    content = []\n",
    "    for row in rows:\n",
    "        content.append([td.get_text() for td in row.find_all([\"td\", \"th\"])])\n",
    "    titles = []\n",
    "    for row in content:\n",
    "        if len(row) == 6:\n",
    "            titles.append(row[0])\n",
    "        elif len(row) == 7:\n",
    "            titles.append(row[1])\n",
    "        elif len(row) == 8:\n",
    "            titles.append(row[2])\n",
    "        else:\n",
    "            print(\"unknown length!\")\n",
    "            print(row)\n",
    "    return titles"
   ]
  },
  {
   "cell_type": "code",
   "execution_count": 70,
   "metadata": {
    "collapsed": true
   },
   "outputs": [],
   "source": [
    "def _extract_titles_from_wiki_page(wiki_url):\n",
    "    wiki_page = bs(urllib.request.urlopen(wiki_url), \"html.parser\")\n",
    "    movies_tables = wiki_page.find_all('table', {'class': 'wikitable'})\n",
    "    titles = []\n",
    "    for table in movies_tables:\n",
    "        print(\"Extracting a table...\")\n",
    "        titles += _extract_titles(table)\n",
    "    titles = [title for title in titles if title != \"Title\"]\n",
    "    print('{} titles collected.'.format(len(titles)))\n",
    "    return titles"
   ]
  },
  {
   "cell_type": "code",
   "execution_count": 71,
   "metadata": {
    "collapsed": true
   },
   "outputs": [],
   "source": [
    "url_map_by_year = {\n",
    "    2014: 'https://en.wikipedia.org/wiki/List_of_American_films_of_2014',\n",
    "    2015: 'https://en.wikipedia.org/wiki/List_of_American_films_of_2015',   \n",
    "}"
   ]
  },
  {
   "cell_type": "code",
   "execution_count": 72,
   "metadata": {
    "collapsed": true
   },
   "outputs": [],
   "source": [
    "titles_by_year = {}"
   ]
  },
  {
   "cell_type": "code",
   "execution_count": 73,
   "metadata": {
    "collapsed": false
   },
   "outputs": [
    {
     "name": "stdout",
     "output_type": "stream",
     "text": [
      "Extracting a table...\n",
      "Extracting a table...\n",
      "Extracting a table...\n",
      "Extracting a table...\n",
      "212 titles collected.\n",
      "Extracting a table...\n",
      "Extracting a table...\n",
      "Extracting a table...\n",
      "Extracting a table...\n",
      "129 titles collected.\n"
     ]
    }
   ],
   "source": [
    "for year in url_map_by_year:\n",
    "    titles_by_year[year] = _extract_titles_from_wiki_page(url_map_by_year[year])"
   ]
  },
  {
   "cell_type": "code",
   "execution_count": null,
   "metadata": {
    "collapsed": true
   },
   "outputs": [],
   "source": []
  }
 ],
 "metadata": {
  "anaconda-cloud": {},
  "kernelspec": {
   "display_name": "Python [conda env:ds]",
   "language": "python",
   "name": "conda-env-ds-py"
  },
  "language_info": {
   "codemirror_mode": {
    "name": "ipython",
    "version": 3
   },
   "file_extension": ".py",
   "mimetype": "text/x-python",
   "name": "python",
   "nbconvert_exporter": "python",
   "pygments_lexer": "ipython3",
   "version": "3.5.2"
  }
 },
 "nbformat": 4,
 "nbformat_minor": 1
}
