{
 "cells": [
  {
   "cell_type": "markdown",
   "metadata": {
    "deletable": true,
    "editable": true
   },
   "source": [
    "# New-style pages (2014 onwards)"
   ]
  },
  {
   "cell_type": "code",
   "execution_count": 1,
   "metadata": {
    "collapsed": true,
    "deletable": true,
    "editable": true
   },
   "outputs": [],
   "source": [
    "import urllib.request\n",
    "from bs4 import BeautifulSoup as bs"
   ]
  },
  {
   "cell_type": "code",
   "execution_count": 69,
   "metadata": {
    "collapsed": true,
    "deletable": true,
    "editable": true
   },
   "outputs": [],
   "source": [
    "def _extract_titles(movie_table):\n",
    "    rows = movie_table.find_all('tr')\n",
    "    content = []\n",
    "    for row in rows:\n",
    "        content.append([td.get_text() for td in row.find_all([\"td\", \"th\"])])\n",
    "    titles = []\n",
    "    for row in content:\n",
    "        if len(row) == 6:\n",
    "            titles.append(row[0])\n",
    "        elif len(row) == 7:\n",
    "            titles.append(row[1])\n",
    "        elif len(row) == 8:\n",
    "            titles.append(row[2])\n",
    "        else:\n",
    "            print(\"unknown length!\")\n",
    "            print(row)\n",
    "    return titles"
   ]
  },
  {
   "cell_type": "code",
   "execution_count": 70,
   "metadata": {
    "collapsed": true,
    "deletable": true,
    "editable": true
   },
   "outputs": [],
   "source": [
    "def _extract_titles_from_wiki_page(wiki_url):\n",
    "    wiki_page = bs(urllib.request.urlopen(wiki_url), \"html.parser\")\n",
    "    movies_tables = wiki_page.find_all('table', {'class': 'wikitable'})\n",
    "    titles = []\n",
    "    for table in movies_tables:\n",
    "        print(\"Extracting a table...\")\n",
    "        titles += _extract_titles(table)\n",
    "    titles = [title for title in titles if title != \"Title\"]\n",
    "    print('{} titles collected.'.format(len(titles)))\n",
    "    return titles"
   ]
  },
  {
   "cell_type": "code",
   "execution_count": 71,
   "metadata": {
    "collapsed": true,
    "deletable": true,
    "editable": true
   },
   "outputs": [],
   "source": [
    "url_map_by_year = {\n",
    "    2014: 'https://en.wikipedia.org/wiki/List_of_American_films_of_2014',\n",
    "    2015: 'https://en.wikipedia.org/wiki/List_of_American_films_of_2015',   \n",
    "}"
   ]
  },
  {
   "cell_type": "code",
   "execution_count": 72,
   "metadata": {
    "collapsed": true,
    "deletable": true,
    "editable": true
   },
   "outputs": [],
   "source": [
    "titles_by_year = {}"
   ]
  },
  {
   "cell_type": "code",
   "execution_count": 73,
   "metadata": {
    "collapsed": false,
    "deletable": true,
    "editable": true
   },
   "outputs": [
    {
     "name": "stdout",
     "output_type": "stream",
     "text": [
      "Extracting a table...\n",
      "Extracting a table...\n",
      "Extracting a table...\n",
      "Extracting a table...\n",
      "212 titles collected.\n",
      "Extracting a table...\n",
      "Extracting a table...\n",
      "Extracting a table...\n",
      "Extracting a table...\n",
      "129 titles collected.\n"
     ]
    }
   ],
   "source": [
    "for year in url_map_by_year:\n",
    "    titles_by_year[year] = _extract_titles_from_wiki_page(url_map_by_year[year])"
   ]
  },
  {
   "cell_type": "markdown",
   "metadata": {
    "collapsed": true,
    "deletable": true,
    "editable": true
   },
   "source": [
    "# Old-style pages (before 2014)"
   ]
  },
  {
   "cell_type": "code",
   "execution_count": 5,
   "metadata": {
    "collapsed": false,
    "deletable": true,
    "editable": true
   },
   "outputs": [],
   "source": [
    "# def _old_extract(wiki_url):\n",
    "wiki_url = 'https://en.wikipedia.org/wiki/List_of_American_films_of_2013'\n",
    "wiki_page = bs(urllib.request.urlopen(wiki_url), \"html.parser\")\n",
    "table = wiki_page.find_all('table', {'class': 'wikitable'})[0]"
   ]
  },
  {
   "cell_type": "code",
   "execution_count": 51,
   "metadata": {
    "collapsed": true,
    "deletable": true,
    "editable": true
   },
   "outputs": [],
   "source": [
    "import re"
   ]
  },
  {
   "cell_type": "code",
   "execution_count": 75,
   "metadata": {
    "collapsed": true,
    "deletable": true,
    "editable": true
   },
   "outputs": [],
   "source": [
    "MIRROR_REGEX = r\"([\\w\\s]+):\\1\""
   ]
  },
  {
   "cell_type": "code",
   "execution_count": 91,
   "metadata": {
    "collapsed": false,
    "deletable": true,
    "editable": true
   },
   "outputs": [],
   "source": [
    "def _parse_title(title):\n",
    "    if \"TheThe\" in title:\n",
    "        title = title[title.rfind('TheThe')+3:]\n",
    "    elif \"AA\" in title:\n",
    "        title = title[title.rfind('AA')+1:]\n",
    "    else:\n",
    "        matches = re.findall(MIRROR_REGEX, title)\n",
    "        if len(matches) > 0:\n",
    "            title = title[title.rfind(matches[0]):]\n",
    "    return title.strip()"
   ]
  },
  {
   "cell_type": "code",
   "execution_count": 92,
   "metadata": {
    "collapsed": false,
    "deletable": true,
    "editable": true
   },
   "outputs": [],
   "source": [
    "rows = table.find_all('tr')\n",
    "titles = []\n",
    "for row in rows:\n",
    "    try:\n",
    "        titles.append(_parse_title(row.find_all([\"td\"])[0].get_text()))\n",
    "    except IndexError:\n",
    "        pass"
   ]
  },
  {
   "cell_type": "code",
   "execution_count": 94,
   "metadata": {
    "collapsed": false,
    "deletable": true,
    "editable": true
   },
   "outputs": [],
   "source": [
    "# titles"
   ]
  }
 ],
 "metadata": {
  "anaconda-cloud": {},
  "kernelspec": {
   "display_name": "conda [ds]",
   "language": "python",
   "name": "python3"
  },
  "language_info": {
   "codemirror_mode": {
    "name": "ipython",
    "version": 3
   },
   "file_extension": ".py",
   "mimetype": "text/x-python",
   "name": "python",
   "nbconvert_exporter": "python",
   "pygments_lexer": "ipython3",
   "version": "3.5.3"
  }
 },
 "nbformat": 4,
 "nbformat_minor": 1
}
