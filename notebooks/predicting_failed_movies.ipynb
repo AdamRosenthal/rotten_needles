{
 "cells": [
  {
   "cell_type": "markdown",
   "metadata": {
    "deletable": true,
    "editable": true
   },
   "source": [
    "# Prediction Failed Movies"
   ]
  },
  {
   "cell_type": "markdown",
   "metadata": {
    "deletable": true,
    "editable": true
   },
   "source": [
    "## Loading the dataset"
   ]
  },
  {
   "cell_type": "code",
   "execution_count": 167,
   "metadata": {
    "collapsed": true,
    "deletable": true,
    "editable": true
   },
   "outputs": [],
   "source": [
    "import os\n",
    "\n",
    "import pandas as pd\n",
    "import sklearn as skl\n",
    "\n",
    "import holcrawl.shared"
   ]
  },
  {
   "cell_type": "code",
   "execution_count": 168,
   "metadata": {
    "collapsed": true,
    "deletable": true,
    "editable": true
   },
   "outputs": [],
   "source": [
    "dataset_dir = holcrawl.shared._get_dataset_dir_path()"
   ]
  },
  {
   "cell_type": "code",
   "execution_count": 169,
   "metadata": {
    "collapsed": true,
    "deletable": true,
    "editable": true
   },
   "outputs": [],
   "source": [
    "dataset_path = os.path.join(dataset_dir, 'movies_dataset.csv')"
   ]
  },
  {
   "cell_type": "code",
   "execution_count": 170,
   "metadata": {
    "collapsed": true,
    "deletable": true,
    "editable": true
   },
   "outputs": [],
   "source": [
    "df = pd.read_csv(dataset_path)"
   ]
  },
  {
   "cell_type": "markdown",
   "metadata": {
    "deletable": true,
    "editable": true
   },
   "source": [
    "## Feature Generation"
   ]
  },
  {
   "cell_type": "markdown",
   "metadata": {},
   "source": [
    "Generating some additional basic features:"
   ]
  },
  {
   "cell_type": "code",
   "execution_count": 174,
   "metadata": {
    "collapsed": false,
    "deletable": true,
    "editable": true
   },
   "outputs": [],
   "source": [
    "df['ROI'] = (df['gross_income'] - df['budget']) / df['budget']"
   ]
  },
  {
   "cell_type": "code",
   "execution_count": 175,
   "metadata": {
    "collapsed": true,
    "deletable": true,
    "editable": true
   },
   "outputs": [],
   "source": [
    "df['name_length'] = df['name'].map(lambda name: len(name))"
   ]
  },
  {
   "cell_type": "code",
   "execution_count": 176,
   "metadata": {
    "collapsed": false,
    "deletable": true,
    "editable": true
   },
   "outputs": [
    {
     "data": {
      "text/plain": [
       "900"
      ]
     },
     "execution_count": 176,
     "metadata": {},
     "output_type": "execute_result"
    }
   ],
   "source": [
    "len(df)"
   ]
  },
  {
   "cell_type": "markdown",
   "metadata": {},
   "source": [
    "The number of null values per column:"
   ]
  },
  {
   "cell_type": "code",
   "execution_count": 177,
   "metadata": {
    "collapsed": false,
    "deletable": true,
    "editable": true,
    "scrolled": true
   },
   "outputs": [
    {
     "data": {
      "text/plain": [
       "avg_screens                          0\n",
       "budget                             149\n",
       "budget_currency                    149\n",
       "closing_date                         0\n",
       "critic_review_count                  0\n",
       "duration                             0\n",
       "gross_income                         0\n",
       "imdb_user_reviews                    0\n",
       "max_screens                          0\n",
       "mc_avg_user_score                    0\n",
       "mc_metascore                         0\n",
       "mc_mixed_rating_frequency            0\n",
       "mc_movie_name                        0\n",
       "mc_negative_rating_frequency         0\n",
       "mc_positive_rating_frequency         0\n",
       "mc_pro_critic_reviews                0\n",
       "mc_user_reviews                      0\n",
       "metascore                            3\n",
       "name                                 0\n",
       "num_weekends                         0\n",
       "opening_weekend_date                 0\n",
       "opening_weekend_income               0\n",
       "opening_weekend_income_currency      0\n",
       "opening_weekend_screens              0\n",
       "rating                               0\n",
       "rating_count                         0\n",
       "release_day                        191\n",
       "release_month                      191\n",
       "release_year                       191\n",
       "screens_by_weekend                   0\n",
       "                                  ... \n",
       "genres.horror                        0\n",
       "genres.music                         0\n",
       "genres.musical                       0\n",
       "genres.mystery                       0\n",
       "genres.news                          0\n",
       "genres.romance                       0\n",
       "genres.sci-fi                        0\n",
       "genres.sport                         0\n",
       "genres.thriller                      0\n",
       "genres.war                           0\n",
       "genres.western                       0\n",
       "num_mc_critic                        0\n",
       "avg_mc_critic                      235\n",
       "num_mc_critic_by_opening             0\n",
       "avg_mc_critic_by_opening           266\n",
       "num_mc_user                          0\n",
       "avg_mc_user                         16\n",
       "num_mc_user_by_opening               0\n",
       "avg_mc_user_by_opening             441\n",
       "num_imdb_user                        0\n",
       "avg_imdb_user                        0\n",
       "num_imdb_user_by_opening             0\n",
       "avg_imdb_user_by_opening            45\n",
       "opening_month                        0\n",
       "opening_day                          0\n",
       "opening_day_of_year                  0\n",
       "norm_gross                         149\n",
       "profit                             149\n",
       "ROI                                149\n",
       "name_length                          0\n",
       "dtype: int64"
      ]
     },
     "execution_count": 177,
     "metadata": {},
     "output_type": "execute_result"
    }
   ],
   "source": [
    "df.isnull().sum()"
   ]
  },
  {
   "cell_type": "code",
   "execution_count": 180,
   "metadata": {
    "collapsed": true,
    "deletable": true,
    "editable": true
   },
   "outputs": [],
   "source": [
    "BASE_FEAT_TO_KEEP = [\n",
    "    'duration', 'budget', 'opening_month', 'opening_day', 'opening_day_of_year', 'year',\n",
    "    'avg_mc_critic_by_opening', 'num_mc_critic_by_opening', 'name_length', 'opening_weekend_income',\n",
    "    'num_imdb_user_by_opening', 'avg_imdb_user_by_opening', 'opening_weekend_screens'# 'avg_mc_user_by_opening'\n",
    "]"
   ]
  },
  {
   "cell_type": "markdown",
   "metadata": {},
   "source": [
    "Keeping all genre dummy variables:"
   ]
  },
  {
   "cell_type": "code",
   "execution_count": 181,
   "metadata": {
    "collapsed": true,
    "deletable": true,
    "editable": true
   },
   "outputs": [],
   "source": [
    "FEAT_TO_KEEP = BASE_FEAT_TO_KEEP + [col for col in df.columns if 'genres' in col]"
   ]
  },
  {
   "cell_type": "code",
   "execution_count": 182,
   "metadata": {
    "collapsed": true,
    "deletable": true,
    "editable": true
   },
   "outputs": [],
   "source": [
    "features = df.drop([col for col in df.columns if col not in BASE_FEAT_TO_KEEP], axis=1)"
   ]
  },
  {
   "cell_type": "markdown",
   "metadata": {},
   "source": [
    "Dropping non-feature columns:"
   ]
  },
  {
   "cell_type": "code",
   "execution_count": 183,
   "metadata": {
    "collapsed": false,
    "deletable": true,
    "editable": true,
    "scrolled": true
   },
   "outputs": [],
   "source": [
    "dataset = df.drop([col for col in df.columns if col not in FEAT_TO_KEEP], axis=1)"
   ]
  },
  {
   "cell_type": "markdown",
   "metadata": {},
   "source": [
    "Dropping all rows that still have null values:"
   ]
  },
  {
   "cell_type": "code",
   "execution_count": 184,
   "metadata": {
    "collapsed": false,
    "deletable": true,
    "editable": true
   },
   "outputs": [],
   "source": [
    "dataset = dataset.dropna(axis=0)"
   ]
  },
  {
   "cell_type": "markdown",
   "metadata": {},
   "source": [
    "Now, making sure we have no null values:"
   ]
  },
  {
   "cell_type": "code",
   "execution_count": 185,
   "metadata": {
    "collapsed": false,
    "scrolled": true
   },
   "outputs": [
    {
     "data": {
      "text/plain": [
       "0"
      ]
     },
     "execution_count": 185,
     "metadata": {},
     "output_type": "execute_result"
    }
   ],
   "source": [
    "dataset.isnull().sum().sum()"
   ]
  },
  {
   "cell_type": "markdown",
   "metadata": {},
   "source": [
    "We end up with a dataset of size:"
   ]
  },
  {
   "cell_type": "code",
   "execution_count": 186,
   "metadata": {
    "collapsed": false,
    "deletable": true,
    "editable": true
   },
   "outputs": [
    {
     "data": {
      "text/plain": [
       "518"
      ]
     },
     "execution_count": 186,
     "metadata": {},
     "output_type": "execute_result"
    }
   ],
   "source": [
    "len(dataset)"
   ]
  },
  {
   "cell_type": "markdown",
   "metadata": {
    "deletable": true,
    "editable": true
   },
   "source": [
    "## Prediction"
   ]
  },
  {
   "cell_type": "code",
   "execution_count": 187,
   "metadata": {
    "collapsed": true,
    "deletable": true,
    "editable": true
   },
   "outputs": [],
   "source": [
    "import numpy as np\n",
    "from sklearn import linear_model\n",
    "from sklearn.model_selection import cross_val_score"
   ]
  },
  {
   "cell_type": "markdown",
   "metadata": {
    "deletable": true,
    "editable": true
   },
   "source": [
    "### Predicting failed movies"
   ]
  },
  {
   "cell_type": "markdown",
   "metadata": {},
   "source": [
    "We define a failed movie as a movie whose ROI (Return On Investment) is below zero, meaning the investors actually lost money making it:"
   ]
  },
  {
   "cell_type": "code",
   "execution_count": 188,
   "metadata": {
    "collapsed": false,
    "deletable": true,
    "editable": true
   },
   "outputs": [],
   "source": [
    "failed = df['ROI'].ix[dataset.index] < 0"
   ]
  },
  {
   "cell_type": "code",
   "execution_count": 189,
   "metadata": {
    "collapsed": false,
    "deletable": true,
    "editable": true
   },
   "outputs": [],
   "source": [
    "X = dataset\n",
    "Y = failed"
   ]
  },
  {
   "cell_type": "markdown",
   "metadata": {},
   "source": [
    "Running logistic regression over 5 folds of our dataset:"
   ]
  },
  {
   "cell_type": "code",
   "execution_count": 190,
   "metadata": {
    "collapsed": false
   },
   "outputs": [],
   "source": [
    "logreg = linear_model.LogisticRegression()\n",
    "acc_scores = cross_val_score(logreg, X, Y, cv=5, n_jobs=1)"
   ]
  },
  {
   "cell_type": "code",
   "execution_count": 194,
   "metadata": {
    "collapsed": false
   },
   "outputs": [
    {
     "name": "stdout",
     "output_type": "stream",
     "text": [
      "Accuracy is 80.70% ± 1.51%.\n"
     ]
    }
   ],
   "source": [
    "mean_accuracy = np.mean(acc_scores)\n",
    "accuracy_std = np.std(acc_scores)\n",
    "print(\"Accuracy is {:.2f}% ± {:.2f}%.\".format(mean_accuracy*100, accuracy_std*100))"
   ]
  },
  {
   "cell_type": "code",
   "execution_count": 195,
   "metadata": {
    "collapsed": true
   },
   "outputs": [],
   "source": [
    "recall_scores = cross_val_score(logreg, X, Y, cv=5, n_jobs=1, scoring='recall')"
   ]
  },
  {
   "cell_type": "code",
   "execution_count": 196,
   "metadata": {
    "collapsed": false
   },
   "outputs": [
    {
     "name": "stdout",
     "output_type": "stream",
     "text": [
      "Recall = 81.12% ± 7.76\n"
     ]
    }
   ],
   "source": [
    "mean_recall = np.mean(recall_scores)\n",
    "recall_std = np.std(recall_scores)\n",
    "print(\"Recall = {:.2f}% ± {:.2f}\".format(mean_recall*100, recall_std*100))"
   ]
  },
  {
   "cell_type": "code",
   "execution_count": null,
   "metadata": {
    "collapsed": true
   },
   "outputs": [],
   "source": []
  }
 ],
 "metadata": {
  "kernelspec": {
   "display_name": "conda [ds]",
   "language": "python",
   "name": "python3"
  },
  "language_info": {
   "codemirror_mode": {
    "name": "ipython",
    "version": 3
   },
   "file_extension": ".py",
   "mimetype": "text/x-python",
   "name": "python",
   "nbconvert_exporter": "python",
   "pygments_lexer": "ipython3",
   "version": "3.5.3"
  }
 },
 "nbformat": 4,
 "nbformat_minor": 2
}
