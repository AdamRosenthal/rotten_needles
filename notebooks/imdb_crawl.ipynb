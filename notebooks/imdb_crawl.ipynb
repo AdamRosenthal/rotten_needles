{
 "cells": [
  {
   "cell_type": "markdown",
   "metadata": {
    "deletable": true,
    "editable": true
   },
   "source": [
    "# IMDB Crawler"
   ]
  },
  {
   "cell_type": "code",
   "execution_count": 5,
   "metadata": {
    "collapsed": false,
    "deletable": true,
    "editable": true
   },
   "outputs": [],
   "source": [
    "import urllib\n",
    "from bs4 import BeautifulSoup as bs"
   ]
  },
  {
   "cell_type": "code",
   "execution_count": 6,
   "metadata": {
    "collapsed": true,
    "deletable": true,
    "editable": true
   },
   "outputs": [],
   "source": [
    "import urllib.request"
   ]
  },
  {
   "cell_type": "markdown",
   "metadata": {
    "deletable": true,
    "editable": true
   },
   "source": [
    "## Search"
   ]
  },
  {
   "cell_type": "code",
   "execution_count": 7,
   "metadata": {
    "collapsed": true,
    "deletable": true,
    "editable": true
   },
   "outputs": [],
   "source": [
    "TITLE_QUERY = (\n",
    "    'http://www.imdb.com/find'\n",
    "    '?q={title}&s=tt&ttype=ft&exact=true&ref_=fn_tt_ex'\n",
    ")"
   ]
  },
  {
   "cell_type": "code",
   "execution_count": 8,
   "metadata": {
    "collapsed": true,
    "deletable": true,
    "editable": true
   },
   "outputs": [],
   "source": [
    "movie_name=\"Avengers: Age of Ultron\""
   ]
  },
  {
   "cell_type": "code",
   "execution_count": 9,
   "metadata": {
    "collapsed": true,
    "deletable": true,
    "editable": true
   },
   "outputs": [],
   "source": [
    "def convert_title(title):\n",
    "    return urllib.parse.quote(title).lower()"
   ]
  },
  {
   "cell_type": "code",
   "execution_count": 10,
   "metadata": {
    "collapsed": false,
    "deletable": true,
    "editable": true
   },
   "outputs": [
    {
     "data": {
      "text/plain": [
       "'avengers%3a%20age%20of%20ultron'"
      ]
     },
     "execution_count": 10,
     "metadata": {},
     "output_type": "execute_result"
    }
   ],
   "source": [
    "convert_title(movie_name)"
   ]
  },
  {
   "cell_type": "code",
   "execution_count": 11,
   "metadata": {
    "collapsed": false,
    "deletable": true,
    "editable": true
   },
   "outputs": [],
   "source": [
    "query = TITLE_QUERY.format(title=convert_title(movie_name))\n",
    "search_res = bs(urllib.request.urlopen(query), \"html.parser\")"
   ]
  },
  {
   "cell_type": "code",
   "execution_count": 12,
   "metadata": {
    "collapsed": false,
    "deletable": true,
    "editable": true
   },
   "outputs": [],
   "source": [
    "res_table = search_res.find_all(\"table\", {\"class\": \"findList\"})[0]"
   ]
  },
  {
   "cell_type": "code",
   "execution_count": 13,
   "metadata": {
    "collapsed": false,
    "deletable": true,
    "editable": true
   },
   "outputs": [
    {
     "name": "stdout",
     "output_type": "stream",
     "text": [
      "False\n",
      "<tr class=\"findResult odd\"> <td class=\"primary_photo\"> <a href=\"/title/tt2395427/?ref_=fn_ft_tt_1\"><img src=\"https://images-na.ssl-images-amazon.com/images/M/MV5BMTM4OGJmNWMtOTM4Ni00NTE3LTg3MDItZmQxYjc4N2JhNmUxXkEyXkFqcGdeQXVyNTgzMDMzMTg@._V1_UX32_CR0,0,32,44_AL_.jpg\"/></a> </td> <td class=\"result_text\"> <a href=\"/title/tt2395427/?ref_=fn_ft_tt_1\">Avengers: Age of Ultron</a> (2015) </td> </tr>\n"
     ]
    }
   ],
   "source": [
    "for line in res_table.find_all(\"tr\"):\n",
    "    print('2014' in str(line))\n",
    "    print(line)"
   ]
  },
  {
   "cell_type": "code",
   "execution_count": 14,
   "metadata": {
    "collapsed": false,
    "deletable": true,
    "editable": true
   },
   "outputs": [],
   "source": [
    "first_row = res_table.find_all(\"tr\")[0]"
   ]
  },
  {
   "cell_type": "code",
   "execution_count": 15,
   "metadata": {
    "collapsed": false,
    "deletable": true,
    "editable": true
   },
   "outputs": [
    {
     "data": {
      "text/plain": [
       "<tr class=\"findResult odd\"> <td class=\"primary_photo\"> <a href=\"/title/tt2395427/?ref_=fn_ft_tt_1\"><img src=\"https://images-na.ssl-images-amazon.com/images/M/MV5BMTM4OGJmNWMtOTM4Ni00NTE3LTg3MDItZmQxYjc4N2JhNmUxXkEyXkFqcGdeQXVyNTgzMDMzMTg@._V1_UX32_CR0,0,32,44_AL_.jpg\"/></a> </td> <td class=\"result_text\"> <a href=\"/title/tt2395427/?ref_=fn_ft_tt_1\">Avengers: Age of Ultron</a> (2015) </td> </tr>"
      ]
     },
     "execution_count": 15,
     "metadata": {},
     "output_type": "execute_result"
    }
   ],
   "source": [
    "first_row"
   ]
  },
  {
   "cell_type": "markdown",
   "metadata": {
    "deletable": true,
    "editable": true
   },
   "source": [
    "### Extracting the movie code"
   ]
  },
  {
   "cell_type": "code",
   "execution_count": 16,
   "metadata": {
    "collapsed": true,
    "deletable": true,
    "editable": true
   },
   "outputs": [],
   "source": [
    "import re"
   ]
  },
  {
   "cell_type": "code",
   "execution_count": 17,
   "metadata": {
    "collapsed": true,
    "deletable": true,
    "editable": true
   },
   "outputs": [],
   "source": [
    "MOVIE_CODE_REGEX = r'/title/([a-z0-9]+)/'"
   ]
  },
  {
   "cell_type": "code",
   "execution_count": 18,
   "metadata": {
    "collapsed": false,
    "deletable": true,
    "editable": true
   },
   "outputs": [],
   "source": [
    "movie_code = re.findall(MOVIE_CODE_REGEX, str(first_row))[0]"
   ]
  },
  {
   "cell_type": "code",
   "execution_count": 19,
   "metadata": {
    "collapsed": false,
    "deletable": true,
    "editable": true
   },
   "outputs": [
    {
     "data": {
      "text/plain": [
       "'tt2395427'"
      ]
     },
     "execution_count": 19,
     "metadata": {},
     "output_type": "execute_result"
    }
   ],
   "source": [
    "movie_code"
   ]
  },
  {
   "cell_type": "markdown",
   "metadata": {
    "deletable": true,
    "editable": true
   },
   "source": [
    "## Movie Profile"
   ]
  },
  {
   "cell_type": "code",
   "execution_count": 20,
   "metadata": {
    "collapsed": true,
    "deletable": true,
    "editable": true
   },
   "outputs": [],
   "source": [
    "PROFILE_URL = 'http://www.imdb.com/title/{code}/' #?region=us"
   ]
  },
  {
   "cell_type": "code",
   "execution_count": 21,
   "metadata": {
    "collapsed": true,
    "deletable": true,
    "editable": true
   },
   "outputs": [],
   "source": [
    "cur_profile_url = PROFILE_URL.format(code=movie_code)"
   ]
  },
  {
   "cell_type": "code",
   "execution_count": 29,
   "metadata": {
    "collapsed": false,
    "deletable": true,
    "editable": true
   },
   "outputs": [],
   "source": [
    "prof_page = bs(urllib.request.urlopen(cur_profile_url), \"html.parser\")"
   ]
  },
  {
   "cell_type": "markdown",
   "metadata": {
    "deletable": true,
    "editable": true
   },
   "source": [
    "### Rating"
   ]
  },
  {
   "cell_type": "code",
   "execution_count": 30,
   "metadata": {
    "collapsed": false,
    "deletable": true,
    "editable": true
   },
   "outputs": [
    {
     "data": {
      "text/plain": [
       "[<span itemprop=\"ratingValue\">7.4</span>]"
      ]
     },
     "execution_count": 30,
     "metadata": {},
     "output_type": "execute_result"
    }
   ],
   "source": [
    "prof_page.find_all(\"span\", {\"itemprop\": \"ratingValue\"})"
   ]
  },
  {
   "cell_type": "code",
   "execution_count": 31,
   "metadata": {
    "collapsed": false,
    "deletable": true,
    "editable": true,
    "scrolled": true
   },
   "outputs": [],
   "source": [
    "rating = float(prof_page.find_all(\"span\", {\"itemprop\": \"ratingValue\"})[0].contents[0])"
   ]
  },
  {
   "cell_type": "code",
   "execution_count": 32,
   "metadata": {
    "collapsed": false,
    "deletable": true,
    "editable": true
   },
   "outputs": [
    {
     "data": {
      "text/plain": [
       "7.4"
      ]
     },
     "execution_count": 32,
     "metadata": {},
     "output_type": "execute_result"
    }
   ],
   "source": [
    "rating"
   ]
  },
  {
   "cell_type": "code",
   "execution_count": 33,
   "metadata": {
    "collapsed": false,
    "deletable": true,
    "editable": true
   },
   "outputs": [],
   "source": [
    "rating_count = int(prof_page.find_all(\"span\", {\"itemprop\": \"ratingCount\"})[0].contents[0].replace(',', ''))"
   ]
  },
  {
   "cell_type": "code",
   "execution_count": 34,
   "metadata": {
    "collapsed": false,
    "deletable": true,
    "editable": true
   },
   "outputs": [
    {
     "data": {
      "text/plain": [
       "501914"
      ]
     },
     "execution_count": 34,
     "metadata": {},
     "output_type": "execute_result"
    }
   ],
   "source": [
    "rating_count"
   ]
  },
  {
   "cell_type": "markdown",
   "metadata": {
    "deletable": true,
    "editable": true
   },
   "source": [
    "### Genres"
   ]
  },
  {
   "cell_type": "code",
   "execution_count": 35,
   "metadata": {
    "collapsed": true,
    "deletable": true,
    "editable": true
   },
   "outputs": [],
   "source": [
    "genres = []"
   ]
  },
  {
   "cell_type": "code",
   "execution_count": 36,
   "metadata": {
    "collapsed": false,
    "deletable": true,
    "editable": true
   },
   "outputs": [],
   "source": [
    "for span in prof_page.find_all(\"span\", {\"itemprop\": \"genre\"}):\n",
    "    genres.append(span.contents[0])"
   ]
  },
  {
   "cell_type": "code",
   "execution_count": 37,
   "metadata": {
    "collapsed": false,
    "deletable": true,
    "editable": true
   },
   "outputs": [
    {
     "data": {
      "text/plain": [
       "['Action', 'Adventure', 'Sci-Fi']"
      ]
     },
     "execution_count": 37,
     "metadata": {},
     "output_type": "execute_result"
    }
   ],
   "source": [
    "genres"
   ]
  },
  {
   "cell_type": "markdown",
   "metadata": {
    "deletable": true,
    "editable": true
   },
   "source": [
    "### Review counts"
   ]
  },
  {
   "cell_type": "code",
   "execution_count": 38,
   "metadata": {
    "collapsed": true,
    "deletable": true,
    "editable": true
   },
   "outputs": [],
   "source": [
    "REVIEW_COUNT_REGEX = r'([0-9,]+) ([a-zA-Z]+)'"
   ]
  },
  {
   "cell_type": "code",
   "execution_count": 39,
   "metadata": {
    "collapsed": true,
    "deletable": true,
    "editable": true
   },
   "outputs": [],
   "source": [
    "user_review_count = 0\n",
    "critic_review_count = 0"
   ]
  },
  {
   "cell_type": "code",
   "execution_count": 40,
   "metadata": {
    "collapsed": false,
    "deletable": true,
    "editable": true,
    "scrolled": true
   },
   "outputs": [],
   "source": [
    "for span in prof_page.find_all(\"span\", {\"itemprop\": \"reviewCount\"}):\n",
    "    span_str = span.contents[0]\n",
    "    res = re.findall(REVIEW_COUNT_REGEX, span_str)[0]\n",
    "    if res[1] == 'user':\n",
    "        user_review_count = int(res[0].replace(',', ''))\n",
    "    elif res[1] == 'critic':\n",
    "        critic_review_count = int(res[0].replace(',', ''))"
   ]
  },
  {
   "cell_type": "code",
   "execution_count": 41,
   "metadata": {
    "collapsed": false,
    "deletable": true,
    "editable": true
   },
   "outputs": [
    {
     "data": {
      "text/plain": [
       "1128"
      ]
     },
     "execution_count": 41,
     "metadata": {},
     "output_type": "execute_result"
    }
   ],
   "source": [
    "user_review_count"
   ]
  },
  {
   "cell_type": "code",
   "execution_count": 42,
   "metadata": {
    "collapsed": false,
    "deletable": true,
    "editable": true
   },
   "outputs": [
    {
     "data": {
      "text/plain": [
       "650"
      ]
     },
     "execution_count": 42,
     "metadata": {},
     "output_type": "execute_result"
    }
   ],
   "source": [
    "critic_review_count"
   ]
  },
  {
   "cell_type": "markdown",
   "metadata": {
    "deletable": true,
    "editable": true
   },
   "source": [
    "### Metascore"
   ]
  },
  {
   "cell_type": "code",
   "execution_count": 43,
   "metadata": {
    "collapsed": false,
    "deletable": true,
    "editable": true
   },
   "outputs": [],
   "source": [
    "metascore = int(prof_page.find_all(\"div\", {\"class\": \"metacriticScore\"})[0].contents[1].contents[0])"
   ]
  },
  {
   "cell_type": "code",
   "execution_count": 44,
   "metadata": {
    "collapsed": false,
    "deletable": true,
    "editable": true
   },
   "outputs": [
    {
     "data": {
      "text/plain": [
       "66"
      ]
     },
     "execution_count": 44,
     "metadata": {},
     "output_type": "execute_result"
    }
   ],
   "source": [
    "metascore"
   ]
  },
  {
   "cell_type": "markdown",
   "metadata": {
    "deletable": true,
    "editable": true
   },
   "source": [
    "### Year"
   ]
  },
  {
   "cell_type": "code",
   "execution_count": 45,
   "metadata": {
    "collapsed": false,
    "deletable": true,
    "editable": true
   },
   "outputs": [],
   "source": [
    "year = int(prof_page.find_all(\"span\", {\"id\": \"titleYear\"})[0].contents[1].contents[0])"
   ]
  },
  {
   "cell_type": "code",
   "execution_count": 46,
   "metadata": {
    "collapsed": false,
    "deletable": true,
    "editable": true
   },
   "outputs": [
    {
     "data": {
      "text/plain": [
       "2015"
      ]
     },
     "execution_count": 46,
     "metadata": {},
     "output_type": "execute_result"
    }
   ],
   "source": [
    "year"
   ]
  },
  {
   "cell_type": "markdown",
   "metadata": {
    "deletable": true,
    "editable": true
   },
   "source": [
    "### Duration"
   ]
  },
  {
   "cell_type": "code",
   "execution_count": 47,
   "metadata": {
    "collapsed": true,
    "deletable": true,
    "editable": true
   },
   "outputs": [],
   "source": [
    "MOVIE_DURATION_REGEX = r'PT([0-9]+)M'"
   ]
  },
  {
   "cell_type": "code",
   "execution_count": 48,
   "metadata": {
    "collapsed": false,
    "deletable": true,
    "editable": true
   },
   "outputs": [],
   "source": [
    "duration_str = prof_page.find_all(\"time\", {\"itemprop\": \"duration\"})[0]['datetime']"
   ]
  },
  {
   "cell_type": "code",
   "execution_count": 49,
   "metadata": {
    "collapsed": false,
    "deletable": true,
    "editable": true
   },
   "outputs": [],
   "source": [
    "duration_in_minutes = int(re.findall(MOVIE_DURATION_REGEX, duration_str)[0])"
   ]
  },
  {
   "cell_type": "code",
   "execution_count": 50,
   "metadata": {
    "collapsed": false,
    "deletable": true,
    "editable": true,
    "scrolled": true
   },
   "outputs": [
    {
     "data": {
      "text/plain": [
       "141"
      ]
     },
     "execution_count": 50,
     "metadata": {},
     "output_type": "execute_result"
    }
   ],
   "source": [
    "duration_in_minutes"
   ]
  },
  {
   "cell_type": "markdown",
   "metadata": {
    "deletable": true,
    "editable": true
   },
   "source": [
    "### Box office section"
   ]
  },
  {
   "cell_type": "code",
   "execution_count": 51,
   "metadata": {
    "collapsed": false,
    "deletable": true,
    "editable": true
   },
   "outputs": [],
   "source": [
    "BOX_CONTENT_REGEX = r\"<h3.*>Box Office</h3>([\\s\\S]+?)<h3\""
   ]
  },
  {
   "cell_type": "code",
   "execution_count": 52,
   "metadata": {
    "collapsed": false,
    "deletable": true,
    "editable": true
   },
   "outputs": [],
   "source": [
    "box_contents = re.findall(BOX_CONTENT_REGEX, str(prof_page))[0]"
   ]
  },
  {
   "cell_type": "code",
   "execution_count": 53,
   "metadata": {
    "collapsed": false,
    "deletable": true,
    "editable": true,
    "scrolled": true
   },
   "outputs": [
    {
     "data": {
      "text/plain": [
       "'\\n<div class=\"txt-block\">\\n<h4 class=\"inline\">Budget:</h4>        $250,000,000        \\n\\n      <span class=\"attribute\">(estimated)</span>\\n</div>\\n<div class=\"txt-block\">\\n<h4 class=\"inline\">Opening Weekend:</h4>         $191,271,109        \\n\\n      (USA)\\n      <span class=\"attribute\">(1 May 2015)</span>\\n</div>\\n<div class=\"txt-block\">\\n<h4 class=\"inline\">Gross:</h4>        $458,991,599        \\n\\n      <span class=\"attribute\">(USA)</span>\\n<span class=\"attribute\">(2 October 2015)</span>\\n</div>\\n<span class=\"see-more inline\">\\n<a href=\"business?ref_=tt_dt_bus\" itemprop=\"url\">See more</a>\\xa0»\\n  </span>\\n<hr/>\\n'"
      ]
     },
     "execution_count": 53,
     "metadata": {},
     "output_type": "execute_result"
    }
   ],
   "source": [
    "box_contents"
   ]
  },
  {
   "cell_type": "markdown",
   "metadata": {
    "deletable": true,
    "editable": true
   },
   "source": [
    "#### Budget"
   ]
  },
  {
   "cell_type": "code",
   "execution_count": 54,
   "metadata": {
    "collapsed": true,
    "deletable": true,
    "editable": true
   },
   "outputs": [],
   "source": [
    "BUDGET_REGEX = r\"<h4.*>Budget:</h4>\\s*\\$([0-9,]+)\""
   ]
  },
  {
   "cell_type": "code",
   "execution_count": 55,
   "metadata": {
    "collapsed": false,
    "deletable": true,
    "editable": true
   },
   "outputs": [],
   "source": [
    "budget = int(re.findall(BUDGET_REGEX, box_contents)[0].replace(',', ''))"
   ]
  },
  {
   "cell_type": "code",
   "execution_count": 56,
   "metadata": {
    "collapsed": false,
    "deletable": true,
    "editable": true,
    "scrolled": true
   },
   "outputs": [
    {
     "data": {
      "text/plain": [
       "250000000"
      ]
     },
     "execution_count": 56,
     "metadata": {},
     "output_type": "execute_result"
    }
   ],
   "source": [
    "budget"
   ]
  },
  {
   "cell_type": "markdown",
   "metadata": {
    "deletable": true,
    "editable": true
   },
   "source": [
    "#### Opening Weekend"
   ]
  },
  {
   "cell_type": "code",
   "execution_count": 57,
   "metadata": {
    "collapsed": true,
    "deletable": true,
    "editable": true
   },
   "outputs": [],
   "source": [
    "from datetime import datetime"
   ]
  },
  {
   "cell_type": "code",
   "execution_count": 58,
   "metadata": {
    "collapsed": true,
    "deletable": true,
    "editable": true
   },
   "outputs": [],
   "source": [
    "OPEN_DATE_REGEX = r\"<h4.*>Opening Weekend:</h4>[\\s\\S]*?\\([A-Z]+\\)[\\s\\S]*?\\(([0-9a-zA-Z\\s]+)\\)[\\s\\S]*?<h4\""
   ]
  },
  {
   "cell_type": "code",
   "execution_count": 59,
   "metadata": {
    "collapsed": false,
    "deletable": true,
    "editable": true
   },
   "outputs": [],
   "source": [
    "open_date_str = re.findall(OPEN_DATE_REGEX, box_contents)[0]"
   ]
  },
  {
   "cell_type": "code",
   "execution_count": 60,
   "metadata": {
    "collapsed": false,
    "deletable": true,
    "editable": true
   },
   "outputs": [],
   "source": [
    "open_date = datetime.strptime(open_date_str, \"%d %B %Y\").date()"
   ]
  },
  {
   "cell_type": "code",
   "execution_count": 61,
   "metadata": {
    "collapsed": false,
    "deletable": true,
    "editable": true
   },
   "outputs": [
    {
     "data": {
      "text/plain": [
       "datetime.date(2015, 5, 1)"
      ]
     },
     "execution_count": 61,
     "metadata": {},
     "output_type": "execute_result"
    }
   ],
   "source": [
    "open_date"
   ]
  },
  {
   "cell_type": "code",
   "execution_count": 62,
   "metadata": {
    "collapsed": true,
    "deletable": true,
    "editable": true
   },
   "outputs": [],
   "source": [
    "OPEN_PROF_REGEX = r\"<h4.*>Opening Weekend:</h4>\\s*[\\$\\£]([0-9,]+)\""
   ]
  },
  {
   "cell_type": "code",
   "execution_count": 63,
   "metadata": {
    "collapsed": false,
    "deletable": true,
    "editable": true
   },
   "outputs": [],
   "source": [
    "opening_weekend_income = int(re.findall(OPEN_PROF_REGEX, box_contents)[0].replace(',', ''))"
   ]
  },
  {
   "cell_type": "code",
   "execution_count": 64,
   "metadata": {
    "collapsed": false,
    "deletable": true,
    "editable": true,
    "scrolled": true
   },
   "outputs": [
    {
     "data": {
      "text/plain": [
       "191271109"
      ]
     },
     "execution_count": 64,
     "metadata": {},
     "output_type": "execute_result"
    }
   ],
   "source": [
    "opening_weekend_income"
   ]
  },
  {
   "cell_type": "code",
   "execution_count": 65,
   "metadata": {
    "collapsed": true,
    "deletable": true,
    "editable": true
   },
   "outputs": [],
   "source": [
    "OPEN_PROF_CURRENCY_REGEX = r\"<h4.*>Opening Weekend:</h4>\\s*([\\$\\£])[0-9,]+\""
   ]
  },
  {
   "cell_type": "code",
   "execution_count": 66,
   "metadata": {
    "collapsed": false,
    "deletable": true,
    "editable": true
   },
   "outputs": [
    {
     "data": {
      "text/plain": [
       "'$'"
      ]
     },
     "execution_count": 66,
     "metadata": {},
     "output_type": "execute_result"
    }
   ],
   "source": [
    "opening_weekend_currency = re.findall(OPEN_PROF_CURRENCY_REGEX, box_contents)[0]\n",
    "opening_weekend_currency"
   ]
  },
  {
   "cell_type": "markdown",
   "metadata": {
    "deletable": true,
    "editable": true
   },
   "source": [
    "#### Gross"
   ]
  },
  {
   "cell_type": "code",
   "execution_count": 67,
   "metadata": {
    "collapsed": true,
    "deletable": true,
    "editable": true
   },
   "outputs": [],
   "source": [
    "GROSS_DATE_REGEX = r\"<h4.*>Gross:</h4>[\\s\\S]*?\\(USA\\)[\\s\\S]*?\\(([0-9a-zA-Z\\s]+)\\)\""
   ]
  },
  {
   "cell_type": "code",
   "execution_count": 68,
   "metadata": {
    "collapsed": false,
    "deletable": true,
    "editable": true
   },
   "outputs": [],
   "source": [
    "gross_date_str = re.findall(GROSS_DATE_REGEX, box_contents)[0]"
   ]
  },
  {
   "cell_type": "code",
   "execution_count": 69,
   "metadata": {
    "collapsed": false,
    "deletable": true,
    "editable": true
   },
   "outputs": [],
   "source": [
    "gross_date = datetime.strptime(gross_date_str, \"%d %B %Y\").date()"
   ]
  },
  {
   "cell_type": "code",
   "execution_count": 70,
   "metadata": {
    "collapsed": false,
    "deletable": true,
    "editable": true
   },
   "outputs": [
    {
     "data": {
      "text/plain": [
       "datetime.date(2015, 10, 2)"
      ]
     },
     "execution_count": 70,
     "metadata": {},
     "output_type": "execute_result"
    }
   ],
   "source": [
    "gross_date"
   ]
  },
  {
   "cell_type": "code",
   "execution_count": 71,
   "metadata": {
    "collapsed": true,
    "deletable": true,
    "editable": true
   },
   "outputs": [],
   "source": [
    "GROSS_REGEX = r\"<h4.*>Gross:</h4>\\s*\\$([0-9,]+)[\\s\\S]*?\\(USA\\)\""
   ]
  },
  {
   "cell_type": "code",
   "execution_count": 72,
   "metadata": {
    "collapsed": false,
    "deletable": true,
    "editable": true
   },
   "outputs": [],
   "source": [
    "gross = int(re.findall(GROSS_REGEX, box_contents)[0].replace(',', ''))"
   ]
  },
  {
   "cell_type": "code",
   "execution_count": 73,
   "metadata": {
    "collapsed": false,
    "deletable": true,
    "editable": true,
    "scrolled": true
   },
   "outputs": [
    {
     "data": {
      "text/plain": [
       "458991599"
      ]
     },
     "execution_count": 73,
     "metadata": {},
     "output_type": "execute_result"
    }
   ],
   "source": [
    "gross"
   ]
  },
  {
   "cell_type": "markdown",
   "metadata": {
    "deletable": true,
    "editable": true
   },
   "source": [
    "## Ratings page"
   ]
  },
  {
   "cell_type": "code",
   "execution_count": 77,
   "metadata": {
    "collapsed": false,
    "deletable": true,
    "editable": true
   },
   "outputs": [],
   "source": [
    "RATINGS_URL = 'http://www.imdb.com/title/{code}/ratings'\n",
    "cur_ratings_url = RATINGS_URL.format(code=movie_code)\n",
    "ratings_page = bs(urllib.request.urlopen(cur_ratings_url), \"html.parser\")"
   ]
  },
  {
   "cell_type": "code",
   "execution_count": 78,
   "metadata": {
    "collapsed": false,
    "deletable": true,
    "editable": true
   },
   "outputs": [],
   "source": [
    "tables = ratings_page.find_all(\"table\")"
   ]
  },
  {
   "cell_type": "code",
   "execution_count": 79,
   "metadata": {
    "collapsed": true,
    "deletable": true,
    "editable": true
   },
   "outputs": [],
   "source": [
    "def extract_table(table):\n",
    "    content = []\n",
    "    for row in table.find_all(\"tr\")[1:]:\n",
    "        content.append([td.get_text() for td in row.find_all(\"td\")])\n",
    "    return content"
   ]
  },
  {
   "cell_type": "markdown",
   "metadata": {
    "deletable": true,
    "editable": true
   },
   "source": [
    "### Rating Frequency"
   ]
  },
  {
   "cell_type": "code",
   "execution_count": 80,
   "metadata": {
    "collapsed": false,
    "deletable": true,
    "editable": true
   },
   "outputs": [],
   "source": [
    "hist_table = tables[0]"
   ]
  },
  {
   "cell_type": "code",
   "execution_count": 81,
   "metadata": {
    "collapsed": false,
    "deletable": true,
    "editable": true
   },
   "outputs": [],
   "source": [
    "hist_content = extract_table(hist_table)"
   ]
  },
  {
   "cell_type": "code",
   "execution_count": 82,
   "metadata": {
    "collapsed": false,
    "deletable": true,
    "editable": true
   },
   "outputs": [
    {
     "data": {
      "text/plain": [
       "{1: 7727,\n",
       " 2: 3058,\n",
       " 3: 4656,\n",
       " 4: 8702,\n",
       " 5: 21639,\n",
       " 6: 57665,\n",
       " 7: 124766,\n",
       " 8: 131974,\n",
       " 9: 70569,\n",
       " 10: 71158}"
      ]
     },
     "execution_count": 82,
     "metadata": {},
     "output_type": "execute_result"
    }
   ],
   "source": [
    "rating_freq = {}\n",
    "for row in hist_content:\n",
    "    rating_freq[int(row[2])] = int(row[0])\n",
    "rating_freq"
   ]
  },
  {
   "cell_type": "markdown",
   "metadata": {
    "deletable": true,
    "editable": true
   },
   "source": [
    "### Demographic breakdown"
   ]
  },
  {
   "cell_type": "code",
   "execution_count": 83,
   "metadata": {
    "collapsed": false,
    "deletable": true,
    "editable": true
   },
   "outputs": [
    {
     "data": {
      "text/plain": [
       "[[' Males ', '\\xa0318966', '\\xa07.4'],\n",
       " [' Females ', '\\xa059366', '\\xa07.7'],\n",
       " [' Aged under 18 ', '\\xa04587', '\\xa07.9'],\n",
       " [' Males under 18 ', '\\xa03560', '\\xa07.8'],\n",
       " [' Females under 18 ', '\\xa0993', '\\xa08.5'],\n",
       " [' Aged 18-29 ', '\\xa0191661', '\\xa07.5'],\n",
       " [' Males Aged 18-29 ', '\\xa0156378', '\\xa07.5'],\n",
       " [' Females Aged 18-29 ', '\\xa033357', '\\xa07.7'],\n",
       " [' Aged 30-44 ', '\\xa0128797', '\\xa07.3'],\n",
       " [' Males Aged 30-44 ', '\\xa0110998', '\\xa07.2'],\n",
       " [' Females Aged 30-44 ', '\\xa015930', '\\xa07.5'],\n",
       " [' Aged 45+ ', '\\xa023475', '\\xa07.3'],\n",
       " [' Males Aged 45+ ', '\\xa019628', '\\xa07.3'],\n",
       " [' Females Aged 45+ ', '\\xa03428', '\\xa07.5'],\n",
       " [' IMDb staff ', '\\xa042', '\\xa07.1'],\n",
       " [' Top 1000 voters ', '\\xa0641', '\\xa06.7'],\n",
       " [' US users ', '\\xa058752', '\\xa07.5'],\n",
       " [' Non-US users ', '\\xa0192773', '\\xa07.3'],\n",
       " ['\\xa0'],\n",
       " [' IMDb users                         ', '\\xa0501914', '\\xa07.4']]"
      ]
     },
     "execution_count": 83,
     "metadata": {},
     "output_type": "execute_result"
    }
   ],
   "source": [
    "demog_table = tables[1]\n",
    "demog_content = extract_table(demog_table)\n",
    "demog_content"
   ]
  },
  {
   "cell_type": "code",
   "execution_count": 84,
   "metadata": {
    "collapsed": true,
    "deletable": true,
    "editable": true
   },
   "outputs": [],
   "source": [
    "votes_per_demo = {}\n",
    "avg_rating_per_demo = {}"
   ]
  },
  {
   "cell_type": "code",
   "execution_count": 85,
   "metadata": {
    "collapsed": false,
    "deletable": true,
    "editable": true,
    "scrolled": false
   },
   "outputs": [
    {
     "name": "stdout",
     "output_type": "stream",
     "text": [
      "{'Top 1000 voters': 641, 'Females under 18': 993, 'Non-US users': 192773, 'Females Aged 30-44': 15930, 'Males Aged 45+': 19628, 'Males Aged 18-29': 156378, 'US users': 58752, 'Females Aged 45+': 3428, 'IMDb staff': 42, 'Males Aged 30-44': 110998, 'Females': 59366, 'Aged 30-44': 128797, 'IMDb users': 501914, 'Males under 18': 3560, 'Males': 318966, 'Aged under 18': 4587, 'Aged 45+': 23475, 'Aged 18-29': 191661, 'Females Aged 18-29': 33357}\n",
      "{'Top 1000 voters': 6.7, 'Females under 18': 8.5, 'Non-US users': 7.3, 'Females Aged 30-44': 7.5, 'Males Aged 45+': 7.3, 'Males Aged 18-29': 7.5, 'US users': 7.5, 'Females Aged 45+': 7.5, 'IMDb staff': 7.1, 'Males Aged 30-44': 7.2, 'Females': 7.7, 'Aged 30-44': 7.3, 'IMDb users': 7.4, 'Males under 18': 7.8, 'Males': 7.4, 'Aged under 18': 7.9, 'Aged 45+': 7.3, 'Aged 18-29': 7.5, 'Females Aged 18-29': 7.7}\n"
     ]
    }
   ],
   "source": [
    "for row in demog_content:\n",
    "    try:\n",
    "        votes_per_demo[row[0].strip()] = int(row[1])\n",
    "        avg_rating_per_demo[row[0].strip()] = float(row[2])\n",
    "    except IndexError:\n",
    "        pass\n",
    "print(votes_per_demo)\n",
    "print(avg_rating_per_demo)"
   ]
  },
  {
   "cell_type": "markdown",
   "metadata": {
    "deletable": true,
    "editable": true
   },
   "source": [
    "## Business page"
   ]
  },
  {
   "cell_type": "code",
   "execution_count": 86,
   "metadata": {
    "collapsed": false,
    "deletable": true,
    "editable": true
   },
   "outputs": [],
   "source": [
    "BUSINESS_URL = 'http://www.imdb.com/title/{code}/business'\n",
    "cur_business_url = BUSINESS_URL.format(code=movie_code)\n",
    "busi_page = bs(urllib.request.urlopen(cur_business_url), \"html.parser\")\n",
    "busi_str = str(busi_page)"
   ]
  },
  {
   "cell_type": "code",
   "execution_count": 87,
   "metadata": {
    "collapsed": true,
    "deletable": true,
    "editable": true
   },
   "outputs": [],
   "source": [
    "# #### Budget\n",
    "# BUDGET_REGEX = r\"<h5>Budget</h5>\\n\\s*\\$([0-9,]+)\"\n",
    "# budget_dollar = int(re.findall(BUDGET_REGEX, busi_str)[0].replace(',', ''))"
   ]
  },
  {
   "cell_type": "markdown",
   "metadata": {
    "deletable": true,
    "editable": true
   },
   "source": [
    "#### Number of screens (weekends)"
   ]
  },
  {
   "cell_type": "code",
   "execution_count": 88,
   "metadata": {
    "collapsed": false,
    "deletable": true,
    "editable": true
   },
   "outputs": [
    {
     "data": {
      "text/plain": [
       "'\\n$41,047 (USA) (<a href=\"/date/10-04/\">4 October</a> <a href=\"/year/2015/\">2015</a>) (86 Screens)<br/>$88,796 (USA) (<a href=\"/date/09-27/\">27 September</a> <a href=\"/year/2015/\">2015</a>) (130 Screens)<br/>$142,184 (USA) (<a href=\"/date/09-20/\">20 September</a> <a href=\"/year/2015/\">2015</a>) (170 Screens)<br/>$195,764 (USA) (<a href=\"/date/09-13/\">13 September</a> <a href=\"/year/2015/\">2015</a>) (190 Screens)<br/>$214,741 (USA) (<a href=\"/date/08-30/\">30 August</a> <a href=\"/year/2015/\">2015</a>) (237 Screens)<br/>$80,867 (USA) (<a href=\"/date/08-23/\">23 August</a> <a href=\"/year/2015/\">2015</a>) (91 Screens)<br/>$121,941 (USA) (<a href=\"/date/08-09/\">9 August</a> <a href=\"/year/2015/\">2015</a>) (126 Screens)<br/>$168,683 (USA) (<a href=\"/date/08-02/\">2 August</a> <a href=\"/year/2015/\">2015</a>) (214 Screens)<br/>$468,050 (USA) (<a href=\"/date/07-19/\">19 July</a> <a href=\"/year/2015/\">2015</a>) (292 Screens)<br/>$852,000 (USA) (<a href=\"/date/07-05/\">5 July</a> <a href=\"/year/2015/\">2015</a>) (589 Screens)<br/>$1,688,938 (USA) (<a href=\"/date/06-28/\">28 June</a> <a href=\"/year/2015/\">2015</a>) (1,097 Screens)<br/>$2,847,404 (USA) (<a href=\"/date/06-21/\">21 June</a> <a href=\"/year/2015/\">2015</a>) (1,662 Screens)<br/>$3,641,000 (USA) (<a href=\"/date/06-14/\">14 June</a> <a href=\"/year/2015/\">2015</a>) (2,156 Screens)<br/>$6,339,663 (USA) (<a href=\"/date/06-07/\">7 June</a> <a href=\"/year/2015/\">2015</a>) (2,471 Screens)<br/>$11,401,402 (USA) (<a href=\"/date/05-31/\">31 May</a> <a href=\"/year/2015/\">2015</a>) (3,228 Screens)<br/>$21,691,000 (USA) (<a href=\"/date/05-24/\">24 May</a> <a href=\"/year/2015/\">2015</a>) (3,727 Screens)<br/>$38,837,000 (USA) (<a href=\"/date/05-17/\">17 May</a> <a href=\"/year/2015/\">2015</a>) (4,276 Screens)<br/>$77,746,929 (USA) (<a href=\"/date/05-10/\">10 May</a> <a href=\"/year/2015/\">2015</a>) (4,276 Screens)<br/>$191,271,109 (USA) (<a href=\"/date/05-03/\">3 May</a> <a href=\"/year/2015/\">2015</a>) (4,276 Screens)<br/>\\n<br/>\\n'"
      ]
     },
     "execution_count": 88,
     "metadata": {},
     "output_type": "execute_result"
    }
   ],
   "source": [
    "WEEKEND_CONTENT_REGEX = r\"<h5>Weekend Gross</h5>([\\s\\S]+?)<h5>\"\n",
    "weekend_contents = re.findall(WEEKEND_CONTENT_REGEX, busi_str)[0]\n",
    "weekend_contents"
   ]
  },
  {
   "cell_type": "code",
   "execution_count": 89,
   "metadata": {
    "collapsed": false,
    "deletable": true,
    "editable": true
   },
   "outputs": [
    {
     "data": {
      "text/plain": [
       "[86,\n",
       " 130,\n",
       " 170,\n",
       " 190,\n",
       " 237,\n",
       " 91,\n",
       " 126,\n",
       " 214,\n",
       " 292,\n",
       " 589,\n",
       " 1097,\n",
       " 1662,\n",
       " 2156,\n",
       " 2471,\n",
       " 3228,\n",
       " 3727,\n",
       " 4276,\n",
       " 4276,\n",
       " 4276]"
      ]
     },
     "execution_count": 89,
     "metadata": {},
     "output_type": "execute_result"
    }
   ],
   "source": [
    "US_OPEN_WEEKEND_REGEX = r\"\\$[\\s\\S]*?\\(USA\\)[\\s\\S]*?\\(([0-9,]*) Screens\\)\"\n",
    "num_screens_list = [int(match.replace(',','')) for match in re.findall(US_OPEN_WEEKEND_REGEX, weekend_contents)]\n",
    "num_screens_list"
   ]
  },
  {
   "cell_type": "code",
   "execution_count": 113,
   "metadata": {
    "collapsed": false
   },
   "outputs": [
    {
     "data": {
      "text/plain": [
       "[4276,\n",
       " 4276,\n",
       " 4276,\n",
       " 3727,\n",
       " 3228,\n",
       " 2471,\n",
       " 2156,\n",
       " 1662,\n",
       " 1097,\n",
       " 589,\n",
       " 292,\n",
       " 214,\n",
       " 126,\n",
       " 91,\n",
       " 237,\n",
       " 190,\n",
       " 170,\n",
       " 130,\n",
       " 86]"
      ]
     },
     "execution_count": 113,
     "metadata": {},
     "output_type": "execute_result"
    }
   ],
   "source": [
    "[v for v in reversed(num_screens_list)]"
   ]
  },
  {
   "cell_type": "code",
   "execution_count": 90,
   "metadata": {
    "collapsed": true,
    "deletable": true,
    "editable": true
   },
   "outputs": [],
   "source": [
    "import math"
   ]
  },
  {
   "cell_type": "code",
   "execution_count": 91,
   "metadata": {
    "collapsed": false,
    "deletable": true,
    "editable": true,
    "scrolled": true
   },
   "outputs": [],
   "source": [
    "max_screens = max(num_screens_list)\n",
    "avg_screens = sum(num_screens_list) / len(num_screens_list)\n",
    "num_weekends = len(num_screens_list)"
   ]
  },
  {
   "cell_type": "code",
   "execution_count": 92,
   "metadata": {
    "collapsed": true,
    "deletable": true,
    "editable": true
   },
   "outputs": [],
   "source": [
    "# ### Gross Earnings\n",
    "# GROSS_CONTENT_REGEX = r\"<h5>Gross</h5>([\\s\\S]+?)<h5>\"\n",
    "# gross_contents = re.findall(GROSS_CONTENT_REGEX, busi_str)[0]\n",
    "# GROSS_REGEX = r\"<h5>Gross</h5>\\n\\s*\\$([0-9,]+)\\s*\\(USA\\)\"\n",
    "# gross_inc_dollar = int(re.findall(GROSS_REGEX, busi_str)[0].replace(',', ''))"
   ]
  },
  {
   "cell_type": "markdown",
   "metadata": {
    "deletable": true,
    "editable": true
   },
   "source": [
    "## Release Info Page"
   ]
  },
  {
   "cell_type": "code",
   "execution_count": 93,
   "metadata": {
    "collapsed": false,
    "deletable": true,
    "editable": true
   },
   "outputs": [],
   "source": [
    "RELEASE_URL = 'http://www.imdb.com/title/{code}/releaseinfo'\n",
    "cur_release_url = RELEASE_URL.format(code=movie_code)\n",
    "release_page = bs(urllib.request.urlopen(cur_release_url), \"html.parser\")"
   ]
  },
  {
   "cell_type": "code",
   "execution_count": 94,
   "metadata": {
    "collapsed": false,
    "deletable": true,
    "editable": true
   },
   "outputs": [],
   "source": [
    "release_table = release_page.find_all(\"table\", {\"id\": \"release_dates\"})[0]"
   ]
  },
  {
   "cell_type": "code",
   "execution_count": 95,
   "metadata": {
    "collapsed": false,
    "deletable": true,
    "editable": true
   },
   "outputs": [],
   "source": [
    "us_rows = []\n",
    "for row in release_table.find_all(\"tr\")[1:]:\n",
    "    row_str = str(row)\n",
    "    if 'USA' in row_str:\n",
    "        us_rows.append(row_str)"
   ]
  },
  {
   "cell_type": "code",
   "execution_count": 96,
   "metadata": {
    "collapsed": true,
    "deletable": true,
    "editable": true
   },
   "outputs": [],
   "source": [
    "USA_ROW_REGEX = \"<tr[\\s\\S]*?USA[\\s\\S]*?(\\d\\d?)\\s+([a-zA-Z]+)[\\s\\S]*?(\\d\\d\\d\\d)[\\s\\S]*?<td></td>[\\s\\S]*?</tr>\""
   ]
  },
  {
   "cell_type": "code",
   "execution_count": 97,
   "metadata": {
    "collapsed": true,
    "deletable": true,
    "editable": true
   },
   "outputs": [],
   "source": [
    "for row in us_rows:\n",
    "    if re.match(USA_ROW_REGEX, row):\n",
    "        release = re.findall(USA_ROW_REGEX, row)[0]\n",
    "        release_day = int(release[0])\n",
    "        release_month = release[1]\n",
    "        release_year = int(release[2])"
   ]
  },
  {
   "cell_type": "code",
   "execution_count": 98,
   "metadata": {
    "collapsed": false,
    "deletable": true,
    "editable": true
   },
   "outputs": [
    {
     "data": {
      "text/plain": [
       "1"
      ]
     },
     "execution_count": 98,
     "metadata": {},
     "output_type": "execute_result"
    }
   ],
   "source": [
    "release_day"
   ]
  },
  {
   "cell_type": "code",
   "execution_count": 99,
   "metadata": {
    "collapsed": false,
    "deletable": true,
    "editable": true
   },
   "outputs": [
    {
     "data": {
      "text/plain": [
       "'May'"
      ]
     },
     "execution_count": 99,
     "metadata": {},
     "output_type": "execute_result"
    }
   ],
   "source": [
    "release_month"
   ]
  },
  {
   "cell_type": "code",
   "execution_count": 100,
   "metadata": {
    "collapsed": false,
    "deletable": true,
    "editable": true
   },
   "outputs": [
    {
     "data": {
      "text/plain": [
       "2015"
      ]
     },
     "execution_count": 100,
     "metadata": {},
     "output_type": "execute_result"
    }
   ],
   "source": [
    "release_year"
   ]
  },
  {
   "cell_type": "markdown",
   "metadata": {
    "deletable": true,
    "editable": true
   },
   "source": [
    "## Reviews Page"
   ]
  },
  {
   "cell_type": "code",
   "execution_count": 101,
   "metadata": {
    "collapsed": true,
    "deletable": true,
    "editable": true
   },
   "outputs": [],
   "source": [
    "from datetime import datetime"
   ]
  },
  {
   "cell_type": "code",
   "execution_count": 105,
   "metadata": {
    "collapsed": false,
    "deletable": true,
    "editable": true
   },
   "outputs": [],
   "source": [
    "_REVIEWS_URL = 'http://www.imdb.com/title/{code}/reviews-index?start=0;count=9999'\n",
    "cur_reviews_url = _REVIEWS_URL.format(code=movie_code)\n",
    "reviews_page = bs(urllib.request.urlopen(cur_reviews_url), \"html.parser\")"
   ]
  },
  {
   "cell_type": "code",
   "execution_count": 106,
   "metadata": {
    "collapsed": false,
    "deletable": true,
    "editable": true
   },
   "outputs": [],
   "source": [
    "reviews = reviews_page.find_all(\"td\", {\"class\": \"comment-summary\"})"
   ]
  },
  {
   "cell_type": "code",
   "execution_count": 107,
   "metadata": {
    "collapsed": true,
    "deletable": true,
    "editable": true
   },
   "outputs": [],
   "source": [
    "_USER_REVIEW_RATING_REGEX = r\"alt=\\\"(\\d|10)/10\""
   ]
  },
  {
   "cell_type": "code",
   "execution_count": 108,
   "metadata": {
    "collapsed": true,
    "deletable": true,
    "editable": true
   },
   "outputs": [],
   "source": [
    "user_reviews = []"
   ]
  },
  {
   "cell_type": "code",
   "execution_count": 109,
   "metadata": {
    "collapsed": false,
    "deletable": true,
    "editable": true
   },
   "outputs": [],
   "source": [
    "for review in reviews:\n",
    "    try:\n",
    "        rating = int(re.findall(_USER_REVIEW_RATING_REGEX, str(review))[0])\n",
    "        date = datetime.strptime(re.findall(r\"on (\\d{1,2} [a-zA-Z]+ \\d{4})\", str(review))[0], \"%d %B %Y\").date()\n",
    "        contents = review.find_all('a', href=re.compile(r'reviews.+?'))[0].contents[0]\n",
    "        user = review.find_all('a', href=re.compile(r'/user/.+?'))[1].contents[0]\n",
    "        user_reviews.append({'rating': rating, 'date': date, 'contents': contents, 'user': user})\n",
    "    except Exception:\n",
    "        pass"
   ]
  },
  {
   "cell_type": "code",
   "execution_count": 110,
   "metadata": {
    "collapsed": false,
    "deletable": true,
    "editable": true
   },
   "outputs": [
    {
     "data": {
      "text/plain": [
       "1088"
      ]
     },
     "execution_count": 110,
     "metadata": {},
     "output_type": "execute_result"
    }
   ],
   "source": [
    "len(user_reviews)"
   ]
  },
  {
   "cell_type": "markdown",
   "metadata": {
    "collapsed": true,
    "deletable": true,
    "editable": true
   },
   "source": [
    "# Uniting Dataframes"
   ]
  },
  {
   "cell_type": "code",
   "execution_count": null,
   "metadata": {
    "collapsed": true,
    "deletable": true,
    "editable": true
   },
   "outputs": [],
   "source": [
    "import pandas as pd"
   ]
  },
  {
   "cell_type": "code",
   "execution_count": null,
   "metadata": {
    "collapsed": true,
    "deletable": true,
    "editable": true
   },
   "outputs": [],
   "source": [
    "df = pd.read_csv('/Users/shaypalachy/clones/rotten_needles/data/movie_profiles.csv')"
   ]
  },
  {
   "cell_type": "code",
   "execution_count": null,
   "metadata": {
    "collapsed": false,
    "deletable": true,
    "editable": true
   },
   "outputs": [],
   "source": [
    "df.columns"
   ]
  },
  {
   "cell_type": "code",
   "execution_count": null,
   "metadata": {
    "collapsed": true,
    "deletable": true,
    "editable": true
   },
   "outputs": [],
   "source": [
    "import os\n",
    "from rotten_needles.imdb_crawl.jsondate import (load, dump)"
   ]
  },
  {
   "cell_type": "code",
   "execution_count": null,
   "metadata": {
    "collapsed": false,
    "deletable": true,
    "editable": true
   },
   "outputs": [],
   "source": [
    "profiles = []\n",
    "for profile_file in os.listdir('/Users/shaypalachy/clones/rotten_needles/data/movie_profiles'):\n",
    "    print('Reading {}'.format(profile_file))\n",
    "    file_path = os.path.join('/Users/shaypalachy/clones/rotten_needles/data/movie_profiles', profile_file)\n",
    "    with open(file_path, 'r') as json_file:\n",
    "        profiles.append(load(json_file))\n",
    "df = pd.DataFrame(profiles)"
   ]
  },
  {
   "cell_type": "code",
   "execution_count": null,
   "metadata": {
    "collapsed": false,
    "deletable": true,
    "editable": true,
    "scrolled": true
   },
   "outputs": [],
   "source": [
    "df.ix[0]"
   ]
  },
  {
   "cell_type": "code",
   "execution_count": null,
   "metadata": {
    "collapsed": true,
    "deletable": true,
    "editable": true
   },
   "outputs": [],
   "source": [
    "DEMOGRAPHICS = ['Aged under 18', 'Males under 18', 'Males Aged 45+', 'Females', 'Males Aged 18-29', 'IMDb staff', 'IMDb users', 'Males', 'Aged 30-44', 'Females Aged 45+', 'Aged 18-29', 'Females Aged 18-29', 'Aged 45+', 'Males Aged 30-44', 'Top 1000 voters', 'Females under 18', 'Females Aged 30-44', 'US users', 'Non-US users']"
   ]
  },
  {
   "cell_type": "code",
   "execution_count": null,
   "metadata": {
    "collapsed": true,
    "deletable": true,
    "editable": true
   },
   "outputs": [],
   "source": [
    "DEMOGRAPHICS = ['aged_under_18',\n",
    " 'males_under_18',\n",
    " 'males_aged_45+',\n",
    " 'females',\n",
    " 'males_aged_18-29',\n",
    " 'imdb_staff',\n",
    " 'imdb_users',\n",
    " 'males',\n",
    " 'aged_30-44',\n",
    " 'females_aged_45+',\n",
    " 'aged_18-29',\n",
    " 'females_aged_18-29',\n",
    " 'aged_45+',\n",
    " 'males_aged_30-44',\n",
    " 'top_1000_voters',\n",
    " 'females_under_18',\n",
    " 'females_aged_30-44',\n",
    " 'us_users',\n",
    " 'non-us_users']"
   ]
  },
  {
   "cell_type": "code",
   "execution_count": null,
   "metadata": {
    "collapsed": true,
    "deletable": true,
    "editable": true
   },
   "outputs": [],
   "source": [
    "def _parse_string(string):\n",
    "    return string.lower().strip().replace(' ', '_')"
   ]
  },
  {
   "cell_type": "code",
   "execution_count": null,
   "metadata": {
    "collapsed": false,
    "deletable": true,
    "editable": true
   },
   "outputs": [],
   "source": [
    "def decompose_dict_column(df, colname, allowed_cols):\n",
    "    newdf = df[colname].apply(pd.Series)\n",
    "    newdf = newdf.drop([col for col in newdf.columns if col not in allowed_cols], axis=1)\n",
    "    newdf.columns = [colname+'.'+col for col in newdf.columns]\n",
    "    return pd.concat([df.drop([colname], axis=1), newdf], axis=1)"
   ]
  },
  {
   "cell_type": "code",
   "execution_count": null,
   "metadata": {
    "collapsed": false,
    "deletable": true,
    "editable": true,
    "scrolled": false
   },
   "outputs": [],
   "source": [
    "decompose_dict_column(df, 'avg_rating_per_demo', DEMOGRAPHICS);"
   ]
  },
  {
   "cell_type": "code",
   "execution_count": null,
   "metadata": {
    "collapsed": true,
    "deletable": true,
    "editable": true
   },
   "outputs": [],
   "source": [
    "decompose_dict_column(df, 'votes_per_demo', DEMOGRAPHICS);"
   ]
  },
  {
   "cell_type": "code",
   "execution_count": null,
   "metadata": {
    "collapsed": false,
    "deletable": true,
    "editable": true
   },
   "outputs": [],
   "source": [
    "decompose_dict_column(df, 'rating_freq', [str(i) for i in range(1,11)])"
   ]
  },
  {
   "cell_type": "code",
   "execution_count": null,
   "metadata": {
    "collapsed": false,
    "deletable": true,
    "editable": true
   },
   "outputs": [],
   "source": [
    "genre_set = set([genre for genre_list in df.genres.dropna() for genre in genre_list])\n",
    "genre_set"
   ]
  },
  {
   "cell_type": "code",
   "execution_count": null,
   "metadata": {
    "collapsed": false,
    "deletable": true,
    "editable": true
   },
   "outputs": [],
   "source": [
    "def dummy_list_column(df, colname):\n",
    "    value_set = set([value for value_list in df[colname].dropna() for value in value_list])\n",
    "    def value_list_to_dict(value_list):\n",
    "        try:\n",
    "            return {value : 1 if value in value_list else 0 for value in value_set}\n",
    "        except TypeError:\n",
    "            return {value : 0 for value in value_set}\n",
    "    df[colname] = df[colname].apply(value_list_to_dict)\n",
    "    return decompose_dict_column(df, colname, list(value_set))"
   ]
  },
  {
   "cell_type": "code",
   "execution_count": null,
   "metadata": {
    "collapsed": false,
    "deletable": true,
    "editable": true
   },
   "outputs": [],
   "source": [
    "dummy_list_column(df, 'genres')"
   ]
  },
  {
   "cell_type": "code",
   "execution_count": null,
   "metadata": {
    "collapsed": true,
    "deletable": true,
    "editable": true
   },
   "outputs": [],
   "source": [
    "df.replace?"
   ]
  },
  {
   "cell_type": "code",
   "execution_count": null,
   "metadata": {
    "collapsed": false,
    "deletable": true,
    "editable": true
   },
   "outputs": [],
   "source": [
    "df['genres'] = df['genres'].apply(genre_list_to_dict)"
   ]
  },
  {
   "cell_type": "code",
   "execution_count": null,
   "metadata": {
    "collapsed": true,
    "deletable": true,
    "editable": true
   },
   "outputs": [],
   "source": []
  }
 ],
 "metadata": {
  "anaconda-cloud": {},
  "kernelspec": {
   "display_name": "conda [ds]",
   "language": "python",
   "name": "python3"
  },
  "language_info": {
   "codemirror_mode": {
    "name": "ipython",
    "version": 3
   },
   "file_extension": ".py",
   "mimetype": "text/x-python",
   "name": "python",
   "nbconvert_exporter": "python",
   "pygments_lexer": "ipython3",
   "version": "3.5.3"
  }
 },
 "nbformat": 4,
 "nbformat_minor": 1
}
