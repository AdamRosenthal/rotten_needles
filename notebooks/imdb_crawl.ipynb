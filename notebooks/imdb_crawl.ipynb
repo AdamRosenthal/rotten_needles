{
 "cells": [
  {
   "cell_type": "markdown",
   "metadata": {},
   "source": [
    "# IMDB Crawler"
   ]
  },
  {
   "cell_type": "code",
   "execution_count": 1,
   "metadata": {
    "collapsed": true
   },
   "outputs": [],
   "source": [
    "from urllib.request import urlopen\n",
    "from bs4 import BeautifulSoup as bs"
   ]
  },
  {
   "cell_type": "markdown",
   "metadata": {},
   "source": [
    "## Search"
   ]
  },
  {
   "cell_type": "code",
   "execution_count": 2,
   "metadata": {
    "collapsed": true
   },
   "outputs": [],
   "source": [
    "TITLE_QUERY = (\n",
    "    'http://www.imdb.com/find'\n",
    "    '?q={title}&s=tt&ttype=ft&exact=true&ref_=fn_tt_ex'\n",
    ")"
   ]
  },
  {
   "cell_type": "code",
   "execution_count": 3,
   "metadata": {
    "collapsed": true
   },
   "outputs": [],
   "source": [
    "movie_name=\"The Matrix\""
   ]
  },
  {
   "cell_type": "code",
   "execution_count": 4,
   "metadata": {
    "collapsed": true
   },
   "outputs": [],
   "source": [
    "def convert_title(title):\n",
    "    return title.replace(' ', '%20').lower()"
   ]
  },
  {
   "cell_type": "code",
   "execution_count": 5,
   "metadata": {
    "collapsed": false
   },
   "outputs": [
    {
     "data": {
      "text/plain": [
       "'the%20matrix'"
      ]
     },
     "execution_count": 5,
     "metadata": {},
     "output_type": "execute_result"
    }
   ],
   "source": [
    "convert_title(movie_name)"
   ]
  },
  {
   "cell_type": "code",
   "execution_count": 6,
   "metadata": {
    "collapsed": true
   },
   "outputs": [],
   "source": [
    "query = TITLE_QUERY.format(title=convert_title(movie_name))\n",
    "search_res = bs(urlopen(query), \"html.parser\")"
   ]
  },
  {
   "cell_type": "code",
   "execution_count": 7,
   "metadata": {
    "collapsed": false
   },
   "outputs": [],
   "source": [
    "res_table = search_res.find_all(\"table\", {\"class\": \"findList\"})[0]"
   ]
  },
  {
   "cell_type": "code",
   "execution_count": 8,
   "metadata": {
    "collapsed": false
   },
   "outputs": [],
   "source": [
    "first_row = res_table.find_all(\"tr\")[0]"
   ]
  },
  {
   "cell_type": "markdown",
   "metadata": {},
   "source": [
    "### Extracting the movie code"
   ]
  },
  {
   "cell_type": "code",
   "execution_count": 9,
   "metadata": {
    "collapsed": true
   },
   "outputs": [],
   "source": [
    "import re"
   ]
  },
  {
   "cell_type": "code",
   "execution_count": 10,
   "metadata": {
    "collapsed": true
   },
   "outputs": [],
   "source": [
    "MOVIE_CODE_REGEX = r'/title/([a-z0-9]+)/'"
   ]
  },
  {
   "cell_type": "code",
   "execution_count": 11,
   "metadata": {
    "collapsed": false
   },
   "outputs": [],
   "source": [
    "MOVIE_CODE = re.findall(MOVIE_CODE_REGEX, str(first_row))[0]"
   ]
  },
  {
   "cell_type": "code",
   "execution_count": 12,
   "metadata": {
    "collapsed": false
   },
   "outputs": [
    {
     "data": {
      "text/plain": [
       "'tt0133093'"
      ]
     },
     "execution_count": 12,
     "metadata": {},
     "output_type": "execute_result"
    }
   ],
   "source": [
    "MOVIE_CODE"
   ]
  },
  {
   "cell_type": "markdown",
   "metadata": {},
   "source": [
    "## Movie Profile"
   ]
  },
  {
   "cell_type": "code",
   "execution_count": 137,
   "metadata": {
    "collapsed": true
   },
   "outputs": [],
   "source": [
    "PROFILE_URL = 'http://www.imdb.com/title/{code}/' #?region=us"
   ]
  },
  {
   "cell_type": "code",
   "execution_count": 138,
   "metadata": {
    "collapsed": true
   },
   "outputs": [],
   "source": [
    "cur_profile_url = PROFILE_URL.format(code=MOVIE_CODE)"
   ]
  },
  {
   "cell_type": "code",
   "execution_count": 139,
   "metadata": {
    "collapsed": false
   },
   "outputs": [],
   "source": [
    "prof_page = bs(urlopen(cur_profile_url), \"html.parser\")"
   ]
  },
  {
   "cell_type": "markdown",
   "metadata": {},
   "source": [
    "### Rating"
   ]
  },
  {
   "cell_type": "code",
   "execution_count": 16,
   "metadata": {
    "collapsed": false
   },
   "outputs": [],
   "source": [
    "rating = float(prof_page.find_all(\"span\", {\"itemprop\": \"ratingValue\"})[0].contents[0])"
   ]
  },
  {
   "cell_type": "code",
   "execution_count": 64,
   "metadata": {
    "collapsed": false
   },
   "outputs": [],
   "source": [
    "rating_count = int(prof_page.find_all(\"span\", {\"itemprop\": \"ratingCount\"})[0].contents[0].replace(',', ''))"
   ]
  },
  {
   "cell_type": "markdown",
   "metadata": {},
   "source": [
    "### Genres"
   ]
  },
  {
   "cell_type": "code",
   "execution_count": 131,
   "metadata": {
    "collapsed": true
   },
   "outputs": [],
   "source": [
    "genres = []"
   ]
  },
  {
   "cell_type": "code",
   "execution_count": 132,
   "metadata": {
    "collapsed": false
   },
   "outputs": [],
   "source": [
    "for span in prof_page.find_all(\"span\", {\"itemprop\": \"genre\"}):\n",
    "    genres.append(span.contents[0])"
   ]
  },
  {
   "cell_type": "code",
   "execution_count": 133,
   "metadata": {
    "collapsed": false
   },
   "outputs": [
    {
     "data": {
      "text/plain": [
       "['Action', 'Sci-Fi']"
      ]
     },
     "execution_count": 133,
     "metadata": {},
     "output_type": "execute_result"
    }
   ],
   "source": [
    "genres"
   ]
  },
  {
   "cell_type": "markdown",
   "metadata": {},
   "source": [
    "### Review counts"
   ]
  },
  {
   "cell_type": "code",
   "execution_count": 72,
   "metadata": {
    "collapsed": true
   },
   "outputs": [],
   "source": [
    "REVIEW_COUNT_REGEX = r'([0-9,]+) ([a-zA-Z]+)'"
   ]
  },
  {
   "cell_type": "code",
   "execution_count": 78,
   "metadata": {
    "collapsed": true
   },
   "outputs": [],
   "source": [
    "user_review_count = 0\n",
    "critic_review_count = 0"
   ]
  },
  {
   "cell_type": "code",
   "execution_count": 87,
   "metadata": {
    "collapsed": false,
    "scrolled": true
   },
   "outputs": [],
   "source": [
    "for span in prof_page.find_all(\"span\", {\"itemprop\": \"reviewCount\"}):\n",
    "    span_str = span.contents[0]\n",
    "    res = re.findall(REVIEW_COUNT_REGEX, span_str)[0]\n",
    "    if res[1] == 'user':\n",
    "        user_review_count = int(res[0].replace(',', ''))\n",
    "    elif res[1] == 'critic':\n",
    "        critic_review_count = int(res[0].replace(',', ''))"
   ]
  },
  {
   "cell_type": "code",
   "execution_count": 88,
   "metadata": {
    "collapsed": false
   },
   "outputs": [
    {
     "data": {
      "text/plain": [
       "3673"
      ]
     },
     "execution_count": 88,
     "metadata": {},
     "output_type": "execute_result"
    }
   ],
   "source": [
    "user_review_count"
   ]
  },
  {
   "cell_type": "code",
   "execution_count": 89,
   "metadata": {
    "collapsed": false
   },
   "outputs": [
    {
     "data": {
      "text/plain": [
       "315"
      ]
     },
     "execution_count": 89,
     "metadata": {},
     "output_type": "execute_result"
    }
   ],
   "source": [
    "critic_review_count"
   ]
  },
  {
   "cell_type": "markdown",
   "metadata": {},
   "source": [
    "### Metascore"
   ]
  },
  {
   "cell_type": "code",
   "execution_count": 17,
   "metadata": {
    "collapsed": false
   },
   "outputs": [],
   "source": [
    "metascore = int(prof_page.find_all(\"div\", {\"class\": \"metacriticScore score_favorable titleReviewBarSubItem\"})[0].contents[1].contents[0])"
   ]
  },
  {
   "cell_type": "markdown",
   "metadata": {},
   "source": [
    "### Year"
   ]
  },
  {
   "cell_type": "code",
   "execution_count": 18,
   "metadata": {
    "collapsed": false
   },
   "outputs": [],
   "source": [
    "year = int(prof_page.find_all(\"span\", {\"id\": \"titleYear\"})[0].contents[1].contents[0])"
   ]
  },
  {
   "cell_type": "code",
   "execution_count": 19,
   "metadata": {
    "collapsed": false
   },
   "outputs": [
    {
     "data": {
      "text/plain": [
       "1999"
      ]
     },
     "execution_count": 19,
     "metadata": {},
     "output_type": "execute_result"
    }
   ],
   "source": [
    "year"
   ]
  },
  {
   "cell_type": "markdown",
   "metadata": {},
   "source": [
    "### Duration"
   ]
  },
  {
   "cell_type": "code",
   "execution_count": 44,
   "metadata": {
    "collapsed": true
   },
   "outputs": [],
   "source": [
    "MOVIE_DURATION_REGEX = r'PT([0-9]+)M'"
   ]
  },
  {
   "cell_type": "code",
   "execution_count": 45,
   "metadata": {
    "collapsed": false
   },
   "outputs": [],
   "source": [
    "duration_str = prof_page.find_all(\"time\", {\"itemprop\": \"duration\"})[0]['datetime']"
   ]
  },
  {
   "cell_type": "code",
   "execution_count": 50,
   "metadata": {
    "collapsed": false
   },
   "outputs": [],
   "source": [
    "duration_in_minutes = int(re.findall(MOVIE_DURATION_REGEX, duration_str)[0])"
   ]
  },
  {
   "cell_type": "code",
   "execution_count": 51,
   "metadata": {
    "collapsed": false,
    "scrolled": true
   },
   "outputs": [
    {
     "data": {
      "text/plain": [
       "136"
      ]
     },
     "execution_count": 51,
     "metadata": {},
     "output_type": "execute_result"
    }
   ],
   "source": [
    "duration_in_minutes"
   ]
  },
  {
   "cell_type": "markdown",
   "metadata": {},
   "source": [
    "### Box office section"
   ]
  },
  {
   "cell_type": "code",
   "execution_count": 223,
   "metadata": {
    "collapsed": false
   },
   "outputs": [],
   "source": [
    "BOX_CONTENT_REGEX = r\"<h3.*>Box Office</h3>([\\s\\S]+?)<h3\""
   ]
  },
  {
   "cell_type": "code",
   "execution_count": 224,
   "metadata": {
    "collapsed": false
   },
   "outputs": [],
   "source": [
    "box_contents = re.findall(BOX_CONTENT_REGEX, str(prof_page))[0]"
   ]
  },
  {
   "cell_type": "code",
   "execution_count": 225,
   "metadata": {
    "collapsed": false,
    "scrolled": true
   },
   "outputs": [
    {
     "data": {
      "text/plain": [
       "'\\n<div class=\"txt-block\">\\n<h4 class=\"inline\">Budget:</h4>        $63,000,000        \\n\\n      <span class=\"attribute\">(estimated)</span>\\n</div>\\n<div class=\"txt-block\">\\n<h4 class=\"inline\">Opening Weekend:</h4>         $27,788,331        \\n\\n      (USA)\\n      <span class=\"attribute\">(2 April 1999)</span>\\n</div>\\n<div class=\"txt-block\">\\n<h4 class=\"inline\">Gross:</h4>        $171,383,253        \\n\\n      <span class=\"attribute\">(USA)</span>\\n<span class=\"attribute\">(17 September 1999)</span>\\n</div>\\n<span class=\"see-more inline\">\\n<a href=\"business?ref_=tt_dt_bus\" itemprop=\"url\">See more</a>\\xa0»\\n  </span>\\n<hr/>\\n'"
      ]
     },
     "execution_count": 225,
     "metadata": {},
     "output_type": "execute_result"
    }
   ],
   "source": [
    "box_contents"
   ]
  },
  {
   "cell_type": "markdown",
   "metadata": {},
   "source": [
    "#### Budget"
   ]
  },
  {
   "cell_type": "code",
   "execution_count": 226,
   "metadata": {
    "collapsed": true
   },
   "outputs": [],
   "source": [
    "BUDGET_REGEX = r\"<h4.*>Budget:</h4>\\s*\\$([0-9,]+)\""
   ]
  },
  {
   "cell_type": "code",
   "execution_count": 233,
   "metadata": {
    "collapsed": false
   },
   "outputs": [],
   "source": [
    "budget = int(re.findall(BUDGET_REGEX, box_contents)[0].replace(',', ''))"
   ]
  },
  {
   "cell_type": "code",
   "execution_count": 234,
   "metadata": {
    "collapsed": false,
    "scrolled": true
   },
   "outputs": [
    {
     "data": {
      "text/plain": [
       "63000000"
      ]
     },
     "execution_count": 234,
     "metadata": {},
     "output_type": "execute_result"
    }
   ],
   "source": [
    "budget"
   ]
  },
  {
   "cell_type": "markdown",
   "metadata": {},
   "source": [
    "#### Opening Weekend"
   ]
  },
  {
   "cell_type": "code",
   "execution_count": 254,
   "metadata": {
    "collapsed": true
   },
   "outputs": [],
   "source": [
    "from datetime import datetime"
   ]
  },
  {
   "cell_type": "code",
   "execution_count": 251,
   "metadata": {
    "collapsed": true
   },
   "outputs": [],
   "source": [
    "OPEN_DATE_REGEX = r\"<h4.*>Opening Weekend:</h4>[\\s\\S]*?\\(USA\\)[\\s\\S]*?\\(([0-9a-zA-Z\\s]+)\\)[\\s\\S]*?<h4\""
   ]
  },
  {
   "cell_type": "code",
   "execution_count": 252,
   "metadata": {
    "collapsed": false
   },
   "outputs": [],
   "source": [
    "open_date_str = re.findall(OPEN_DATE_REGEX, box_contents)[0]"
   ]
  },
  {
   "cell_type": "code",
   "execution_count": 256,
   "metadata": {
    "collapsed": false
   },
   "outputs": [],
   "source": [
    "open_date = datetime.strptime(open_date_str, \"%d %B %Y\").date()"
   ]
  },
  {
   "cell_type": "code",
   "execution_count": 257,
   "metadata": {
    "collapsed": false
   },
   "outputs": [
    {
     "data": {
      "text/plain": [
       "datetime.date(1999, 4, 2)"
      ]
     },
     "execution_count": 257,
     "metadata": {},
     "output_type": "execute_result"
    }
   ],
   "source": [
    "open_date"
   ]
  },
  {
   "cell_type": "code",
   "execution_count": 240,
   "metadata": {
    "collapsed": true
   },
   "outputs": [],
   "source": [
    "OPEN_PROF_REGEX = r\"<h4.*>Opening Weekend:</h4>\\s*\\$([0-9,]+)[\\s\\S]*?\\(USA\\)\""
   ]
  },
  {
   "cell_type": "code",
   "execution_count": 241,
   "metadata": {
    "collapsed": false
   },
   "outputs": [],
   "source": [
    "opening_weekend_profit = int(re.findall(OPEN_PROF_REGEX, box_contents)[0].replace(',', ''))"
   ]
  },
  {
   "cell_type": "code",
   "execution_count": 242,
   "metadata": {
    "collapsed": false,
    "scrolled": true
   },
   "outputs": [
    {
     "data": {
      "text/plain": [
       "27788331"
      ]
     },
     "execution_count": 242,
     "metadata": {},
     "output_type": "execute_result"
    }
   ],
   "source": [
    "opening_weekend_profit"
   ]
  },
  {
   "cell_type": "markdown",
   "metadata": {},
   "source": [
    "#### Gross"
   ]
  },
  {
   "cell_type": "code",
   "execution_count": 262,
   "metadata": {
    "collapsed": true
   },
   "outputs": [],
   "source": [
    "GROSS_DATE_REGEX = r\"<h4.*>Gross:</h4>[\\s\\S]*?\\(USA\\)[\\s\\S]*?\\(([0-9a-zA-Z\\s]+)\\)\""
   ]
  },
  {
   "cell_type": "code",
   "execution_count": 263,
   "metadata": {
    "collapsed": false
   },
   "outputs": [],
   "source": [
    "gross_date_str = re.findall(GROSS_DATE_REGEX, box_contents)[0]"
   ]
  },
  {
   "cell_type": "code",
   "execution_count": 264,
   "metadata": {
    "collapsed": false
   },
   "outputs": [],
   "source": [
    "gross_date = datetime.strptime(gross_date_str, \"%d %B %Y\").date()"
   ]
  },
  {
   "cell_type": "code",
   "execution_count": 265,
   "metadata": {
    "collapsed": false
   },
   "outputs": [
    {
     "data": {
      "text/plain": [
       "datetime.date(1999, 9, 17)"
      ]
     },
     "execution_count": 265,
     "metadata": {},
     "output_type": "execute_result"
    }
   ],
   "source": [
    "gross_date"
   ]
  },
  {
   "cell_type": "code",
   "execution_count": 243,
   "metadata": {
    "collapsed": true
   },
   "outputs": [],
   "source": [
    "GROSS_REGEX = r\"<h4.*>Gross:</h4>\\s*\\$([0-9,]+)[\\s\\S]*?\\(USA\\)\""
   ]
  },
  {
   "cell_type": "code",
   "execution_count": 244,
   "metadata": {
    "collapsed": false
   },
   "outputs": [],
   "source": [
    "gross = int(re.findall(GROSS_REGEX, box_contents)[0].replace(',', ''))"
   ]
  },
  {
   "cell_type": "code",
   "execution_count": 245,
   "metadata": {
    "collapsed": false,
    "scrolled": true
   },
   "outputs": [
    {
     "data": {
      "text/plain": [
       "171383253"
      ]
     },
     "execution_count": 245,
     "metadata": {},
     "output_type": "execute_result"
    }
   ],
   "source": [
    "gross"
   ]
  },
  {
   "cell_type": "code",
   "execution_count": 140,
   "metadata": {
    "collapsed": true
   },
   "outputs": [],
   "source": [
    "# ## Business page\n",
    "# BUSINESS_URL = 'http://www.imdb.com/title/{code}/business?ref_=tt_dt_bus'\n",
    "# cur_business_url = BUSINESS_URL.format(code=MOVIE_CODE)\n",
    "# busi_page = bs(urlopen(cur_business_url), \"html.parser\")\n",
    "# busi_str = str(busi_page)\n",
    "# #### Budget\n",
    "# BUDGET_REGEX = r\"<h5>Budget</h5>\\n\\s*\\$([0-9,]+)\"\n",
    "# budget_dollar = int(re.findall(BUDGET_REGEX, busi_str)[0].replace(',', ''))\n",
    "# ### Opening Weekend (USA)\n",
    "# OPEN_WEEKEND_CONTENT_REGEX = r\"<h5>Opening Weekend</h5>([\\s\\S]+?)<h5>\"\n",
    "# open_weekend_contents = re.findall(OPEN_WEEKEND_CONTENT_REGEX, busi_str)[0]\n",
    "# US_OPEN_WEEKEND_REGEX = r\"\\$([0-9,]+)\\s*\\(USA\\)\"\n",
    "# us_open_weekend = int(re.findall(US_OPEN_WEEKEND_REGEX, open_weekend_contents)[0].replace(',', ''))\n",
    "# ### Gross Earnings\n",
    "# GROSS_CONTENT_REGEX = r\"<h5>Gross</h5>([\\s\\S]+?)<h5>\"\n",
    "# gross_contents = re.findall(GROSS_CONTENT_REGEX, busi_str)[0]\n",
    "# GROSS_REGEX = r\"<h5>Gross</h5>\\n\\s*\\$([0-9,]+)\\s*\\(USA\\)\"\n",
    "# gross_inc_dollar = int(re.findall(GROSS_REGEX, busi_str)[0].replace(',', ''))"
   ]
  },
  {
   "cell_type": "markdown",
   "metadata": {},
   "source": [
    "## Ratings page"
   ]
  },
  {
   "cell_type": "code",
   "execution_count": 246,
   "metadata": {
    "collapsed": true
   },
   "outputs": [],
   "source": [
    "RATINGS_URL = 'http://www.imdb.com/title/{code}/ratings'\n",
    "cur_ratings_url = RATINGS_URL.format(code=MOVIE_CODE)\n",
    "ratings_page = bs(urlopen(cur_ratings_url), \"html.parser\")"
   ]
  },
  {
   "cell_type": "code",
   "execution_count": null,
   "metadata": {
    "collapsed": true
   },
   "outputs": [],
   "source": []
  }
 ],
 "metadata": {
  "anaconda-cloud": {},
  "kernelspec": {
   "display_name": "Python [conda env:ds]",
   "language": "python",
   "name": "conda-env-ds-py"
  },
  "language_info": {
   "codemirror_mode": {
    "name": "ipython",
    "version": 3
   },
   "file_extension": ".py",
   "mimetype": "text/x-python",
   "name": "python",
   "nbconvert_exporter": "python",
   "pygments_lexer": "ipython3",
   "version": "3.5.2"
  }
 },
 "nbformat": 4,
 "nbformat_minor": 1
}
