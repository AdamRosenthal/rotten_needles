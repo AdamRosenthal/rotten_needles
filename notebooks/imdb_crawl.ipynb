{
 "cells": [
  {
   "cell_type": "markdown",
   "metadata": {},
   "source": [
    "# IMDB Crawler"
   ]
  },
  {
   "cell_type": "code",
   "execution_count": 85,
   "metadata": {
    "collapsed": true
   },
   "outputs": [],
   "source": [
    "from urllib.request import urlopen\n",
    "from bs4 import BeautifulSoup as bs"
   ]
  },
  {
   "cell_type": "markdown",
   "metadata": {},
   "source": [
    "## Search"
   ]
  },
  {
   "cell_type": "code",
   "execution_count": 86,
   "metadata": {
    "collapsed": true
   },
   "outputs": [],
   "source": [
    "TITLE_QUERY = (\n",
    "    'http://www.imdb.com/find'\n",
    "    '?q={title}&s=tt&ttype=ft&exact=true&ref_=fn_tt_ex'\n",
    ")"
   ]
  },
  {
   "cell_type": "code",
   "execution_count": 376,
   "metadata": {
    "collapsed": true
   },
   "outputs": [],
   "source": [
    "movie_name=\"Amélie\""
   ]
  },
  {
   "cell_type": "code",
   "execution_count": 377,
   "metadata": {
    "collapsed": true
   },
   "outputs": [],
   "source": [
    "def convert_title(title):\n",
    "    return urllib.parse.quote(title).lower()"
   ]
  },
  {
   "cell_type": "code",
   "execution_count": 378,
   "metadata": {
    "collapsed": false
   },
   "outputs": [
    {
     "data": {
      "text/plain": [
       "'am%c3%a9lie'"
      ]
     },
     "execution_count": 378,
     "metadata": {},
     "output_type": "execute_result"
    }
   ],
   "source": [
    "convert_title(movie_name)"
   ]
  },
  {
   "cell_type": "code",
   "execution_count": 372,
   "metadata": {
    "collapsed": true
   },
   "outputs": [],
   "source": [
    "query = TITLE_QUERY.format(title=convert_title(movie_name))\n",
    "search_res = bs(urlopen(query), \"html.parser\")"
   ]
  },
  {
   "cell_type": "code",
   "execution_count": 373,
   "metadata": {
    "collapsed": false
   },
   "outputs": [],
   "source": [
    "res_table = search_res.find_all(\"table\", {\"class\": \"findList\"})[0]"
   ]
  },
  {
   "cell_type": "code",
   "execution_count": 374,
   "metadata": {
    "collapsed": false
   },
   "outputs": [],
   "source": [
    "first_row = res_table.find_all(\"tr\")[0]"
   ]
  },
  {
   "cell_type": "code",
   "execution_count": 375,
   "metadata": {
    "collapsed": false
   },
   "outputs": [
    {
     "data": {
      "text/plain": [
       "<tr class=\"findResult odd\"> <td class=\"primary_photo\"> <a href=\"/title/tt0063522/?ref_=fn_ft_tt_1\"><img src=\"https://images-na.ssl-images-amazon.com/images/M/MV5BMjE3NzE4NzkyNl5BMl5BanBnXkFtZTgwNTYyODgwNzE@._V1_UX32_CR0,0,32,44_AL_.jpg\"/></a> </td> <td class=\"result_text\"> <a href=\"/title/tt0063522/?ref_=fn_ft_tt_1\">Rosemary's Baby</a> (1968) </td> </tr>"
      ]
     },
     "execution_count": 375,
     "metadata": {},
     "output_type": "execute_result"
    }
   ],
   "source": [
    "first_row"
   ]
  },
  {
   "cell_type": "markdown",
   "metadata": {},
   "source": [
    "### Extracting the movie code"
   ]
  },
  {
   "cell_type": "code",
   "execution_count": 342,
   "metadata": {
    "collapsed": true
   },
   "outputs": [],
   "source": [
    "import re"
   ]
  },
  {
   "cell_type": "code",
   "execution_count": 343,
   "metadata": {
    "collapsed": true
   },
   "outputs": [],
   "source": [
    "MOVIE_CODE_REGEX = r'/title/([a-z0-9]+)/'"
   ]
  },
  {
   "cell_type": "code",
   "execution_count": 344,
   "metadata": {
    "collapsed": false
   },
   "outputs": [],
   "source": [
    "movie_code = re.findall(MOVIE_CODE_REGEX, str(first_row))[0]"
   ]
  },
  {
   "cell_type": "code",
   "execution_count": 345,
   "metadata": {
    "collapsed": false
   },
   "outputs": [
    {
     "data": {
      "text/plain": [
       "'tt6304046'"
      ]
     },
     "execution_count": 345,
     "metadata": {},
     "output_type": "execute_result"
    }
   ],
   "source": [
    "movie_code"
   ]
  },
  {
   "cell_type": "markdown",
   "metadata": {},
   "source": [
    "## Movie Profile"
   ]
  },
  {
   "cell_type": "code",
   "execution_count": 346,
   "metadata": {
    "collapsed": true
   },
   "outputs": [],
   "source": [
    "PROFILE_URL = 'http://www.imdb.com/title/{code}/' #?region=us"
   ]
  },
  {
   "cell_type": "code",
   "execution_count": 347,
   "metadata": {
    "collapsed": true
   },
   "outputs": [],
   "source": [
    "cur_profile_url = PROFILE_URL.format(code=movie_code)"
   ]
  },
  {
   "cell_type": "code",
   "execution_count": 348,
   "metadata": {
    "collapsed": false
   },
   "outputs": [],
   "source": [
    "prof_page = bs(urlopen(cur_profile_url), \"html.parser\")"
   ]
  },
  {
   "cell_type": "markdown",
   "metadata": {},
   "source": [
    "### Rating"
   ]
  },
  {
   "cell_type": "code",
   "execution_count": 351,
   "metadata": {
    "collapsed": false
   },
   "outputs": [
    {
     "data": {
      "text/plain": [
       "\n",
       "<!DOCTYPE html>\n",
       "\n",
       "<html xmlns:fb=\"http://www.facebook.com/2008/fbml\" xmlns:og=\"http://ogp.me/ns#\">\n",
       "<head>\n",
       "<meta charset=\"utf-8\">\n",
       "<meta content=\"IE=edge\" http-equiv=\"X-UA-Compatible\">\n",
       "<meta content=\"app-id=342792525, app-argument=imdb:///title/tt6304046?src=mdot\" name=\"apple-itunes-app\">\n",
       "<script type=\"text/javascript\">var ue_t0=window.ue_t0||+new Date();</script>\n",
       "<script type=\"text/javascript\">\n",
       "                var ue_mid = \"A1EVAM02EL8SFB\"; \n",
       "                var ue_sn = \"www.imdb.com\";  \n",
       "                var ue_furl = \"fls-na.amazon.com\";\n",
       "                var ue_sid = \"000-0000000-0000000\";\n",
       "                var ue_id = \"1C2KMM27XVPKCFY5FTRB\";\n",
       "                (function(e){var c=e;var a=c.ue||{};a.main_scope=\"mainscopecsm\";a.q=[];a.t0=c.ue_t0||+new Date();a.d=g;function g(h){return +new Date()-(h?0:a.t0)}function d(h){return function(){a.q.push({n:h,a:arguments,t:a.d()})}}function b(m,l,h,j,i){var k={m:m,f:l,l:h,c:\"\"+j,err:i,fromOnError:1,args:arguments};c.ueLogError(k);return false}b.skipTrace=1;e.onerror=b;function f(){c.uex(\"ld\")}if(e.addEventListener){e.addEventListener(\"load\",f,false)}else{if(e.attachEvent){e.attachEvent(\"onload\",f)}}a.tag=d(\"tag\");a.log=d(\"log\");a.reset=d(\"rst\");c.ue_csm=c;c.ue=a;c.ueLogError=d(\"err\");c.ues=d(\"ues\");c.uet=d(\"uet\");c.uex=d(\"uex\");c.uet(\"ue\")})(window);(function(e,d){var a=e.ue||{};function c(g){if(!g){return}var f=d.head||d.getElementsByTagName(\"head\")[0]||d.documentElement,h=d.createElement(\"script\");h.async=\"async\";h.src=g;f.insertBefore(h,f.firstChild)}function b(){var k=e.ue_cdn||\"z-ecx.images-amazon.com\",g=e.ue_cdns||\"images-na.ssl-images-amazon.com\",j=\"/images/G/01/csminstrumentation/\",h=e.ue_file||\"ue-full-11e51f253e8ad9d145f4ed644b40f692._V1_.js\",f,i;if(h.indexOf(\"NSTRUMENTATION_FIL\")>=0){return}if(\"ue_https\" in e){f=e.ue_https}else{f=e.location&&e.location.protocol==\"https:\"?1:0}i=f?\"https://\":\"http://\";i+=f?g:k;i+=j;i+=h;c(i)}if(!e.ue_inline){if(a.loadUEFull){a.loadUEFull()}else{b()}}a.uels=c;e.ue=a})(window,document);\n",
       "                if (!('CS' in window)) { window.CS = {}; }\n",
       "                    window.CS.loginLocation = \"https://www.imdb.com/registration/signin?u=%2Ftitle%2Ftt6304046%2F\";\n",
       "            </script>\n",
       "<script type=\"text/javascript\">var IMDbTimer={starttime: new Date().getTime(),pt:'java'};</script>\n",
       "<script>(function(t){ (t.events = t.events || {})[\"csm_head_pre_title\"] = new Date().getTime(); })(IMDbTimer);</script>\n",
       "<title>Thelma (2017) - IMDb</title>\n",
       "<script>(function(t){ (t.events = t.events || {})[\"csm_head_post_title\"] = new Date().getTime(); })(IMDbTimer);</script>\n",
       "<link href=\"http://www.imdb.com/title/tt6304046/\" rel=\"canonical\"/>\n",
       "<meta content=\"http://www.imdb.com/title/tt6304046/\" property=\"og:url\"/>\n",
       "<script>(function(t){ (t.events = t.events || {})[\"csm_head_pre_icon\"] = new Date().getTime(); })(IMDbTimer);</script>\n",
       "<link href=\"http://ia.media-imdb.com/images/G/01/imdb/images/safari-favicon-517611381._CB522736552_.svg\" mask=\"\" rel=\"icon\" sizes=\"any\">\n",
       "<link href=\"http://ia.media-imdb.com/images/G/01/imdb/images/favicon-2165806970._CB522736556_.ico\" rel=\"icon\" type=\"image/ico\"/>\n",
       "<meta content=\"#000000\" name=\"theme-color\"/>\n",
       "<link href=\"http://ia.media-imdb.com/images/G/01/imdb/images/desktop-favicon-2165806970._CB522736561_.ico\" rel=\"shortcut icon\" type=\"image/x-icon\"/>\n",
       "<link href=\"http://ia.media-imdb.com/images/G/01/imdb/images/mobile/apple-touch-icon-web-4151659188._CB522736129_.png\" rel=\"apple-touch-icon\">\n",
       "<link href=\"http://ia.media-imdb.com/images/G/01/imdb/images/mobile/apple-touch-icon-web-76x76-53536248._CB522736233_.png\" rel=\"apple-touch-icon\" sizes=\"76x76\">\n",
       "<link href=\"http://ia.media-imdb.com/images/G/01/imdb/images/mobile/apple-touch-icon-web-120x120-2442878471._CB522736253_.png\" rel=\"apple-touch-icon\" sizes=\"120x120\">\n",
       "<link href=\"http://ia.media-imdb.com/images/G/01/imdb/images/mobile/apple-touch-icon-web-152x152-1475823641._CB522736557_.png\" rel=\"apple-touch-icon\" sizes=\"152x152\">\n",
       "<link href=\"http://ia.media-imdb.com/images/G/01/imdb/images/imdbsearch-3349468880._CB522736605_.xml\" rel=\"search\" title=\"IMDb\" type=\"application/opensearchdescription+xml\"/>\n",
       "<script>(function(t){ (t.events = t.events || {})[\"csm_head_post_icon\"] = new Date().getTime(); })(IMDbTimer);</script>\n",
       "<meta content=\"tt6304046\" property=\"pageId\"/>\n",
       "<meta content=\"title\" property=\"pageType\"/>\n",
       "<meta content=\"main\" property=\"subpageType\"/>\n",
       "<link href=\"http://ia.media-imdb.com/images/G/01/imdb/images/logos/imdb_fb_logo-1730868325._CB522736557_.png\" rel=\"image_src\">\n",
       "<meta content=\"http://ia.media-imdb.com/images/G/01/imdb/images/logos/imdb_fb_logo-1730868325._CB522736557_.png\" property=\"og:image\"/>\n",
       "<meta content=\"video.movie\" property=\"og:type\"/>\n",
       "<meta content=\"115109575169727\" property=\"fb:app_id\"/>\n",
       "<meta content=\"Thelma (2017)\" property=\"og:title\"/>\n",
       "<meta content=\"IMDb\" property=\"og:site_name\"/>\n",
       "<meta content=\"Thelma (2017) - IMDb\" name=\"title\"/>\n",
       "<meta content=\"Directed by Joachim Trier.  With Eili Harboe, Okay Kaya, Ellen Dorrit Petersen, Henrik Rafaelsen. A woman begins to fall in love, only to discover that she has fantastic powers.\" name=\"description\"/>\n",
       "<meta content=\"Directed by Joachim Trier.  With Eili Harboe, Okay Kaya, Ellen Dorrit Petersen, Henrik Rafaelsen. A woman begins to fall in love, only to discover that she has fantastic powers.\" property=\"og:description\"/>\n",
       "<meta content=\"Reviews, Showtimes, DVDs, Photos, Message Boards, User Ratings, Synopsis, Trailers, Credits\" name=\"keywords\"/>\n",
       "<meta content=\"1C2KMM27XVPKCFY5FTRB\" name=\"request_id\"/>\n",
       "<script>(function(t){ (t.events = t.events || {})[\"csm_head_pre_css\"] = new Date().getTime(); })(IMDbTimer);</script>\n",
       "<!-- h=ics-1e-c4-2xl-28384445.us-east-1 -->\n",
       "<link href=\"http://ia.media-imdb.com/images/G/01/imdb/css/collections/title-flat-v2-2842708174._CB535563427_.css\" rel=\"stylesheet\" type=\"text/css\"/>\n",
       "<noscript>\n",
       "<link href=\"http://ia.media-imdb.com/images/G/01/imdb/css/wheel/nojs-2827156349._CB522739048_.css\" rel=\"stylesheet\" type=\"text/css\">\n",
       "</link></noscript>\n",
       "<script>(function(t){ (t.events = t.events || {})[\"csm_head_post_css\"] = new Date().getTime(); })(IMDbTimer);</script>\n",
       "<script>(function(t){ (t.events = t.events || {})[\"csm_head_pre_ads\"] = new Date().getTime(); })(IMDbTimer);</script>\n",
       "<script type=\"text/javascript\">\n",
       "            // ensures js doesn't die if ads service fails.  \n",
       "            // Note that we need to define the js here, since ad js is being rendered inline after this.\n",
       "            (function(f) {\n",
       "                // Fallback javascript, when the ad Service call fails.  \n",
       "                \n",
       "                if((window.csm == null || window.generic == null || window.consoleLog == null)) {\n",
       "                    if (window.console && console.log) {\n",
       "                        console.log(\"one or more of window.csm, window.generic or window.consoleLog has been stubbed...\");\n",
       "                    }\n",
       "                }\n",
       "                \n",
       "                window.csm = window.csm || { measure:f, record:f, duration:f, listen:f, metrics:{} };\n",
       "                window.generic = window.generic || { monitoring: { start_timing: f, stop_timing: f } };\n",
       "                window.consoleLog = window.consoleLog || f;\n",
       "            })(function() {});\n",
       "        </script>\n",
       "<script>\n",
       "    if ('csm' in window) {\n",
       "      csm.measure('csm_head_delivery_finished');\n",
       "    }\n",
       "  </script>\n",
       "</link></link></link></link></link></link></meta></meta></meta></head>\n",
       "<body class=\"fixed\" id=\"styleguide-v2\">\n",
       "<script>\n",
       "    if (typeof uet == 'function') {\n",
       "      uet(\"bb\");\n",
       "    }\n",
       "</script>\n",
       "<script>\n",
       "    if ('csm' in window) {\n",
       "      csm.measure('csm_body_delivery_started');\n",
       "    }\n",
       "  </script>\n",
       "<div id=\"wrapper\">\n",
       "<div class=\"redesign\" id=\"root\">\n",
       "<script>\n",
       "    if (typeof uet == 'function') {\n",
       "      uet(\"ns\");\n",
       "    }\n",
       "</script>\n",
       "<div class=\"navbarSprite\" id=\"nb20\">\n",
       "<div id=\"supertab\">\n",
       "<!-- no content received for slot: top_ad -->\n",
       "</div>\n",
       "<div class=\"navbarSprite\" id=\"navbar\">\n",
       "<noscript>\n",
       "<link href=\"http://ia.media-imdb.com/images/G/01/imdb/css/site/consumer-navbar-no-js-3652782989._CB522736526_.css\" rel=\"stylesheet\" type=\"text/css\"/>\n",
       "</noscript>\n",
       "<!--[if IE]><link rel=\"stylesheet\" type=\"text/css\" href=\"http://ia.media-imdb.com/images/G/01/imdb/css/site/consumer-navbar-ie-2133976414._CB522736582_.css\"><![endif]-->\n",
       "<span id=\"home_img_holder\">\n",
       "<a class=\"navbarSprite\" href=\"/?ref_=nv_home\" id=\"home_img\" title=\"Home\"></a> <span class=\"alt_logo\">\n",
       "<a href=\"/?ref_=nv_home\" title=\"Home\">IMDb</a>\n",
       "</span>\n",
       "</span>\n",
       "<form action=\"/find\" class=\"nav-searchbar-inner\" id=\"navbar-form\" method=\"get\">\n",
       "<div id=\"nb_search\">\n",
       "<noscript><div id=\"more_if_no_javascript\"><a href=\"/search/\">More</a></div></noscript>\n",
       "<button class=\"primary btn\" id=\"navbar-submit-button\" type=\"submit\"><div class=\"magnifyingglass navbarSprite\"></div></button>\n",
       "<input name=\"ref_\" type=\"hidden\" value=\"nv_sr_fn\"/>\n",
       "<input autocomplete=\"off\" id=\"navbar-query\" name=\"q\" placeholder=\"Find Movies, TV shows, Celebrities and more...\" type=\"text\" value=\"\">\n",
       "<div class=\"quicksearch_dropdown_wrapper\">\n",
       "<select class=\"quicksearch_dropdown navbarSprite\" id=\"quicksearch\" name=\"s\" onchange=\"jumpMenu(this); suggestionsearch_dropdown_choice(this);\">\n",
       "<option value=\"all\">All</option>\n",
       "<option value=\"tt\">Titles</option>\n",
       "<option value=\"ep\">TV Episodes</option>\n",
       "<option value=\"nm\">Names</option>\n",
       "<option value=\"co\">Companies</option>\n",
       "<option value=\"kw\">Keywords</option>\n",
       "<option value=\"ch\">Characters</option>\n",
       "<option value=\"qu\">Quotes</option>\n",
       "<option value=\"bi\">Bios</option>\n",
       "<option value=\"pl\">Plots</option>\n",
       "</select>\n",
       "</div>\n",
       "<div id=\"navbar-suggestionsearch\"></div>\n",
       "</input></div>\n",
       "</form>\n",
       "<div id=\"megaMenu\">\n",
       "<ul class=\"main_nav\" id=\"consumer_main_nav\">\n",
       "<li class=\"spacer\"></li>\n",
       "<li class=\"css_nav_item\" id=\"navTitleMenu\">\n",
       "<p class=\"navCategory\">\n",
       "<a href=\"/movies-in-theaters/?ref_=nv_tp_inth_1\">Movies</a>,\n",
       "                <a href=\"/chart/toptv/?ref_=nv_tp_tv250_2\">TV</a><br/>\n",
       "                &amp; <a href=\"/showtimes/?ref_=nv_tp_sh_3\">Showtimes</a></p>\n",
       "<span class=\"downArrow\"></span>\n",
       "<div class=\"sub_nav\" id=\"navMenu1\">\n",
       "<div id=\"titleAd\"></div>\n",
       "<div class=\"subNavListContainer\">\n",
       "<h5>MOVIES</h5>\n",
       "<ul>\n",
       "<li><a href=\"/movies-in-theaters/?ref_=nv_mv_inth_1\">In Theaters</a></li>\n",
       "<li><a href=\"/showtimes/?ref_=nv_mv_sh_2\">Showtimes &amp; Tickets</a></li>\n",
       "<li><a href=\"/trailers/?ref_=nv_mv_tr_3\">Latest Trailers</a></li>\n",
       "<li><a href=\"/movies-coming-soon/?ref_=nv_mv_cs_4\">Coming Soon</a></li>\n",
       "<li><a href=\"/calendar/?ref_=nv_mv_cal_5\">Release Calendar</a></li>\n",
       "<li><a href=\"/chart/top?ref_=nv_mv_250_6\">Top Rated Movies</a></li>\n",
       "<li><a href=\"/chart/top-indian-movies?ref_=nv_mv_250_in_7\">Top Rated Indian Movies</a></li>\n",
       "<li><a href=\"/chart/moviemeter?ref_=nv_mv_mpm_8\">Most Popular Movies</a></li>\n",
       "</ul>\n",
       "<h5>CHARTS &amp; TRENDS</h5>\n",
       "<ul>\n",
       "<li><a href=\"/chart/?ref_=nv_ch_cht_1\">Box Office</a></li>\n",
       "<li><a href=\"/search/title?count=100&amp;groups=oscar_best_picture_winners&amp;sort=year,desc&amp;ref_=nv_ch_osc_2\">Oscar Winners</a></li>\n",
       "<li><a href=\"/genre/?ref_=nv_ch_gr_3\">Most Popular by Genre</a></li>\n",
       "</ul>\n",
       "</div>\n",
       "<div class=\"subNavListContainer\">\n",
       "<h5>TV &amp; VIDEO</h5>\n",
       "<ul>\n",
       "<li><a href=\"/tv/?ref_=nv_tvv_tv_1\">IMDb TV</a></li>\n",
       "<li><a href=\"/tvgrid/?ref_=nv_tvv_ls_2\">On Tonight</a></li>\n",
       "<li><a href=\"/chart/toptv/?ref_=nv_tvv_250_3\">Top Rated TV Shows</a></li>\n",
       "<li><a href=\"/chart/tvmeter?ref_=nv_tvv_mptv_4\">Most Popular TV Shows</a></li>\n",
       "<li><a href=\"/feature/watch-now-on-amazon/?ref_=nv_tvv_wn_5\">Watch Now on Amazon</a></li>\n",
       "<li><a href=\"/sections/dvd/?ref_=nv_tvv_dvd_6\">DVD &amp; Blu-Ray</a></li>\n",
       "</ul>\n",
       "<h5>SPECIAL FEATURES</h5>\n",
       "<ul>\n",
       "<li><a href=\"/imdbpicks/?ref_=nv_sf_picks_1\">IMDb Picks</a></li>\n",
       "<li><a href=\"/scary-good/?ref_=nv_sf_sg_2\">Scary Good</a></li>\n",
       "<li><a href=\"/amazon-originals/?ref_=nv_sf_ams_3\">Amazon Originals</a></li>\n",
       "<li><a href=\"/star-wars/?ref_=nv_sf_stw_4\">Star Wars on IMDb</a></li>\n",
       "</ul>\n",
       "</div>\n",
       "</div>\n",
       "</li>\n",
       "<li class=\"spacer\"></li>\n",
       "<li class=\"css_nav_item\" id=\"navNameMenu\">\n",
       "<p class=\"navCategory\">\n",
       "<a href=\"/search/name?gender=male,female&amp;ref_=nv_tp_cel_1\">Celebs</a>,\n",
       "                <a href=\"/awards-central/?ref_=nv_tp_awrd_2\">Events</a><br/>\n",
       "                &amp; <a href=\"/gallery/rg784964352?ref_=nv_tp_ph_3\">Photos</a></p>\n",
       "<span class=\"downArrow\"></span>\n",
       "<div class=\"sub_nav\" id=\"navMenu2\">\n",
       "<div id=\"nameAd\"></div>\n",
       "<div class=\"subNavListContainer\">\n",
       "<h5>CELEBS</h5>\n",
       "<ul>\n",
       "<li><a href=\"/search/name?birth_monthday=02-11&amp;refine=birth_monthday&amp;ref_=nv_cel_brn_1\">Born Today</a></li>\n",
       "<li><a href=\"/news/celebrity?ref_=nv_cel_nw_2\">Celebrity News</a></li>\n",
       "<li><a href=\"/search/name?gender=male,female&amp;ref_=nv_cel_m_3\">Most Popular Celebs</a></li>\n",
       "</ul>\n",
       "<h5>PHOTOS</h5>\n",
       "<ul>\n",
       "<li><a href=\"/gallery/rg1859820288?ref_=nv_ph_ls_1\">Latest Stills</a></li>\n",
       "<li><a href=\"/gallery/rg1624939264?ref_=nv_ph_lp_2\">Latest Posters</a></li>\n",
       "<li><a href=\"/gallery/rg1641716480?ref_=nv_ph_lv_3\">Photos We Love</a></li>\n",
       "</ul>\n",
       "</div>\n",
       "<div class=\"subNavListContainer\">\n",
       "<h5>EVENTS</h5>\n",
       "<ul>\n",
       "<li><a href=\"/awards-central/?ref_=nv_ev_awrd_1\">Awards Central</a></li>\n",
       "<li><a href=\"/oscars/?ref_=nv_ev_acd_2\">Oscars</a></li>\n",
       "<li><a href=\"/golden-globes/?ref_=nv_ev_gg_3\">Golden Globes</a></li>\n",
       "<li><a href=\"/sundance/?ref_=nv_ev_sun_4\">Sundance</a></li>\n",
       "<li><a href=\"/cannes/?ref_=nv_ev_can_5\">Cannes</a></li>\n",
       "<li><a href=\"/comic-con/?ref_=nv_ev_comic_6\">Comic-Con</a></li>\n",
       "<li><a href=\"/emmys/?ref_=nv_ev_rte_7\">Emmy Awards</a></li>\n",
       "<li><a href=\"/venice/?ref_=nv_ev_venice_8\">Venice Film Festival</a></li>\n",
       "<li><a href=\"/toronto/?ref_=nv_ev_tff_9\">Toronto Film Festival</a></li>\n",
       "<li><a href=\"/festival-central/?ref_=nv_ev_fc_10\">Festival Central</a></li>\n",
       "<li><a href=\"/festival-central/tribeca?ref_=nv_ev_tff_11\">Tribeca</a></li>\n",
       "<li><a href=\"/event/all/?ref_=nv_ev_all_12\">All Events</a></li>\n",
       "</ul>\n",
       "</div>\n",
       "</div>\n",
       "</li>\n",
       "<li class=\"spacer\"></li>\n",
       "<li class=\"css_nav_item\" id=\"navNewsMenu\">\n",
       "<p class=\"navCategory\">\n",
       "<a href=\"/news/top?ref_=nv_tp_nw_1\">News</a> &amp;<br/>\n",
       "<a href=\"/boards/?ref_=nv_tp_bd_2\">Community</a>\n",
       "</p>\n",
       "<span class=\"downArrow\"></span>\n",
       "<div class=\"sub_nav\" id=\"navMenu3\">\n",
       "<div id=\"latestHeadlines\">\n",
       "<div class=\"subNavListContainer\">\n",
       "<h5>LATEST HEADLINES</h5>\n",
       "<ul>\n",
       "<li itemprop=\"headline\">\n",
       "<a href=\"/news/ni60770701/?ref_=nv_nw_tn_1\"> Box Office: ‘Fifty Shades Darker’ Whips ‘Lego Batman,’ ‘John Wick: Chapter 2’ on Friday\n",
       "</a><br/>\n",
       "<span class=\"time\">36 minutes ago</span>\n",
       "</li>\n",
       "<li itemprop=\"headline\">\n",
       "<a href=\"/news/ni60769406/?ref_=nv_nw_tn_2\"> ‘Avengers: Infinity War’ Cast Will Include Spider-Man and Chris Pratt\n",
       "</a><br/>\n",
       "<span class=\"time\">13 hours ago</span>\n",
       "</li>\n",
       "<li itemprop=\"headline\">\n",
       "<a href=\"/news/ni60769434/?ref_=nv_nw_tn_3\"> ‘The Batman’ Has Found a New Director\n",
       "</a><br/>\n",
       "<span class=\"time\">13 hours ago</span>\n",
       "</li>\n",
       "</ul>\n",
       "</div>\n",
       "</div>\n",
       "<div class=\"subNavListContainer\">\n",
       "<h5>NEWS</h5>\n",
       "<ul>\n",
       "<li><a href=\"/news/top?ref_=nv_nw_tp_1\">Top News</a></li>\n",
       "<li><a href=\"/news/movie?ref_=nv_nw_mv_2\">Movie News</a></li>\n",
       "<li><a href=\"/news/tv?ref_=nv_nw_tv_3\">TV News</a></li>\n",
       "<li><a href=\"/news/celebrity?ref_=nv_nw_cel_4\">Celebrity News</a></li>\n",
       "<li><a href=\"/news/indie?ref_=nv_nw_ind_5\">Indie News</a></li>\n",
       "</ul>\n",
       "<h5>COMMUNITY</h5>\n",
       "<ul>\n",
       "<li><a href=\"/boards/?ref_=nv_cm_bd_1\">Message Boards</a></li>\n",
       "<li><a href=\"/czone/?ref_=nv_cm_cz_2\">Contributor Zone</a></li>\n",
       "<li><a href=\"/poll/?ref_=nv_cm_pl_3\">Polls</a></li>\n",
       "</ul>\n",
       "</div>\n",
       "</div>\n",
       "</li>\n",
       "<li class=\"spacer\"></li>\n",
       "<li class=\"css_nav_item\" id=\"navWatchlistMenu\">\n",
       "<p class=\"navCategory singleLine watchlist\">\n",
       "<a href=\"/list/watchlist?ref_=nv_wl_all_0\">Watchlist</a>\n",
       "</p>\n",
       "<span class=\"downArrow\"></span>\n",
       "<div class=\"sub_nav\" id=\"navMenu4\">\n",
       "<h5>\n",
       "            YOUR WATCHLIST\n",
       "    </h5>\n",
       "<ul id=\"navWatchlist\">\n",
       "</ul>\n",
       "<script>\n",
       "    if (!('imdb' in window)) { window.imdb = {}; }\n",
       "    window.imdb.watchlistTeaserData = [\n",
       "                {\n",
       "                        href : \"/list/watchlist\",\n",
       "                src : \"http://ia.media-imdb.com/images/G/01/imdb/images/navbar/watchlist_slot1_logged_out-1670046337._CB522736556_.jpg\"\n",
       "                },\n",
       "                {\n",
       "                    href : \"/search/title?count=100&title_type=feature,tv_series\",\n",
       "                src : \"http://ia.media-imdb.com/images/G/01/imdb/images/navbar/watchlist_slot2_popular-4090757197._CB522736562_.jpg\"\n",
       "                },\n",
       "                {\n",
       "                    href : \"/chart/top\",\n",
       "                src : \"http://ia.media-imdb.com/images/G/01/imdb/images/navbar/watchlist_slot3_top250-575799966._CB522736596_.jpg\"\n",
       "                }\n",
       "    ];\n",
       "    </script>\n",
       "</div>\n",
       "</li>\n",
       "<li class=\"spacer\"></li>\n",
       "</ul>\n",
       "<script>\n",
       "if (!('imdb' in window)) { window.imdb = {}; }\n",
       "window.imdb.navbarAdSlots = {\n",
       "    titleAd : {\n",
       "    },\n",
       "    nameAd : {\n",
       "    }\n",
       "}\n",
       "</script>\n",
       "</div>\n",
       "<div id=\"nb_extra\">\n",
       "<ul class=\"main_nav\" id=\"nb_extra_nav\">\n",
       "<li class=\"css_nav_item\" id=\"navProMenu\">\n",
       "<p class=\"navCategory\">\n",
       "<a href=\"http://pro.imdb.com/signup/index.html?rf=cons_nb_hm&amp;ref_=cons_nb_hm\"> <img alt=\"IMDbPro Menu\" src=\"http://ia.media-imdb.com/images/G/01/imdb/images/navbar/imdbpro_logo_nb-720143162._CB522736556_.png\"/>\n",
       "</a> </p>\n",
       "<span class=\"downArrow\"></span>\n",
       "<div class=\"sub_nav\" id=\"navMenuPro\">\n",
       "<a href=\"http://pro.imdb.com/signup/index.html?rf=cons_nb_hm&amp;ref_=cons_nb_hm\" id=\"proLink\"> <div id=\"proAd\">\n",
       "<script>\n",
       "if (!('imdb' in window)) { window.imdb = {}; }\n",
       "window.imdb.proMenuTeaser = {\n",
       "imageUrl : \"http://ia.media-imdb.com/images/G/01/imdb/images/navbar/imdbpro_menu_user-2082544740._CB522736519_.jpg\"\n",
       "};\n",
       "</script>\n",
       "</div>\n",
       "<div class=\"subNavListContainer\">\n",
       "<img alt=\"Go to IMDbPro\" src=\"http://ia.media-imdb.com/images/G/01/imdb/images/navbar/imdbpro_logo_menu-2185879182._CB522736599_.png\" title=\"Go to IMDbPro\"/>\n",
       "<h5>GET INFORMED</h5>\n",
       "<p>Industry information at your fingertips</p>\n",
       "<h5>GET CONNECTED</h5>\n",
       "<p>Over 200,000 Hollywood insiders</p>\n",
       "<h5>GET DISCOVERED</h5>\n",
       "<p>Enhance your IMDb Page</p>\n",
       "<p><strong>Go to IMDbPro »</strong></p>\n",
       "</div>\n",
       "</a> </div>\n",
       "</li>\n",
       "<li class=\"spacer\"><span class=\"ghost\">|</span></li>\n",
       "<li>\n",
       "<a href=\"/help/?ref_=nb_hlp\">Help</a>\n",
       "</li>\n",
       "<li class=\"social\">\n",
       "<a href=\"/offsite/?page-action=fol_fb&amp;token=BCYn5oIAf6Z4zoaA2HyrUInTLDCJegs_gKcXRp6XT19RrPrYvzHv7egB_FG6S5K7QYxuYdGf9CwG%0D%0Am9oxfNFfsFEleGYgILA3dmpCkbPt9BZ9xe3f02XV21bZU7xtED0_ZHTl3diuDEal_Z2yPVOm5YKS%0D%0AcA-bfIsCbauCz5MPDyhFyBU9A81xokNxp3pMnKeAMZoKj2WbkSwy1cPQgupLm71BOg%0D%0A&amp;ref_=tt_nv_fol_fb\" itemprop=\"url\" target=\"_blank\" title=\"Follow IMDb on Facebook\"> <span class=\"desktop-sprite follow-facebook\"></span>\n",
       "</a>\n",
       "<a href=\"/offsite/?page-action=fol_tw&amp;token=BCYolfbRF-ZCralNPa9UUKVER2ZD3OlHfMyijFHpgIPJpTa0vx0xchJIlh3_ibbGJMjC2dpJvQEW%0D%0AVv4W4WHpDVs4xNxAiWyG1CIgg8oKKIJxwwhZmFjN5s3e-AGAtIae-UPXnEQNDxTMLsCXvlMQCf6o%0D%0AYqEY47vcesZ-e9T9ER28SDQciwcXzmKsJWLBmjW3nfxBGFroRBsHpsVkPq0r3a7XXA%0D%0A&amp;ref_=tt_nv_fol_tw\" itemprop=\"url\" target=\"_blank\" title=\"Follow IMDb on Twitter\"> <span class=\"desktop-sprite follow-twitter\"></span>\n",
       "</a>\n",
       "<a href=\"/offsite/?page-action=fol_inst&amp;token=BCYhp13khengwIrg2M40SNlAzdaUpakCBhaBTUPORd30CwiQQxYlMBdJJr-GTITImX5IN0DZtdIa%0D%0AvvUncfRDPGklDBs74lQDg6n5in1ugvplyl7w18gP5UidJUkrpD6X_vJQpWCeQq2g5WRwwc5nR8Y8%0D%0AH9cV-Hsel9JpzO73CHW_uekX5iV56NoVw1hvcC6FEihQ6UKVyRHNDVFrvV6ty_zk5g%0D%0A&amp;ref_=tt_nv_fol_inst\" itemprop=\"url\" target=\"_blank\" title=\"Follow IMDb on Instagram\"> <span class=\"desktop-sprite follow-instagram\"></span>\n",
       "</a>\n",
       "</li>\n",
       "</ul>\n",
       "</div>\n",
       "<div id=\"nb_personal\">\n",
       "<ul class=\"main_nav\" id=\"consumer_user_nav\">\n",
       "<li class=\"css_nav_menu no_arrow\" id=\"navUserMenu\">\n",
       "<p class=\"navCategory singleLine\">\n",
       "<a class=\"signin-button\" href=\"https://graph.facebook.com/v2.8/oauth/authorize?client_id=127059960673829&amp;scope=email%2Cuser_about_me%2Cuser_birthday&amp;state=eyI0OWU2YyI6ImRhMjkiLCJ1IjoiaHR0cHM6Ly93d3cuaW1kYi5jb20vP3JlZl89bnZfZmJfbGdpbiIsIm1hbnVhbExpbmsiOiJmYWxzZSJ9&amp;redirect_uri=https%3A%2F%2Fwww.imdb.com%2Fregistration%2Ffacebookhandler%2F\" id=\"facebook-signin-link\">\n",
       "<span class=\"facebook-logo\"></span>\n",
       "<span class=\"signin-facebook-text\">Sign in with Facebook</span></a>\n",
       "<a class=\"signin-other-options-text\" href=\"https://www.imdb.com/registration/signin?u=/title/tt6304046/&amp;ref_=nv_usr_lgin_1\" id=\"nblogin\" rel=\"login\">Other Sign in options</a>\n",
       "</p>\n",
       "</li>\n",
       "</ul>\n",
       "</div>\n",
       "</div>\n",
       "</div>\n",
       "<!-- no content received for slot: navstrip -->\n",
       "<!-- no content received for slot: injected_navstrip -->\n",
       "<script>\n",
       "    if (typeof uet == 'function') {\n",
       "      uet(\"ne\");\n",
       "    }\n",
       "</script>\n",
       "<div class=\"pagecontent\" id=\"pagecontent\" itemscope=\"\" itemtype=\"http://schema.org/Movie\">\n",
       "<!-- no content received for slot: injected_billboard -->\n",
       "<!-- no content received for slot: navboard -->\n",
       "<div class=\"flatland\" id=\"content-2-wide\">\n",
       "<div class=\"main\" id=\"main_top\">\n",
       "<div class=\"title-overview\">\n",
       "<script>\n",
       "    if ('csm' in window) {\n",
       "      csm.measure('csm_TitleOverviewWidget_started');\n",
       "    }\n",
       "  </script>\n",
       "<div class=\"heroic-overview\" id=\"title-overview-widget\">\n",
       "<div class=\"message_box\">\n",
       "<div class=\"hidden error\" id=\"star-ratings-widget-error\">\n",
       "<h2>There was an error trying to load your rating for this title.</h2>\n",
       "<p>Some parts of this page won't work property. Please reload or try later.</p>\n",
       "</div>\n",
       "</div>\n",
       "<div class=\"vital\">\n",
       "<div class=\"subnav\" id=\"quicklinksBar\">\n",
       "<div id=\"quicklinksMainSection\">\n",
       "<a class=\"quicklink\" href=\"/title/tt6304046/fullcredits?ref_=tt_ql_1\">FULL CAST AND CREW</a> <span class=\"ghost\">|</span>\n",
       "<a class=\"quicklink quicklinkGray\" href=\"/title/tt6304046/trivia?ref_=tt_ql_2\">TRIVIA</a> <span class=\"ghost\">|</span>\n",
       "<a class=\"quicklink\" href=\"http://pro.imdb.com/title/tt6304046?rf=cons_tt_contact&amp;ref_=cons_tt_contact\">IMDbPro</a>\n",
       "<span class=\"ghost\">|</span>\n",
       "<span class=\"show_more quicklink\">\n",
       "            MORE<span class=\"titleOverviewSprite quicklinksArrowUp\"></span>\n",
       "</span>\n",
       "<span class=\"show_less quicklink\" style=\"display:none\">\n",
       "           LESS<span class=\"titleOverviewSprite quicklinksArrowDown\"></span>\n",
       "</span>\n",
       "</div>\n",
       "<span class=\"titleOverviewShareButton launch-share-popover quicklink\">SHARE</span>\n",
       "<div id=\"share-popover\">\n",
       "<a class=\"close-popover\" href=\"#\">X</a>\n",
       "<h4>Share</h4>\n",
       "<a class=\"facebook\" href=\"http://www.facebook.com/sharer.php?u=http%3A%2F%2Fwww.imdb.com%2Ftitle%2Ftt6304046%2F%3Fref_%3Dext_shr_fb_tt\" onclick=\"window.open(&quot;http://www.facebook.com/sharer.php?u=http%3A%2F%2Fwww.imdb.com%2Ftitle%2Ftt6304046%2F%3Fref_%3Dext_shr_fb_tt&quot;, 'newWindow', 'width=626,height=436'); return false;\" target=\"_blank\" title=\"Share on Facebook\"><div class=\"option facebook\">\n",
       "<span class=\"titlePageSprite share_facebook\"></span>\n",
       "<div>Facebook</div>\n",
       "</div></a>\n",
       "<a class=\"twitter\" href=\"http://twitter.com/intent/tweet?text=Thelma%20(27%20October%202017%20(Norway))%20-%20imdb.com%2Ftitle%2Ftt6304046%2F%3Fref_%3Dext_shr_tw_tt\" onclick=\"window.open(&quot;http://twitter.com/intent/tweet?text=Thelma%20(27%20October%202017%20(Norway))%20-%20imdb.com%2Ftitle%2Ftt6304046%2F%3Fref_%3Dext_shr_tw_tt&quot;, 'newWindow', 'width=815,height=436'); return false;\" target=\"_blank\" title=\"Share on Twitter\"><div class=\"option twitter\">\n",
       "<span class=\"titlePageSprite share_twitter\"></span>\n",
       "<div>Twitter</div>\n",
       "</div></a>\n",
       "<a class=\"\" href=\"mailto:?subject=IMDb%3A%20Thelma%20(27%20October%202017%20(Norway))&amp;body=IMDb%3A%20Thelma%20(27%20October%202017%20(Norway))%0AA%20woman%20begins%20to%20fall%20in%20love%2C%20only%20to%20discover%20that%20she%20has%20fantastic%20powers.%0Ahttp%3A%2F%2Fwww.imdb.com%2Ftitle%2Ftt6304046%2F%3Fref_%3Dext_shr_eml_tt\" title=\"Share by e-mail\"><div class=\"option email\">\n",
       "<span class=\"titlePageSprite share_email\"></span>\n",
       "<div>E-mail</div>\n",
       "</div></a>\n",
       "<a class=\"open-checkin-popover\" href=\"#\">\n",
       "<div class=\"option checkin\">\n",
       "<span class=\"titlePageSprite share_checkin\"></span>\n",
       "<div>Check in</div>\n",
       "</div>\n",
       "</a>\n",
       "</div>\n",
       "<div id=\"share-checkin\">\n",
       "<div class=\"add_to_checkins\" data-const=\"tt6304046\" data-lcn=\"title-maindetails\">\n",
       "<span class=\"btn2_wrapper\"><a class=\"btn2 large btn2_text_on disabled checkins_action_btn\" onclick=\"\"><span class=\"btn2_glyph\">0</span><span class=\"btn2_text\">Check in</span></a></span> <div class=\"popup checkin-dialog\">\n",
       "<a class=\"small disabled close btn\">X</a>\n",
       "<span class=\"beta\">Beta</span>\n",
       "<span class=\"title\">I'm Watching This!</span>\n",
       "<div class=\"body\">\n",
       "<div class=\"info\">Keep track of everything you watch; tell your friends.\n",
       "            </div>\n",
       "<div class=\"small message_box\">\n",
       "<div class=\"hidden error\"><h2>Error</h2> Please try again!</div>\n",
       "<div class=\"hidden success\"><h2>Added to Your Check-Ins.</h2> <a href=\"/list/checkins\">View</a></div>\n",
       "</div>\n",
       "<textarea data-msg=\"Enter a comment...\"></textarea>\n",
       "<div class=\"share\">\n",
       "<button class=\"large primary btn\"><span>Check in</span></button>\n",
       "<!--\n",
       "                    Check-ins are more fun when<br>\n",
       "                    you <a href=\"/register/sharing\">enable Facebook sharing</a>!\n",
       "-->\n",
       "</div>\n",
       "</div>\n",
       "</div>\n",
       "<input name=\"49e6c\" type=\"hidden\" value=\"da29\">\n",
       "</input></div>\n",
       "</div>\n",
       "<div class=\"quicklinkSection\" id=\"full_subnav\" style=\"display:none\">\n",
       "<div class=\"quicklinkSectionColumn\">\n",
       "<div class=\"quicklinkGroup\">\n",
       "<div class=\"quicklinkSectionHeader\">DETAILS</div>\n",
       "<div class=\"quicklinkSectionItem\">\n",
       "<a class=\"quicklink\" href=\"/title/tt6304046/fullcredits?ref_=tt_ql_dt_1\">Full Cast and Crew</a> </div>\n",
       "<div class=\"quicklinkSectionItem\">\n",
       "<a class=\"quicklink\" href=\"/title/tt6304046/releaseinfo?ref_=tt_ql_dt_2\">Release Dates</a> </div>\n",
       "<div class=\"quicklinkSectionItem\">\n",
       "<a class=\"quicklink quicklinkGray\" href=\"/title/tt6304046/officialsites?ref_=tt_ql_dt_3\">Official Sites</a> </div>\n",
       "<div class=\"quicklinkSectionItem\">\n",
       "<a class=\"quicklink quicklinkGray\" href=\"/title/tt6304046/business?ref_=tt_ql_dt_4\">Box Office/Business</a> </div>\n",
       "<div class=\"quicklinkSectionItem\">\n",
       "<a class=\"quicklink\" href=\"/title/tt6304046/companycredits?ref_=tt_ql_dt_5\">Company Credits</a> </div>\n",
       "<div class=\"quicklinkSectionItem\">\n",
       "<a class=\"quicklink\" href=\"/title/tt6304046/locations?ref_=tt_ql_dt_6\">Filming Locations</a> </div>\n",
       "<div class=\"quicklinkSectionItem\">\n",
       "<a class=\"quicklink\" href=\"/title/tt6304046/technical?ref_=tt_ql_dt_7\">Technical Specs</a> </div>\n",
       "<div class=\"quicklinkSectionItem\">\n",
       "<a class=\"quicklink quicklinkGray\" href=\"/title/tt6304046/literature?ref_=tt_ql_dt_8\">Literature</a> </div>\n",
       "</div>\n",
       "</div>\n",
       "<div class=\"quicklinkSectionColumn\">\n",
       "<div class=\"quicklinkGroup\">\n",
       "<div class=\"quicklinkSectionHeader\">STORYLINE</div>\n",
       "<div class=\"quicklinkSectionItem\">\n",
       "<a class=\"quicklink quicklinkGray\" href=\"/title/tt6304046/taglines?ref_=tt_ql_stry_1\">Taglines</a> </div>\n",
       "<div class=\"quicklinkSectionItem\">\n",
       "<a class=\"quicklink\" href=\"/title/tt6304046/plotsummary?ref_=tt_ql_stry_2\">Plot Summary</a> </div>\n",
       "<div class=\"quicklinkSectionItem\">\n",
       "<a class=\"quicklink quicklinkGray\" href=\"/title/tt6304046/synopsis?ref_=tt_ql_stry_3\">Synopsis</a> </div>\n",
       "<div class=\"quicklinkSectionItem\">\n",
       "<a class=\"quicklink quicklinkGray\" href=\"/title/tt6304046/keywords?ref_=tt_ql_stry_4\">Plot Keywords</a> </div>\n",
       "</div>\n",
       "<div class=\"quicklinkGroup\">\n",
       "<div class=\"quicklinkSectionHeader\">RELATED ITEMS</div>\n",
       "<div class=\"quicklinkSectionItem\">\n",
       "<a class=\"quicklink\" href=\"/title/tt6304046/news?ref_=tt_ql_rel_1\">NewsDesk</a> </div>\n",
       "<div class=\"quicklinkSectionItem\">\n",
       "<a class=\"quicklink\" href=\"/title/tt6304046/externalsites?ref_=tt_ql_rel_2\">External Sites</a> </div>\n",
       "</div>\n",
       "</div>\n",
       "<div class=\"quicklinkSectionColumn\">\n",
       "<div class=\"quicklinkGroup\">\n",
       "<div class=\"quicklinkSectionHeader\">PHOTO &amp; VIDEO</div>\n",
       "<div class=\"quicklinkSectionItem\">\n",
       "<a class=\"quicklink\" href=\"/title/tt6304046/mediaindex?ref_=tt_ql_pv_1\">Photo Gallery</a> </div>\n",
       "<div class=\"quicklinkSectionItem\">\n",
       "<a class=\"quicklink quicklinkGray\" href=\"/title/tt6304046/videogallery?ref_=tt_ql_pv_2\">Trailers and Videos</a> </div>\n",
       "</div>\n",
       "<div class=\"quicklinkGroup\">\n",
       "<div class=\"quicklinkSectionHeader\">DID YOU KNOW?</div>\n",
       "<div class=\"quicklinkSectionItem\">\n",
       "<a class=\"quicklink quicklinkGray\" href=\"/title/tt6304046/trivia?ref_=tt_ql_trv_1\">Trivia</a> </div>\n",
       "<div class=\"quicklinkSectionItem\">\n",
       "<a class=\"quicklink quicklinkGray\" href=\"/title/tt6304046/goofs?ref_=tt_ql_trv_2\">Goofs</a> </div>\n",
       "<div class=\"quicklinkSectionItem\">\n",
       "<a class=\"quicklink quicklinkGray\" href=\"/title/tt6304046/crazycredits?ref_=tt_ql_trv_3\">Crazy Credits</a> </div>\n",
       "<div class=\"quicklinkSectionItem\">\n",
       "<a class=\"quicklink quicklinkGray\" href=\"/title/tt6304046/quotes?ref_=tt_ql_trv_4\">Quotes</a> </div>\n",
       "<div class=\"quicklinkSectionItem\">\n",
       "<a class=\"quicklink quicklinkGray\" href=\"/title/tt6304046/alternateversions?ref_=tt_ql_trv_5\">Alternate Versions</a> </div>\n",
       "<div class=\"quicklinkSectionItem\">\n",
       "<a class=\"quicklink quicklinkGray\" href=\"/title/tt6304046/movieconnections?ref_=tt_ql_trv_6\">Connections</a> </div>\n",
       "<div class=\"quicklinkSectionItem\">\n",
       "<a class=\"quicklink quicklinkGray\" href=\"/title/tt6304046/soundtrack?ref_=tt_ql_trv_7\">Soundtracks</a> </div>\n",
       "</div>\n",
       "</div>\n",
       "</div>\n",
       "</div>\n",
       "<div class=\"title_block\">\n",
       "<div class=\"title_bar_wrapper\">\n",
       "<div class=\"titleBar\">\n",
       "<div class=\"primary_ribbon\">\n",
       "<div class=\"ribbonize\" data-caller-name=\"title\" data-tconst=\"tt6304046\"></div>\n",
       "<div class=\"wlb_dropdown_btn\" data-caller-name=\"title\" data-size=\"large\" data-tconst=\"tt6304046\" data-type=\"primary\"></div>\n",
       "<div class=\"wlb_dropdown_list\" style=\"display:none\"></div>\n",
       "</div>\n",
       "<div class=\"title_wrapper\">\n",
       "<h1 class=\"\" itemprop=\"name\">Thelma <span id=\"titleYear\">(<a href=\"/year/2017/?ref_=tt_ov_inf\">2017</a>)</span> </h1>\n",
       "<div class=\"subtext\">\n",
       "<a href=\"/genre/Romance?ref_=tt_ov_inf\"><span class=\"itemprop\" itemprop=\"genre\">Romance</span></a>, \n",
       "<a href=\"/genre/Sci-Fi?ref_=tt_ov_inf\"><span class=\"itemprop\" itemprop=\"genre\">Sci-Fi</span></a>\n",
       "<span class=\"ghost\">|</span>\n",
       "<a href=\"/title/tt6304046/releaseinfo?ref_=tt_ov_inf\" title=\"See more release dates\">27 October 2017 (Norway)\n",
       "<meta content=\"2017-10-27\" itemprop=\"datePublished\"/>\n",
       "</a> </div>\n",
       "</div>\n",
       "</div>\n",
       "</div>\n",
       "</div>\n",
       "</div>\n",
       "<div class=\"plot_summary_wrapper\">\n",
       "<script>\n",
       "    if ('csm' in window) {\n",
       "      csm.measure('csm_TitlePlotAndCreditSummaryWidget_started');\n",
       "    }\n",
       "  </script>\n",
       "<div class=\"plot_summary \">\n",
       "<div class=\"summary_text\" itemprop=\"description\">\n",
       "                    A woman begins to fall in love, only to discover that she has fantastic powers.\n",
       "            </div>\n",
       "<div class=\"credit_summary_item\">\n",
       "<h4 class=\"inline\">Director:</h4>\n",
       "<span itemprop=\"director\" itemscope=\"\" itemtype=\"http://schema.org/Person\">\n",
       "<a href=\"/name/nm1258686?ref_=tt_ov_dr\" itemprop=\"url\"><span class=\"itemprop\" itemprop=\"name\">Joachim Trier</span></a> </span>\n",
       "</div>\n",
       "<div class=\"credit_summary_item\">\n",
       "<h4 class=\"inline\">Writers:</h4>\n",
       "<span itemprop=\"creator\" itemscope=\"\" itemtype=\"http://schema.org/Person\">\n",
       "<a href=\"/name/nm1258686?ref_=tt_ov_wr\" itemprop=\"url\"><span class=\"itemprop\" itemprop=\"name\">Joachim Trier</span></a>,             </span>\n",
       "<span itemprop=\"creator\" itemscope=\"\" itemtype=\"http://schema.org/Person\">\n",
       "<a href=\"/name/nm1258777?ref_=tt_ov_wr\" itemprop=\"url\"><span class=\"itemprop\" itemprop=\"name\">Eskil Vogt</span></a> </span>\n",
       "</div>\n",
       "<div class=\"credit_summary_item\">\n",
       "<h4 class=\"inline\">Stars:</h4>\n",
       "<span itemprop=\"actors\" itemscope=\"\" itemtype=\"http://schema.org/Person\">\n",
       "<a href=\"/name/nm4888033?ref_=tt_ov_st_sm\" itemprop=\"url\"><span class=\"itemprop\" itemprop=\"name\">Eili Harboe</span></a>,             </span>\n",
       "<span itemprop=\"actors\" itemscope=\"\" itemtype=\"http://schema.org/Person\">\n",
       "<a href=\"/name/nm8311678?ref_=tt_ov_st_sm\" itemprop=\"url\"><span class=\"itemprop\" itemprop=\"name\">Okay Kaya</span></a>,             </span>\n",
       "<span itemprop=\"actors\" itemscope=\"\" itemtype=\"http://schema.org/Person\">\n",
       "<a href=\"/name/nm2717241?ref_=tt_ov_st_sm\" itemprop=\"url\"><span class=\"itemprop\" itemprop=\"name\">Ellen Dorrit Petersen</span></a> </span>\n",
       "<span class=\"ghost\">|</span>\n",
       "<a href=\"fullcredits?ref_=tt_ov_st_sm\">See full cast &amp; crew</a> »\n",
       "    </div>\n",
       "</div>\n",
       "<script>\n",
       "    if ('csm' in window) {\n",
       "      csm.measure('csm_TitlePlotAndCreditSummaryWidget_finished');\n",
       "    }\n",
       "  </script>\n",
       "<script>\n",
       "    if ('csm' in window) {\n",
       "      csm.measure('csm_TitleReviewsAndPopularityWidget_started');\n",
       "    }\n",
       "  </script>\n",
       "<script>\n",
       "    if ('csm' in window) {\n",
       "      csm.measure('csm_TitleReviewsAndPopularityWidget_finished');\n",
       "    }\n",
       "  </script>\n",
       "</div>\n",
       "</div>\n",
       "<script>\n",
       "    if ('csm' in window) {\n",
       "      csm.measure('csm_TitleOverviewWidget_finished');\n",
       "    }\n",
       "  </script>\n",
       "</div>\n",
       "<script>\n",
       "    if (typeof uet == 'function') {\n",
       "      uet(\"af\");\n",
       "    }\n",
       "</script>\n",
       "<script>\n",
       "    if ('csm' in window) {\n",
       "      csm.measure('csm_atf_main');\n",
       "    }\n",
       "  </script>\n",
       "</div>\n",
       "<script>\n",
       "    if (typeof uet == 'function') {\n",
       "      uet(\"cf\");\n",
       "    }\n",
       "</script>\n",
       "<div id=\"sidebar\">\n",
       "<!-- no content received for slot: top_rhs -->\n",
       "<script>\n",
       "    if ('csm' in window) {\n",
       "      csm.measure('csm_atf_sidebar');\n",
       "    }\n",
       "  </script>\n",
       "<a name=\"slot_right-3\"></a>\n",
       "<div class=\"mini-article\">\n",
       "<script type=\"text/javascript\">if(typeof uet === 'function'){uet('bb','NinjaWidget',{wb:1});}</script>\n",
       "<span class=\"ab_widget\">\n",
       "<div class=\"ab_ninja\">\n",
       "<span class=\"widget_header\"> <span class=\"oneline\"> <a href=\"/oscars/oscars-best-picture-winners/rg2111806208?pf_rd_m=A2FGELUUNOQJNL&amp;pf_rd_p=2850248202&amp;pf_rd_r=1C2KMM27XVPKCFY5FTRB&amp;pf_rd_s=right-3&amp;pf_rd_t=15021&amp;pf_rd_i=tt6304046&amp;ref_=tt_acd_best-rhs_hd\"> <h3>A Complete History of Best Picture Oscar Winners</h3> </a> </span> </span> <div class=\"widget_content no_inline_blurb\"> <div class=\"widget_nested\"> <div class=\"ninja_image_pack\"> <div class=\"ninja_center\"> <div class=\"ninja_image first_image last_image\" style=\"width:307px;height:auto;\"> <div style=\"width:307px;height:auto;margin:0 auto;\"> <div class=\"widget_image\"> <div class=\"image\"> <a href=\"/oscars/oscars-best-picture-winners/rg2111806208?imageid=rm4255501824&amp;pf_rd_m=A2FGELUUNOQJNL&amp;pf_rd_p=2850248202&amp;pf_rd_r=1C2KMM27XVPKCFY5FTRB&amp;pf_rd_s=right-3&amp;pf_rd_t=15021&amp;pf_rd_i=tt6304046&amp;ref_=tt_acd_best-rhs_i_1\"> <img alt=\"Clark Gable and Claudette Colbert in It Happened One Night (1934)\" class=\"pri_image\" data-src-x2=\"https://images-na.ssl-images-amazon.com/images/M/MV5BMTcxNzUwNDk2NF5BMl5BanBnXkFtZTgwMjUwNTQ3MTE@._V1_SY230_CR2,0,307,230_AL_UY460_UX614_AL_.jpg\" itemprop=\"image\" src=\"https://images-na.ssl-images-amazon.com/images/M/MV5BMTcxNzUwNDk2NF5BMl5BanBnXkFtZTgwMjUwNTQ3MTE@._V1_SY230_CR2,0,307,230_AL_.jpg\" title=\"Clark Gable and Claudette Colbert in It Happened One Night (1934)\"/> </a> </div> </div> </div> </div> </div> </div> </div> </div> <p class=\"blurb\">Take a look back at all of the Best Picture Oscars winners in the history of the ceremony.</p> <p class=\"seemore\"><a class=\"position_bottom supplemental\" href=\"/oscars/oscars-best-picture-winners/rg2111806208?pf_rd_m=A2FGELUUNOQJNL&amp;pf_rd_p=2850248202&amp;pf_rd_r=1C2KMM27XVPKCFY5FTRB&amp;pf_rd_s=right-3&amp;pf_rd_t=15021&amp;pf_rd_i=tt6304046&amp;ref_=tt_acd_best-rhs_sm\">View the gallery</a></p> </div>\n",
       "</span>\n",
       "<script type=\"text/javascript\">\n",
       "                if(typeof uex === 'function'){uex('ld','NinjaWidget',{wb:1});}\n",
       "            </script>\n",
       "</div>\n",
       "<div class=\"aux-content-widget-2\">\n",
       "<div class=\"social\">\n",
       "<script type=\"text/javascript\">if (uet) { uet('bb', 'facebook_like_iframe', {wb: 1}); }</script>\n",
       "<div class=\"social_networking_like\">\n",
       "<iframe allowtransparency=\"allowTransparency\" class=\"social-iframe\" frameborder=\"0\" height=\"65\" id=\"iframe_like\" name=\"fbLikeIFrame_0\" ref=\"http://www.imdb.com/title/tt6304046/\" scrolling=\"no\" width=\"280\"></iframe>\n",
       "</div>\n",
       "</div>\n",
       "</div>\n",
       "<!-- no content received for slot: rhs_cornerstone -->\n",
       "<script>\n",
       "    if (typeof uet == 'function') {\n",
       "      uet(\"bb\", \"RelatedNewsWidgetRHS\", {wb: 1});\n",
       "    }\n",
       "</script>\n",
       "<script>\n",
       "    if ('csm' in window) {\n",
       "      csm.measure('csm_RelatedNewsWidgetRHS_started');\n",
       "    }\n",
       "  </script>\n",
       "<div class=\"mini-article\">\n",
       "<h3>Related News</h3>\n",
       "<div class=\"news_item odd\">\n",
       "<span itemprop=\"headline\">\n",
       "<a href=\"/title/tt6304046/news?ref_=tt_nwr_1#ni60637841\">Top 100 Most Anticipated Foreign Films of 2017: #26. Joachim Trier’s Thelma</a>\n",
       "</span>\n",
       "<br/><small>\n",
       "<span itemprop=\"datePublished\">\n",
       "                                  8 January 2017 6:00 PM, +02:00\n",
       "                                </span>\n",
       "<span class=\"ghost\">|</span><span itemprop=\"provider\">\n",
       "<a href=\"/news/ns0000070?ref_=tt_nwr_1\">ioncinema</a>\n",
       "</span>\n",
       "</small>\n",
       "</div>\n",
       "</div>\n",
       "<script>\n",
       "    if ('csm' in window) {\n",
       "      csm.measure('csm_RelatedNewsWidgetRHS_finished');\n",
       "    }\n",
       "  </script>\n",
       "<script>\n",
       "    if (typeof uet == 'function') {\n",
       "      uet(\"be\", \"RelatedNewsWidgetRHS\", {wb: 1});\n",
       "    }\n",
       "</script>\n",
       "<script>\n",
       "    if (typeof uex == 'function') {\n",
       "      uex(\"ld\", \"RelatedNewsWidgetRHS\", {wb: 1});\n",
       "    }\n",
       "</script>\n",
       "<!-- no content received for slot: middle_rhs -->\n",
       "<a name=\"slot_right-7\"></a>\n",
       "<div class=\"mini-article\">\n",
       "<script type=\"text/javascript\">if(typeof uet === 'function'){uet('bb','ZergnetWidget',{wb:1});}</script>\n",
       "<span class=\"ab_widget\">\n",
       "<div class=\"ab_zergnet\">\n",
       "<span class=\"widget_header\"> <span class=\"oneline\"> <h3>Around The Web</h3> <span> | </span> <h4>Powered by ZergNet</h4> </span> </span> <div class=\"widget_content no_inline_blurb\"> <div class=\"widget_nested\"> <iframe class=\"zergnet-frame__sidebar\" scrolling=\"no\" seamless=\"\" src=\"http://ia.media-imdb.com/images/G/01/imdb/html/zergnet-2975767399._CB522861833_.html?widgetId=46653\"></iframe> </div> </div> </div>\n",
       "</span>\n",
       "<script type=\"text/javascript\">\n",
       "                if(typeof uex === 'function'){uex('ld','ZergnetWidget',{wb:1});}\n",
       "            </script>\n",
       "</div>\n",
       "<script>\n",
       "    if (typeof uet == 'function') {\n",
       "      uet(\"bb\", \"RelatedListsWidget\", {wb: 1});\n",
       "    }\n",
       "</script>\n",
       "<div class=\"mini-article\">\n",
       "<div id=\"relatedListsWidget\">\n",
       "<div class=\"rightcornerlink\">\n",
       "<a href=\"/list/create?ref_=tt_rls\">Create a list</a> »\n",
       "                </div>\n",
       "<h3>User Lists</h3>\n",
       "<p>Related lists from IMDb users</p>\n",
       "<div class=\"list-preview even\">\n",
       "<div class=\"list-preview-item-narrow\">\n",
       "<a href=\"/list/ls033220416?ref_=tt_rls_1\"><img alt=\"list image\" class=\"loadlate hidden \" height=\"86\" loadlate=\"https://images-na.ssl-images-amazon.com/images/M/MV5BYTU3MjBjYWEtNTZlMi00YmEzLWIwYjctNmUxMzM5NTE3Y2Y4L2ltYWdlL2ltYWdlXkEyXkFqcGdeQXVyNjk3NDI1NTI@._V1_UY86_CR34,0,86,86_AL_.jpg\" src=\"/images/nopicture/medium/film.png\" title=\"list image\" width=\"86\"/></a> </div>\n",
       "<div class=\"list_name\">\n",
       "<strong><a href=\"/list/ls033220416?ref_=tt_rls_1\">\n",
       "Added to IMDb\n",
       "</a></strong>\n",
       "</div>\n",
       "<div class=\"list_meta\">\n",
       "            a list of 36 titles\n",
       "            <br/>created 11 months ago\n",
       "        </div>\n",
       "<div class=\"clear\"> </div>\n",
       "</div>\n",
       "<div class=\"list-preview odd\">\n",
       "<div class=\"list-preview-item-narrow\">\n",
       "<a href=\"/list/ls067771487?ref_=tt_rls_2\"><img alt=\"list image\" class=\"loadlate hidden \" height=\"86\" loadlate=\"https://images-na.ssl-images-amazon.com/images/M/MV5BMjIzMDk4MDE0Ml5BMl5BanBnXkFtZTgwMDI3NDE5MDI@._V1_UY86_CR33,0,86,86_AL_.jpg\" src=\"/images/nopicture/medium/film.png\" title=\"list image\" width=\"86\"/></a> </div>\n",
       "<div class=\"list_name\">\n",
       "<strong><a href=\"/list/ls067771487?ref_=tt_rls_2\">\n",
       "Upcoming\n",
       "</a></strong>\n",
       "</div>\n",
       "<div class=\"list_meta\">\n",
       "            a list of 21 titles\n",
       "            <br/>created 8 months ago\n",
       "        </div>\n",
       "<div class=\"clear\"> </div>\n",
       "</div>\n",
       "<div class=\"list-preview even\">\n",
       "<div class=\"list-preview-item-narrow\">\n",
       "<a href=\"/list/ls063719113?ref_=tt_rls_3\"><img alt=\"list image\" class=\"loadlate hidden \" height=\"86\" loadlate=\"https://images-na.ssl-images-amazon.com/images/M/MV5BMTcwMzYzMTkxN15BMl5BanBnXkFtZTgwNDM1ODE5MDI@._V1_UY86_CR59,0,86,86_AL_.jpg\" src=\"/images/nopicture/medium/film.png\" title=\"list image\" width=\"86\"/></a> </div>\n",
       "<div class=\"list_name\">\n",
       "<strong><a href=\"/list/ls063719113?ref_=tt_rls_3\">\n",
       "2017 movies\n",
       "</a></strong>\n",
       "</div>\n",
       "<div class=\"list_meta\">\n",
       "            a list of 208 titles\n",
       "            <br/>created 7 months ago\n",
       "        </div>\n",
       "<div class=\"clear\"> </div>\n",
       "</div>\n",
       "<div class=\"list-preview odd\">\n",
       "<div class=\"list-preview-item-narrow\">\n",
       "<a href=\"/list/ls066930944?ref_=tt_rls_4\"><img alt=\"list image\" class=\"loadlate hidden \" height=\"86\" loadlate=\"https://images-na.ssl-images-amazon.com/images/M/MV5BMjI3NzA1MDk4N15BMl5BanBnXkFtZTgwNzE2ODIyMTI@._V1_UX86_CR0,0,86,86_AL_.jpg\" src=\"/images/nopicture/medium/film.png\" title=\"list image\" width=\"86\"/></a> </div>\n",
       "<div class=\"list_name\">\n",
       "<strong><a href=\"/list/ls066930944?ref_=tt_rls_4\">\n",
       "Anticipated Films of 2017\n",
       "</a></strong>\n",
       "</div>\n",
       "<div class=\"list_meta\">\n",
       "            a list of 30 titles\n",
       "            <br/>created 1 month ago\n",
       "        </div>\n",
       "<div class=\"clear\"> </div>\n",
       "</div>\n",
       "<div class=\"list-preview even\">\n",
       "<div class=\"list-preview-item-narrow\">\n",
       "<a href=\"/list/ls062542266?ref_=tt_rls_5\"><img alt=\"list image\" class=\"loadlate hidden \" height=\"86\" loadlate=\"https://images-na.ssl-images-amazon.com/images/M/MV5BMjE2NDkxNTY2M15BMl5BanBnXkFtZTgwMDc2NzE0MTI@._V1_UX86_CR0,0,86,86_AL_.jpg\" src=\"/images/nopicture/medium/film.png\" title=\"list image\" width=\"86\"/></a> </div>\n",
       "<div class=\"list_name\">\n",
       "<strong><a href=\"/list/ls062542266?ref_=tt_rls_5\">\n",
       "TOP 100 FILMS IN 2017 THE BEST MOVIES\n",
       "</a></strong>\n",
       "</div>\n",
       "<div class=\"list_meta\">\n",
       "            a list of 196 titles\n",
       "            <br/>created 3 weeks ago\n",
       "        </div>\n",
       "<div class=\"clear\"> </div>\n",
       "</div>\n",
       "<div class=\"see-more\">\n",
       "<a href=\"/lists/tt6304046?ref_=tt_rls_sm\">See all related lists</a> »\n",
       "                </div>\n",
       "</div>\n",
       "</div>\n",
       "<script>\n",
       "    if (typeof uet == 'function') {\n",
       "      uet(\"be\", \"RelatedListsWidget\", {wb: 1});\n",
       "    }\n",
       "</script>\n",
       "<script>\n",
       "    if (typeof uex == 'function') {\n",
       "      uex(\"ld\", \"RelatedListsWidget\", {wb: 1});\n",
       "    }\n",
       "</script>\n",
       "<!-- no content received for slot: btf_rhs1 -->\n",
       "<script>\n",
       "    if (typeof uet == 'function') {\n",
       "      uet(\"bb\", \"ConnectWidget\", {wb: 1});\n",
       "    }\n",
       "</script>\n",
       "<div class=\"mini-article\">\n",
       "<h3>Connect with IMDb</h3>\n",
       "<div id=\"facebookWrapper\">\n",
       "<iframe allowtransparency=\"true\" frameborder=\"0\" id=\"facebookIframe\" scrolling=\"no\"></iframe>\n",
       "</div>\n",
       "<hr>\n",
       "<iframe allowtransparency=\"true\" frameborder=\"0\" id=\"twitterIframe\" role=\"presentation\" scrolling=\"no\"></iframe>\n",
       "</hr></div>\n",
       "<script>\n",
       "    if (typeof uet == 'function') {\n",
       "      uet(\"be\", \"ConnectWidget\", {wb: 1});\n",
       "    }\n",
       "</script>\n",
       "<script>\n",
       "    if (typeof uex == 'function') {\n",
       "      uex(\"ld\", \"ConnectWidget\", {wb: 1});\n",
       "    }\n",
       "</script>\n",
       "<script>\n",
       "    if (typeof uet == 'function') {\n",
       "      uet(\"bb\", \"TitleMainDetailsRelatedPolls\", {wb: 1});\n",
       "    }\n",
       "</script>\n",
       "<script>\n",
       "    if ('csm' in window) {\n",
       "      csm.measure('csm_TitleMainDetailsRelatedPolls_started');\n",
       "    }\n",
       "  </script>\n",
       "<script>\n",
       "    if ('csm' in window) {\n",
       "      csm.measure('csm_TitleMainDetailsRelatedPolls_finished');\n",
       "    }\n",
       "  </script>\n",
       "<script>\n",
       "    if (typeof uet == 'function') {\n",
       "      uet(\"be\", \"TitleMainDetailsRelatedPolls\", {wb: 1});\n",
       "    }\n",
       "</script>\n",
       "<script>\n",
       "    if (typeof uex == 'function') {\n",
       "      uex(\"ld\", \"TitleMainDetailsRelatedPolls\", {wb: 1});\n",
       "    }\n",
       "</script>\n",
       "<!-- no content received for slot: bottom_rhs -->\n",
       "<!-- no content received for slot: btf_rhs2 -->\n",
       "</div>\n",
       "<div class=\"main\" id=\"main_bottom\">\n",
       "<script>\n",
       "    if (typeof uet == 'function') {\n",
       "      uet(\"bb\", \"TitleProductionNotesWidget\", {wb: 1});\n",
       "    }\n",
       "</script>\n",
       "<script>\n",
       "    if ('csm' in window) {\n",
       "      csm.measure('csm_TitleProductionNotesWidget_started');\n",
       "    }\n",
       "  </script>\n",
       "<div class=\"article\" id=\"titleProduction\">\n",
       "<h2>Production Notes from IMDbPro</h2>\n",
       "<b>Status: </b> \n",
       "            Post-production\n",
       "            <span class=\"ghost\">|</span>\n",
       "            See complete list of\n",
       "            <span class=\"see-more inline\"><a href=\"/r/tt_prodnotes_list/inproduction/\" itemprop=\"url\">in-production titles</a></span> »\n",
       "              <br/><b>Updated: </b>\n",
       "              18 January 2017\n",
       "        <br/><b>More Info: </b> See more\n",
       "<a href=\"/r/tt_prodnotes_seemore/title/tt6304046/prodnotes\">production information</a>\n",
       "         about this title on  \n",
       "<a href=\"/r/tt_prodnotes_seemore/\">IMDbPro</a>.\n",
       "    </div>\n",
       "<script>\n",
       "    if ('csm' in window) {\n",
       "      csm.measure('csm_TitleProductionNotesWidget_finished');\n",
       "    }\n",
       "  </script>\n",
       "<script>\n",
       "    if (typeof uet == 'function') {\n",
       "      uet(\"be\", \"TitleProductionNotesWidget\", {wb: 1});\n",
       "    }\n",
       "</script>\n",
       "<script>\n",
       "    if (typeof uex == 'function') {\n",
       "      uex(\"ld\", \"TitleProductionNotesWidget\", {wb: 1});\n",
       "    }\n",
       "</script>\n",
       "<script>\n",
       "    if (typeof uet == 'function') {\n",
       "      uet(\"bb\", \"TitleMediaStripWidget\", {wb: 1});\n",
       "    }\n",
       "</script>\n",
       "<script>\n",
       "    if ('csm' in window) {\n",
       "      csm.measure('csm_TitleMediaStripWidget_started');\n",
       "    }\n",
       "  </script>\n",
       "<script>\n",
       "    if ('csm' in window) {\n",
       "      csm.measure('csm_TitleMediaStripWidget_started');\n",
       "    }\n",
       "  </script>\n",
       "<div class=\"article\" id=\"titleMediaStrip\">\n",
       "<div class=\"mediastrip_container combined\">\n",
       "<div id=\"combined-photos\">\n",
       "<h2>Photos</h2>\n",
       "<div class=\"mediastrip\">\n",
       "<a href=\"/title/tt6304046/mediaviewer/rm2320893184?context=default&amp;ref_=tt_pv_md_1\" itemprop=\"thumbnailUrl\"><img alt=\"Thelma (2017)\" class=\"loadlate hidden \" height=\"105\" itemprop=\"image\" loadlate=\"https://images-na.ssl-images-amazon.com/images/M/MV5BMGJhZDA1ZmUtZDU2Zi00YzY5LTljNWMtZjhhZDFjZGY0OTE3L2ltYWdlL2ltYWdlXkEyXkFqcGdeQXVyNzM0MDQ1Mw@@._V1_UY105_CR35,0,105,105_AL_.jpg\" src=\"http://ia.media-imdb.com/images/G/01/imdb/images/nopicture/small/unknown-1394846836._CB522736550_.png\" title=\"Thelma (2017)\" width=\"105\"/></a><a class=\"add-image\" href=\"/register/login\"> <span class=\"add-image-container\" style=\"width:105px;height:105px\">\n",
       "<span class=\"add-image-icon\"></span>\n",
       "<span class=\"add-image-text\">Add Image</span>\n",
       "</span>\n",
       "</a> </div>\n",
       "</div>\n",
       "<div class=\"combined-see-more see-more\">\n",
       "<a href=\"/title/tt6304046/mediaindex?ref_=tt_pv_mi_sm\"><span class=\"titlePageSprite showAllVidsAndPics\"></span></a>\n",
       "<a href=\"/title/tt6304046/mediaindex?ref_=tt_pv_mi_sm\">1 photo</a>\n",
       "<span class=\"ghost\">|</span>\n",
       "<a href=\"/title/tt6304046/news?ref_=tt_pv_nw_sm\">1 news article</a> »            </div>\n",
       "</div>\n",
       "</div>\n",
       "<script>\n",
       "    if ('csm' in window) {\n",
       "      csm.measure('csm_TitleMediaStripWidget_finished');\n",
       "    }\n",
       "  </script>\n",
       "<script>\n",
       "    if ('csm' in window) {\n",
       "      csm.measure('csm_TitleMediaStripWidget_finished');\n",
       "    }\n",
       "  </script>\n",
       "<script>\n",
       "    if (typeof uet == 'function') {\n",
       "      uet(\"be\", \"TitleMediaStripWidget\", {wb: 1});\n",
       "    }\n",
       "</script>\n",
       "<script>\n",
       "    if (typeof uex == 'function') {\n",
       "      uex(\"ld\", \"TitleMediaStripWidget\", {wb: 1});\n",
       "    }\n",
       "</script>\n",
       "<script>\n",
       "    if (typeof uet == 'function') {\n",
       "      uet(\"bb\", \"TitleRecsWidget\", {wb: 1});\n",
       "    }\n",
       "</script>\n",
       "<script>\n",
       "    if ('csm' in window) {\n",
       "      csm.measure('csm_TitleRecsWidget_started');\n",
       "    }\n",
       "  </script>\n",
       "<div class=\"article\" id=\"titleRecs\">\n",
       "<span class=\"rightcornerlink\">\n",
       "<a href=\"/help/show_leaf?personalrecommendations&amp;ref_=tt_rec_lm\">Learn more</a>\n",
       "</span>\n",
       "<h2 class=\"rec_heading_wrapper\">\n",
       "<span class=\"rec_heading\" data-spec=\"p13nsims:tt6304046\">People who liked this also liked... </span>\n",
       "</h2>\n",
       "<div class=\"rec_wrapper\" data-caller-name=\"p13nsims-title\" data-items-per-page=\"6\" data-items-per-request=\"24\" data-specs=\"p13nsims:tt6304046\" id=\"title_recs\">\n",
       "<div class=\"rec_const_picker\">\n",
       "<div class=\"rec_view\">\n",
       "<div class=\"rec_grave\" style=\"display:none\"></div>\n",
       "<div class=\"rec_slide\">\n",
       "<div class=\"rec_page\">\n",
       "<div class=\"rec_item\" data-info=\"\" data-spec=\"p13nsims:tt6304046\" data-tconst=\"tt1736633\">\n",
       "<div class=\"rec_overlay\">\n",
       "<div class=\"rec_filter\"></div>\n",
       "<div class=\"glyph rec_watchlist_glyph\"></div>\n",
       "<div class=\"glyph rec_blocked_glyph\"></div>\n",
       "<div class=\"glyph rec_rating_glyph\"></div>\n",
       "<div class=\"glyph rec_pending_glyph\"></div>\n",
       "</div>\n",
       "<a href=\"/title/tt1736633/?ref_=tt_rec_tti\"><img alt=\"Oslo, 31. august\" class=\"loadlate hidden rec_poster_img\" height=\"113\" loadlate=\"https://images-na.ssl-images-amazon.com/images/M/MV5BMTM5ODEwOTM0OV5BMl5BanBnXkFtZTcwOTQ3NzI3Nw@@._V1_UY113_CR0,0,76,113_AL_.jpg\" src=\"http://ia.media-imdb.com/images/G/01/imdb/images/nopicture/small/film-293970583._CB522736596_.png\" title=\"Oslo, 31. august\" width=\"76\"/> <br/>\n",
       "</a> </div>\n",
       "<div class=\"rec_item\" data-info=\"\" data-spec=\"p13nsims:tt6304046\" data-tconst=\"tt0827517\">\n",
       "<div class=\"rec_overlay\">\n",
       "<div class=\"rec_filter\"></div>\n",
       "<div class=\"glyph rec_watchlist_glyph\"></div>\n",
       "<div class=\"glyph rec_blocked_glyph\"></div>\n",
       "<div class=\"glyph rec_rating_glyph\"></div>\n",
       "<div class=\"glyph rec_pending_glyph\"></div>\n",
       "</div>\n",
       "<a href=\"/title/tt0827517/?ref_=tt_rec_tti\"><img alt=\"Reprise\" class=\"loadlate hidden rec_poster_img\" height=\"113\" loadlate=\"https://images-na.ssl-images-amazon.com/images/M/MV5BMTI0NjYzMjkxMl5BMl5BanBnXkFtZTcwMDk4NTE3MQ@@._V1_UY113_CR0,0,76,113_AL_.jpg\" src=\"http://ia.media-imdb.com/images/G/01/imdb/images/nopicture/small/film-293970583._CB522736596_.png\" title=\"Reprise\" width=\"76\"/> <br/>\n",
       "</a> </div>\n",
       "<div class=\"rec_item\" data-info=\"\" data-spec=\"p13nsims:tt6304046\" data-tconst=\"tt2217859\">\n",
       "<div class=\"rec_overlay\">\n",
       "<div class=\"rec_filter\"></div>\n",
       "<div class=\"glyph rec_watchlist_glyph\"></div>\n",
       "<div class=\"glyph rec_blocked_glyph\"></div>\n",
       "<div class=\"glyph rec_rating_glyph\"></div>\n",
       "<div class=\"glyph rec_pending_glyph\"></div>\n",
       "</div>\n",
       "<a href=\"/title/tt2217859/?ref_=tt_rec_tti\"><img alt=\"Louder Than Bombs\" class=\"loadlate hidden rec_poster_img\" height=\"113\" loadlate=\"https://images-na.ssl-images-amazon.com/images/M/MV5BMTc0MTQxMDY2OV5BMl5BanBnXkFtZTgwNTIwNTgxODE@._V1_UY113_CR0,0,76,113_AL_.jpg\" src=\"http://ia.media-imdb.com/images/G/01/imdb/images/nopicture/small/film-293970583._CB522736596_.png\" title=\"Louder Than Bombs\" width=\"76\"/> <br/>\n",
       "</a> </div>\n",
       "<div class=\"rec_item\" data-info=\"\" data-spec=\"p13nsims:tt6304046\" data-tconst=\"tt5265964\">\n",
       "<div class=\"rec_overlay\">\n",
       "<div class=\"rec_filter\"></div>\n",
       "<div class=\"glyph rec_watchlist_glyph\"></div>\n",
       "<div class=\"glyph rec_blocked_glyph\"></div>\n",
       "<div class=\"glyph rec_rating_glyph\"></div>\n",
       "<div class=\"glyph rec_pending_glyph\"></div>\n",
       "</div>\n",
       "<a href=\"/title/tt5265964/?ref_=tt_rec_tti\"> <div class=\"gen_poster gen_rec_small gen_movie\">\n",
       "<div class=\"gen_pane\">\n",
       "<br/>\n",
       "<div class=\"gen_title\">\n",
       "Donde Nace la Vida\n",
       "</div>\n",
       "</div>\n",
       "</div>\n",
       "</a> </div>\n",
       "</div>\n",
       "</div>\n",
       "<div class=\"rec_nav\">\n",
       "<div class=\"rec_nav_page_num\"></div>\n",
       "<a class=\"rec_nav_left\">◄ Prev 6</a>\n",
       "<a class=\"rec_nav_right\">Next 6 ►</a>\n",
       "</div>\n",
       "</div>\n",
       "</div>\n",
       "<div class=\"rec_overviews\">\n",
       "<div class=\"rec_overview\" data-tconst=\"tt1736633\">\n",
       "<div class=\"rec_poster\" data-info=\"\" data-spec=\"p13nsims:tt6304046\" data-tconst=\"tt1736633\">\n",
       "<div class=\"rec_overlay\">\n",
       "<div class=\"rec_filter\"></div>\n",
       "<div class=\"glyph rec_watchlist_glyph\"></div>\n",
       "<div class=\"glyph rec_blocked_glyph\"></div>\n",
       "<div class=\"glyph rec_rating_glyph\"></div>\n",
       "<div class=\"glyph rec_pending_glyph\"></div>\n",
       "</div>\n",
       "<a href=\"/title/tt1736633/?ref_=tt_rec_tti\"><img alt=\"Oslo, 31. august\" class=\"loadlate hidden rec_poster_img\" height=\"190\" loadlate=\"https://images-na.ssl-images-amazon.com/images/M/MV5BMTM5ODEwOTM0OV5BMl5BanBnXkFtZTcwOTQ3NzI3Nw@@._V1_UY190_CR1,0,128,190_AL_.jpg\" src=\"http://ia.media-imdb.com/images/G/01/imdb/images/nopicture/large/film-184890147._CB522736516_.png\" title=\"Oslo, 31. august\" width=\"128\"/> <br/>\n",
       "</a> </div>\n",
       "<div class=\"rec_actions\">\n",
       "<div class=\"rec_action_divider\">\n",
       "<div class=\"wlb_classic_wrapper\">\n",
       "<span class=\"wlb_wrapper\">\n",
       "<a class=\"rec_wlb_watchlist_btn\" data-caller-name=\"p13nsims-title\" data-size=\"medium\" data-tconst=\"tt1736633\" data-type=\"primary\"></a>\n",
       "</span>\n",
       "</div>\n",
       "</div>\n",
       "<div class=\"rec_action_divider\">\n",
       "<span class=\"btn2_wrapper\">\n",
       "<a class=\"rec_next rec_half_button btn2 medium btn2_text_on\" onclick=\"\" title=\"Show me the next title\">\n",
       "<span class=\"btn2_glyph\">0</span>\n",
       "<span class=\"btn2_text\">Next »</span>\n",
       "</a>\n",
       "</span>\n",
       "</div>\n",
       "<input name=\"49e6c\" type=\"hidden\" value=\"da29\">\n",
       "</input></div>\n",
       "<div class=\"rec_details\">\n",
       "<div class=\"rec-info\">\n",
       "<div class=\"rec-jaw-upper\">\n",
       "<div class=\"rec-title\">\n",
       "<a href=\"/title/tt1736633/?ref_=tt_rec_tt\"><b>Oslo, 31. august</b></a>\n",
       "<span class=\"nobr\">(2011)</span>\n",
       "</div>\n",
       "<div class=\"rec-cert-genre rec-elipsis\">\n",
       "        \n",
       "\n",
       "            \n",
       "\n",
       "                     Drama          \n",
       "\n",
       "\n",
       "        \n",
       "    </div>\n",
       "<div class=\"rec-rating\">\n",
       "<div class=\"rating rating-list\" data-auth=\"\" data-ga-identifier=\"\" data-starbar-class=\"rating-list\" data-user=\"\" id=\"tt1736633|imdb|7.6|7.6|p13nsims-title|tt6304046|title|main\" title=\"Users rated this 7.6/10 (14,343 votes) - click stars to rate\">\n",
       "<span class=\"rating-bg\"> </span>\n",
       "<span class=\"rating-imdb \" style=\"width: 106.4px\"> </span>\n",
       "<span class=\"rating-stars\">\n",
       "<a href=\"/register/login?why=vote&amp;ref_=tt_ov_rt\" rel=\"nofollow\" title=\"Register or login to rate this title\"><span>1</span></a>\n",
       "<a href=\"/register/login?why=vote&amp;ref_=tt_ov_rt\" rel=\"nofollow\" title=\"Register or login to rate this title\"><span>2</span></a>\n",
       "<a href=\"/register/login?why=vote&amp;ref_=tt_ov_rt\" rel=\"nofollow\" title=\"Register or login to rate this title\"><span>3</span></a>\n",
       "<a href=\"/register/login?why=vote&amp;ref_=tt_ov_rt\" rel=\"nofollow\" title=\"Register or login to rate this title\"><span>4</span></a>\n",
       "<a href=\"/register/login?why=vote&amp;ref_=tt_ov_rt\" rel=\"nofollow\" title=\"Register or login to rate this title\"><span>5</span></a>\n",
       "<a href=\"/register/login?why=vote&amp;ref_=tt_ov_rt\" rel=\"nofollow\" title=\"Register or login to rate this title\"><span>6</span></a>\n",
       "<a href=\"/register/login?why=vote&amp;ref_=tt_ov_rt\" rel=\"nofollow\" title=\"Register or login to rate this title\"><span>7</span></a>\n",
       "<a href=\"/register/login?why=vote&amp;ref_=tt_ov_rt\" rel=\"nofollow\" title=\"Register or login to rate this title\"><span>8</span></a>\n",
       "<a href=\"/register/login?why=vote&amp;ref_=tt_ov_rt\" rel=\"nofollow\" title=\"Register or login to rate this title\"><span>9</span></a>\n",
       "<a href=\"/register/login?why=vote&amp;ref_=tt_ov_rt\" rel=\"nofollow\" title=\"Register or login to rate this title\"><span>10</span></a>\n",
       "</span>\n",
       "<span class=\"rating-rating \"><span class=\"value\">7.6</span><span class=\"grey\">/</span><span class=\"grey\">10</span></span>\n",
       "<span class=\"rating-cancel \"><a href=\"/title/tt1736633/vote?v=X;k=\" rel=\"nofollow\" title=\"Delete\"><span>X</span></a></span>\n",
       " </div>\n",
       "<div class=\"rec-outline\">\n",
       "<p>\n",
       "One day in the life of Anders, a young recovering drug addict, who takes a brief leave from his treatment center to interview for a job and catch up with old friends in Oslo.    </p>\n",
       "</div>\n",
       "</div>\n",
       "</div>\n",
       "<div class=\"rec-jaw-lower\">\n",
       "<div class=\"rec-jaw-teeth\"></div>\n",
       "<div class=\"rec-director rec-ellipsis\">\n",
       "<b>Director:</b>\n",
       "Joachim Trier  </div>\n",
       "<div class=\"rec-actor rec-ellipsis\"> <span>\n",
       "<b>Stars:</b> \n",
       "Anders Danielsen Lie, \n",
       "Hans Olav Brenner, \n",
       "Ingrid Olava</span></div>\n",
       "</div>\n",
       "</div>\n",
       "</div>\n",
       "</div>\n",
       "<div class=\"rec_overview\" data-tconst=\"tt0827517\">\n",
       "<div class=\"rec_poster\" data-info=\"\" data-spec=\"p13nsims:tt6304046\" data-tconst=\"tt0827517\">\n",
       "<div class=\"rec_overlay\">\n",
       "<div class=\"rec_filter\"></div>\n",
       "<div class=\"glyph rec_watchlist_glyph\"></div>\n",
       "<div class=\"glyph rec_blocked_glyph\"></div>\n",
       "<div class=\"glyph rec_rating_glyph\"></div>\n",
       "<div class=\"glyph rec_pending_glyph\"></div>\n",
       "</div>\n",
       "<a href=\"/title/tt0827517/?ref_=tt_rec_tti\"><img alt=\"Reprise\" class=\"loadlate hidden rec_poster_img\" height=\"190\" loadlate=\"https://images-na.ssl-images-amazon.com/images/M/MV5BMTI0NjYzMjkxMl5BMl5BanBnXkFtZTcwMDk4NTE3MQ@@._V1_UY190_CR0,0,128,190_AL_.jpg\" src=\"http://ia.media-imdb.com/images/G/01/imdb/images/nopicture/large/film-184890147._CB522736516_.png\" title=\"Reprise\" width=\"128\"/> <br/>\n",
       "</a> </div>\n",
       "<div class=\"rec_actions\">\n",
       "<div class=\"rec_action_divider\">\n",
       "<div class=\"wlb_classic_wrapper\">\n",
       "<span class=\"wlb_wrapper\">\n",
       "<a class=\"rec_wlb_watchlist_btn\" data-caller-name=\"p13nsims-title\" data-size=\"medium\" data-tconst=\"tt0827517\" data-type=\"primary\"></a>\n",
       "</span>\n",
       "</div>\n",
       "</div>\n",
       "<div class=\"rec_action_divider\">\n",
       "<span class=\"btn2_wrapper\">\n",
       "<a class=\"rec_next rec_half_button btn2 medium btn2_text_on\" onclick=\"\" title=\"Show me the next title\">\n",
       "<span class=\"btn2_glyph\">0</span>\n",
       "<span class=\"btn2_text\">Next »</span>\n",
       "</a>\n",
       "</span>\n",
       "</div>\n",
       "<input name=\"49e6c\" type=\"hidden\" value=\"da29\">\n",
       "</input></div>\n",
       "<div class=\"rec_details\">\n",
       "<div class=\"rec-info\">\n",
       "<div class=\"rec-jaw-upper\">\n",
       "<div class=\"rec-title\">\n",
       "<a href=\"/title/tt0827517/?ref_=tt_rec_tt\"><b>Reprise</b></a>\n",
       "<span class=\"nobr\">(2006)</span>\n",
       "</div>\n",
       "<div class=\"rec-cert-genre rec-elipsis\">\n",
       "<span class=\"us_r titlePageSprite absmiddle\" title=\"Ratings certificate for Reprise (2006)\"></span>\n",
       "\n",
       "                     Drama          \n",
       "\n",
       "\n",
       "        \n",
       "    </div>\n",
       "<div class=\"rec-rating\">\n",
       "<div class=\"rating rating-list\" data-auth=\"\" data-ga-identifier=\"\" data-starbar-class=\"rating-list\" data-user=\"\" id=\"tt0827517|imdb|7.4|7.4|p13nsims-title|tt6304046|title|main\" title=\"Users rated this 7.4/10 (7,685 votes) - click stars to rate\">\n",
       "<span class=\"rating-bg\"> </span>\n",
       "<span class=\"rating-imdb \" style=\"width: 103.6px\"> </span>\n",
       "<span class=\"rating-stars\">\n",
       "<a href=\"/register/login?why=vote&amp;ref_=tt_ov_rt\" rel=\"nofollow\" title=\"Register or login to rate this title\"><span>1</span></a>\n",
       "<a href=\"/register/login?why=vote&amp;ref_=tt_ov_rt\" rel=\"nofollow\" title=\"Register or login to rate this title\"><span>2</span></a>\n",
       "<a href=\"/register/login?why=vote&amp;ref_=tt_ov_rt\" rel=\"nofollow\" title=\"Register or login to rate this title\"><span>3</span></a>\n",
       "<a href=\"/register/login?why=vote&amp;ref_=tt_ov_rt\" rel=\"nofollow\" title=\"Register or login to rate this title\"><span>4</span></a>\n",
       "<a href=\"/register/login?why=vote&amp;ref_=tt_ov_rt\" rel=\"nofollow\" title=\"Register or login to rate this title\"><span>5</span></a>\n",
       "<a href=\"/register/login?why=vote&amp;ref_=tt_ov_rt\" rel=\"nofollow\" title=\"Register or login to rate this title\"><span>6</span></a>\n",
       "<a href=\"/register/login?why=vote&amp;ref_=tt_ov_rt\" rel=\"nofollow\" title=\"Register or login to rate this title\"><span>7</span></a>\n",
       "<a href=\"/register/login?why=vote&amp;ref_=tt_ov_rt\" rel=\"nofollow\" title=\"Register or login to rate this title\"><span>8</span></a>\n",
       "<a href=\"/register/login?why=vote&amp;ref_=tt_ov_rt\" rel=\"nofollow\" title=\"Register or login to rate this title\"><span>9</span></a>\n",
       "<a href=\"/register/login?why=vote&amp;ref_=tt_ov_rt\" rel=\"nofollow\" title=\"Register or login to rate this title\"><span>10</span></a>\n",
       "</span>\n",
       "<span class=\"rating-rating \"><span class=\"value\">7.4</span><span class=\"grey\">/</span><span class=\"grey\">10</span></span>\n",
       "<span class=\"rating-cancel \"><a href=\"/title/tt0827517/vote?v=X;k=\" rel=\"nofollow\" title=\"Delete\"><span>X</span></a></span>\n",
       " </div>\n",
       "<div class=\"rec-outline\">\n",
       "<p>\n",
       "Two competitive friends, fueled by literary aspirations and youthful exuberance, endure the pangs of love, depression and burgeoning careers.    </p>\n",
       "</div>\n",
       "</div>\n",
       "</div>\n",
       "<div class=\"rec-jaw-lower\">\n",
       "<div class=\"rec-jaw-teeth\"></div>\n",
       "<div class=\"rec-director rec-ellipsis\">\n",
       "<b>Director:</b>\n",
       "Joachim Trier  </div>\n",
       "<div class=\"rec-actor rec-ellipsis\"> <span>\n",
       "<b>Stars:</b> \n",
       "Anders Danielsen Lie, \n",
       "Espen Klouman Høiner, \n",
       "Viktoria Winge</span></div>\n",
       "</div>\n",
       "</div>\n",
       "</div>\n",
       "</div>\n",
       "<div class=\"rec_overview\" data-tconst=\"tt2217859\">\n",
       "<div class=\"rec_poster\" data-info=\"\" data-spec=\"p13nsims:tt6304046\" data-tconst=\"tt2217859\">\n",
       "<div class=\"rec_overlay\">\n",
       "<div class=\"rec_filter\"></div>\n",
       "<div class=\"glyph rec_watchlist_glyph\"></div>\n",
       "<div class=\"glyph rec_blocked_glyph\"></div>\n",
       "<div class=\"glyph rec_rating_glyph\"></div>\n",
       "<div class=\"glyph rec_pending_glyph\"></div>\n",
       "</div>\n",
       "<a href=\"/title/tt2217859/?ref_=tt_rec_tti\"><img alt=\"Louder Than Bombs\" class=\"loadlate hidden rec_poster_img\" height=\"190\" loadlate=\"https://images-na.ssl-images-amazon.com/images/M/MV5BMTc0MTQxMDY2OV5BMl5BanBnXkFtZTgwNTIwNTgxODE@._V1_UY190_CR0,0,128,190_AL_.jpg\" src=\"http://ia.media-imdb.com/images/G/01/imdb/images/nopicture/large/film-184890147._CB522736516_.png\" title=\"Louder Than Bombs\" width=\"128\"/> <br/>\n",
       "</a> </div>\n",
       "<div class=\"rec_actions\">\n",
       "<div class=\"rec_action_divider\">\n",
       "<div class=\"wlb_classic_wrapper\">\n",
       "<span class=\"wlb_wrapper\">\n",
       "<a class=\"rec_wlb_watchlist_btn\" data-caller-name=\"p13nsims-title\" data-size=\"medium\" data-tconst=\"tt2217859\" data-type=\"primary\"></a>\n",
       "</span>\n",
       "</div>\n",
       "</div>\n",
       "<div class=\"rec_action_divider\">\n",
       "<span class=\"btn2_wrapper\">\n",
       "<a class=\"rec_next rec_half_button btn2 medium btn2_text_on\" onclick=\"\" title=\"Show me the next title\">\n",
       "<span class=\"btn2_glyph\">0</span>\n",
       "<span class=\"btn2_text\">Next »</span>\n",
       "</a>\n",
       "</span>\n",
       "</div>\n",
       "<input name=\"49e6c\" type=\"hidden\" value=\"da29\">\n",
       "</input></div>\n",
       "<div class=\"rec_details\">\n",
       "<div class=\"rec-info\">\n",
       "<div class=\"rec-jaw-upper\">\n",
       "<div class=\"rec-title\">\n",
       "<a href=\"/title/tt2217859/?ref_=tt_rec_tt\"><b>Louder Than Bombs</b></a>\n",
       "<span class=\"nobr\">(2015)</span>\n",
       "</div>\n",
       "<div class=\"rec-cert-genre rec-elipsis\">\n",
       "<span class=\"us_r titlePageSprite absmiddle\" title=\"Ratings certificate for Louder Than Bombs (2015)\"></span>\n",
       "\n",
       "                     Drama          \n",
       "\n",
       "\n",
       "        \n",
       "    </div>\n",
       "<div class=\"rec-rating\">\n",
       "<div class=\"rating rating-list\" data-auth=\"\" data-ga-identifier=\"\" data-starbar-class=\"rating-list\" data-user=\"\" id=\"tt2217859|imdb|6.6|6.6|p13nsims-title|tt6304046|title|main\" title=\"Users rated this 6.6/10 (7,379 votes) - click stars to rate\">\n",
       "<span class=\"rating-bg\"> </span>\n",
       "<span class=\"rating-imdb \" style=\"width: 92.4px\"> </span>\n",
       "<span class=\"rating-stars\">\n",
       "<a href=\"/register/login?why=vote&amp;ref_=tt_ov_rt\" rel=\"nofollow\" title=\"Register or login to rate this title\"><span>1</span></a>\n",
       "<a href=\"/register/login?why=vote&amp;ref_=tt_ov_rt\" rel=\"nofollow\" title=\"Register or login to rate this title\"><span>2</span></a>\n",
       "<a href=\"/register/login?why=vote&amp;ref_=tt_ov_rt\" rel=\"nofollow\" title=\"Register or login to rate this title\"><span>3</span></a>\n",
       "<a href=\"/register/login?why=vote&amp;ref_=tt_ov_rt\" rel=\"nofollow\" title=\"Register or login to rate this title\"><span>4</span></a>\n",
       "<a href=\"/register/login?why=vote&amp;ref_=tt_ov_rt\" rel=\"nofollow\" title=\"Register or login to rate this title\"><span>5</span></a>\n",
       "<a href=\"/register/login?why=vote&amp;ref_=tt_ov_rt\" rel=\"nofollow\" title=\"Register or login to rate this title\"><span>6</span></a>\n",
       "<a href=\"/register/login?why=vote&amp;ref_=tt_ov_rt\" rel=\"nofollow\" title=\"Register or login to rate this title\"><span>7</span></a>\n",
       "<a href=\"/register/login?why=vote&amp;ref_=tt_ov_rt\" rel=\"nofollow\" title=\"Register or login to rate this title\"><span>8</span></a>\n",
       "<a href=\"/register/login?why=vote&amp;ref_=tt_ov_rt\" rel=\"nofollow\" title=\"Register or login to rate this title\"><span>9</span></a>\n",
       "<a href=\"/register/login?why=vote&amp;ref_=tt_ov_rt\" rel=\"nofollow\" title=\"Register or login to rate this title\"><span>10</span></a>\n",
       "</span>\n",
       "<span class=\"rating-rating \"><span class=\"value\">6.6</span><span class=\"grey\">/</span><span class=\"grey\">10</span></span>\n",
       "<span class=\"rating-cancel \"><a href=\"/title/tt2217859/vote?v=X;k=\" rel=\"nofollow\" title=\"Delete\"><span>X</span></a></span>\n",
       " </div>\n",
       "<div class=\"rec-outline\">\n",
       "<p>\n",
       "The fractious family of a father and his two sons confront their different feelings and memories of their deceased wife and mother, a famed war photographer.    </p>\n",
       "</div>\n",
       "</div>\n",
       "</div>\n",
       "<div class=\"rec-jaw-lower\">\n",
       "<div class=\"rec-jaw-teeth\"></div>\n",
       "<div class=\"rec-director rec-ellipsis\">\n",
       "<b>Director:</b>\n",
       "Joachim Trier  </div>\n",
       "<div class=\"rec-actor rec-ellipsis\"> <span>\n",
       "<b>Stars:</b> \n",
       "Jesse Eisenberg, \n",
       "Gabriel Byrne, \n",
       "Isabelle Huppert</span></div>\n",
       "</div>\n",
       "</div>\n",
       "</div>\n",
       "</div>\n",
       "<div class=\"rec_overview\" data-tconst=\"tt5265964\">\n",
       "<div class=\"rec_poster\" data-info=\"\" data-spec=\"p13nsims:tt6304046\" data-tconst=\"tt5265964\">\n",
       "<div class=\"rec_overlay\">\n",
       "<div class=\"rec_filter\"></div>\n",
       "<div class=\"glyph rec_watchlist_glyph\"></div>\n",
       "<div class=\"glyph rec_blocked_glyph\"></div>\n",
       "<div class=\"glyph rec_rating_glyph\"></div>\n",
       "<div class=\"glyph rec_pending_glyph\"></div>\n",
       "</div>\n",
       "<a href=\"/title/tt5265964/?ref_=tt_rec_tti\"> <div class=\"gen_poster gen_rec_large gen_movie\">\n",
       "<div class=\"gen_pane\">\n",
       "<br/>\n",
       "<div class=\"gen_title\">\n",
       "Donde Nace la Vida\n",
       "</div>\n",
       "</div>\n",
       "</div>\n",
       "</a> </div>\n",
       "<div class=\"rec_actions\">\n",
       "<div class=\"rec_action_divider\">\n",
       "<div class=\"wlb_classic_wrapper\">\n",
       "<span class=\"wlb_wrapper\">\n",
       "<a class=\"rec_wlb_watchlist_btn\" data-caller-name=\"p13nsims-title\" data-size=\"medium\" data-tconst=\"tt5265964\" data-type=\"primary\"></a>\n",
       "</span>\n",
       "</div>\n",
       "</div>\n",
       "<div class=\"rec_action_divider\">\n",
       "<span class=\"btn2_wrapper\">\n",
       "<a class=\"rec_next rec_half_button btn2 medium btn2_text_on\" onclick=\"\" title=\"Show me the next title\">\n",
       "<span class=\"btn2_glyph\">0</span>\n",
       "<span class=\"btn2_text\">Next »</span>\n",
       "</a>\n",
       "</span>\n",
       "</div>\n",
       "<input name=\"49e6c\" type=\"hidden\" value=\"da29\">\n",
       "</input></div>\n",
       "<div class=\"rec_details\">\n",
       "<div class=\"rec-info\">\n",
       "<div class=\"rec-jaw-upper\">\n",
       "<div class=\"rec-title\">\n",
       "<a href=\"/title/tt5265964/?ref_=tt_rec_tt\"><b>Donde Nace la Vida</b></a>\n",
       "</div>\n",
       "<div class=\"rec-cert-genre rec-elipsis\">\n",
       "        \n",
       "\n",
       "            \n",
       "\n",
       "                     Drama          \n",
       "\n",
       "\n",
       "        \n",
       "    </div>\n",
       "<div class=\"rec-rating\">\n",
       "<div class=\"rating rating-list\">\n",
       "<div class=\"rating-ineligible\">\n",
       "<a href=\"/help/show_leaf?votestopfaq&amp;ref_=tt_ov_rt\">Not yet released</a>\n",
       "</div>\n",
       "</div>\n",
       "<div class=\"rec-outline\">\n",
       "</div>\n",
       "</div>\n",
       "</div>\n",
       "<div class=\"rec-jaw-lower\">\n",
       "<div class=\"rec-jaw-teeth\"></div>\n",
       "<div class=\"rec-director rec-ellipsis\">\n",
       "<b>Director:</b>\n",
       "Carlos Reygadas  </div>\n",
       "<div class=\"rec-actor rec-ellipsis\"> <span>\n",
       "</span></div>\n",
       "</div>\n",
       "</div>\n",
       "</div>\n",
       "</div>\n",
       "</div>\n",
       "</div>\n",
       "</div>\n",
       "<script>\n",
       "    if ('csm' in window) {\n",
       "      csm.measure('csm_TitleRecsWidget_finished');\n",
       "    }\n",
       "  </script>\n",
       "<script>\n",
       "    if (typeof uet == 'function') {\n",
       "      uet(\"be\", \"TitleRecsWidget\", {wb: 1});\n",
       "    }\n",
       "</script>\n",
       "<script>\n",
       "    if (typeof uex == 'function') {\n",
       "      uex(\"ld\", \"TitleRecsWidget\", {wb: 1});\n",
       "    }\n",
       "</script>\n",
       "<script>\n",
       "    if (typeof uet == 'function') {\n",
       "      uet(\"bb\", \"TitleCastWidget\", {wb: 1});\n",
       "    }\n",
       "</script>\n",
       "<script>\n",
       "    if ('csm' in window) {\n",
       "      csm.measure('csm_TitleCastWidget_started');\n",
       "    }\n",
       "  </script>\n",
       "<div class=\"article\" id=\"titleCast\">\n",
       "<span class=\"rightcornerlink\">\n",
       "<a href=\"/register/login?why=edit&amp;ref_=tt_cl\" rel=\"login\">Edit</a>\n",
       "</span>\n",
       "<h2>Cast</h2>\n",
       "<table class=\"cast_list\">\n",
       "<tr><td class=\"castlist_label\" colspan=\"4\">Credited cast:</td></tr>\n",
       "<tr class=\"odd\">\n",
       "<td class=\"primary_photo\">\n",
       "<a href=\"/name/nm4888033/?ref_=tt_cl_i1\"><img alt=\"Eili Harboe\" class=\"\" height=\"44\" src=\"http://ia.media-imdb.com/images/G/01/imdb/images/nopicture/32x44/name-2138558783._CB522736171_.png\" title=\"Eili Harboe\" width=\"32\"/></a> </td>\n",
       "<td class=\"itemprop\" itemprop=\"actor\" itemscope=\"\" itemtype=\"http://schema.org/Person\">\n",
       "<a href=\"/name/nm4888033/?ref_=tt_cl_t1\" itemprop=\"url\"> <span class=\"itemprop\" itemprop=\"name\">Eili Harboe</span>\n",
       "</a> </td>\n",
       "<td class=\"ellipsis\">\n",
       "              ...\n",
       "          </td>\n",
       "<td class=\"character\">\n",
       "<div>\n",
       "            Thelma \n",
       "                  \n",
       "              </div>\n",
       "</td>\n",
       "</tr>\n",
       "<tr class=\"even\">\n",
       "<td class=\"primary_photo\">\n",
       "<a href=\"/name/nm8311678/?ref_=tt_cl_i2\"><img alt=\"Okay Kaya\" class=\"\" height=\"44\" src=\"http://ia.media-imdb.com/images/G/01/imdb/images/nopicture/32x44/name-2138558783._CB522736171_.png\" title=\"Okay Kaya\" width=\"32\"/></a> </td>\n",
       "<td class=\"itemprop\" itemprop=\"actor\" itemscope=\"\" itemtype=\"http://schema.org/Person\">\n",
       "<a href=\"/name/nm8311678/?ref_=tt_cl_t2\" itemprop=\"url\"> <span class=\"itemprop\" itemprop=\"name\">Okay Kaya</span>\n",
       "</a> </td>\n",
       "<td class=\"ellipsis\">\n",
       "              ...\n",
       "          </td>\n",
       "<td class=\"character\">\n",
       "<div>\n",
       "            Anja \n",
       "                  \n",
       "              </div>\n",
       "</td>\n",
       "</tr>\n",
       "<tr class=\"odd\">\n",
       "<td class=\"primary_photo\">\n",
       "<a href=\"/name/nm2717241/?ref_=tt_cl_i3\"><img alt=\"Ellen Dorrit Petersen\" class=\"loadlate hidden \" height=\"44\" loadlate=\"https://images-na.ssl-images-amazon.com/images/M/MV5BMjA2NTI0MTYwOF5BMl5BanBnXkFtZTgwNzM3MjM3NzE@._V1_UX32_CR0,0,32,44_AL_.jpg\" src=\"http://ia.media-imdb.com/images/G/01/imdb/images/nopicture/32x44/name-2138558783._CB522736171_.png\" title=\"Ellen Dorrit Petersen\" width=\"32\"/></a> </td>\n",
       "<td class=\"itemprop\" itemprop=\"actor\" itemscope=\"\" itemtype=\"http://schema.org/Person\">\n",
       "<a href=\"/name/nm2717241/?ref_=tt_cl_t3\" itemprop=\"url\"> <span class=\"itemprop\" itemprop=\"name\">Ellen Dorrit Petersen</span>\n",
       "</a> </td>\n",
       "<td class=\"ellipsis\">\n",
       "              ...\n",
       "          </td>\n",
       "<td class=\"character\">\n",
       "<div>\n",
       "            Unni \n",
       "                  \n",
       "              </div>\n",
       "</td>\n",
       "</tr>\n",
       "<tr class=\"even\">\n",
       "<td class=\"primary_photo\">\n",
       "<a href=\"/name/nm0706152/?ref_=tt_cl_i4\"><img alt=\"Henrik Rafaelsen\" class=\"loadlate hidden \" height=\"44\" loadlate=\"https://images-na.ssl-images-amazon.com/images/M/MV5BMzE3NjA4NTM4N15BMl5BanBnXkFtZTgwMjA1NTYwMjE@._V1_UX32_CR0,0,32,44_AL_.jpg\" src=\"http://ia.media-imdb.com/images/G/01/imdb/images/nopicture/32x44/name-2138558783._CB522736171_.png\" title=\"Henrik Rafaelsen\" width=\"32\"/></a> </td>\n",
       "<td class=\"itemprop\" itemprop=\"actor\" itemscope=\"\" itemtype=\"http://schema.org/Person\">\n",
       "<a href=\"/name/nm0706152/?ref_=tt_cl_t4\" itemprop=\"url\"> <span class=\"itemprop\" itemprop=\"name\">Henrik Rafaelsen</span>\n",
       "</a> </td>\n",
       "<td class=\"ellipsis\">\n",
       "              ...\n",
       "          </td>\n",
       "<td class=\"character\">\n",
       "<div>\n",
       "            Trond \n",
       "                  \n",
       "              </div>\n",
       "</td>\n",
       "</tr>\n",
       "<tr><td class=\"castlist_label\" colspan=\"4\">Rest of cast listed alphabetically:</td></tr>\n",
       "<tr class=\"odd\">\n",
       "<td class=\"primary_photo\">\n",
       "<a href=\"/name/nm2017961/?ref_=tt_cl_i5\"><img alt=\"Anders Mossling\" class=\"\" height=\"44\" src=\"http://ia.media-imdb.com/images/G/01/imdb/images/nopicture/32x44/name-2138558783._CB522736171_.png\" title=\"Anders Mossling\" width=\"32\"/></a> </td>\n",
       "<td class=\"itemprop\" itemprop=\"actor\" itemscope=\"\" itemtype=\"http://schema.org/Person\">\n",
       "<a href=\"/name/nm2017961/?ref_=tt_cl_t5\" itemprop=\"url\"> <span class=\"itemprop\" itemprop=\"name\">Anders Mossling</span>\n",
       "</a> </td>\n",
       "<td class=\"ellipsis\">\n",
       "              ...\n",
       "          </td>\n",
       "<td class=\"character\">\n",
       "<div>\n",
       "            Dr. Paulsson \n",
       "                  \n",
       "              </div>\n",
       "</td>\n",
       "</tr>\n",
       "<tr class=\"even\">\n",
       "<td class=\"primary_photo\">\n",
       "<a href=\"/name/nm2077509/?ref_=tt_cl_i6\"><img alt=\"Marte Magnusdotter Solem\" class=\"\" height=\"44\" src=\"http://ia.media-imdb.com/images/G/01/imdb/images/nopicture/32x44/name-2138558783._CB522736171_.png\" title=\"Marte Magnusdotter Solem\" width=\"32\"/></a> </td>\n",
       "<td class=\"itemprop\" itemprop=\"actor\" itemscope=\"\" itemtype=\"http://schema.org/Person\">\n",
       "<a href=\"/name/nm2077509/?ref_=tt_cl_t6\" itemprop=\"url\"> <span class=\"itemprop\" itemprop=\"name\">Marte Magnusdotter Solem</span>\n",
       "</a> </td>\n",
       "<td class=\"ellipsis\">\n",
       "              ...\n",
       "          </td>\n",
       "<td class=\"character\">\n",
       "<div>\n",
       "            Neurologist \n",
       "                  \n",
       "              </div>\n",
       "</td>\n",
       "</tr>\n",
       "<tr class=\"odd\">\n",
       "<td class=\"primary_photo\">\n",
       "<a href=\"/name/nm0096685/?ref_=tt_cl_i7\"><img alt=\"Vanessa Borgli\" class=\"\" height=\"44\" src=\"http://ia.media-imdb.com/images/G/01/imdb/images/nopicture/32x44/name-2138558783._CB522736171_.png\" title=\"Vanessa Borgli\" width=\"32\"/></a> </td>\n",
       "<td class=\"itemprop\" itemprop=\"actor\" itemscope=\"\" itemtype=\"http://schema.org/Person\">\n",
       "<a href=\"/name/nm0096685/?ref_=tt_cl_t7\" itemprop=\"url\"> <span class=\"itemprop\" itemprop=\"name\">Vanessa Borgli</span>\n",
       "</a> </td>\n",
       "<td class=\"ellipsis\">\n",
       "              ...\n",
       "          </td>\n",
       "<td class=\"character\">\n",
       "<div>\n",
       "            Vilde, Anja's mother \n",
       "                  \n",
       "              </div>\n",
       "</td>\n",
       "</tr>\n",
       "<tr class=\"even\">\n",
       "<td class=\"primary_photo\">\n",
       "<a href=\"/name/nm7666823/?ref_=tt_cl_i8\"><img alt=\"Jonas Jörgensen\" class=\"\" height=\"44\" src=\"http://ia.media-imdb.com/images/G/01/imdb/images/nopicture/32x44/name-2138558783._CB522736171_.png\" title=\"Jonas Jörgensen\" width=\"32\"/></a> </td>\n",
       "<td class=\"itemprop\" itemprop=\"actor\" itemscope=\"\" itemtype=\"http://schema.org/Person\">\n",
       "<a href=\"/name/nm7666823/?ref_=tt_cl_t8\" itemprop=\"url\"> <span class=\"itemprop\" itemprop=\"name\">Jonas Jörgensen</span>\n",
       "</a> </td>\n",
       "<td class=\"ellipsis\">\n",
       "              ...\n",
       "          </td>\n",
       "<td class=\"character\">\n",
       "<div>\n",
       "            Epilepsi Patient \n",
       "                  \n",
       "              </div>\n",
       "</td>\n",
       "</tr>\n",
       "<tr class=\"odd\">\n",
       "<td class=\"primary_photo\">\n",
       "<a href=\"/name/nm1461179/?ref_=tt_cl_i9\"><img alt=\"Ingrid Giæver\" class=\"\" height=\"44\" src=\"http://ia.media-imdb.com/images/G/01/imdb/images/nopicture/32x44/name-2138558783._CB522736171_.png\" title=\"Ingrid Giæver\" width=\"32\"/></a> </td>\n",
       "<td class=\"itemprop\" itemprop=\"actor\" itemscope=\"\" itemtype=\"http://schema.org/Person\">\n",
       "<a href=\"/name/nm1461179/?ref_=tt_cl_t9\" itemprop=\"url\"> <span class=\"itemprop\" itemprop=\"name\">Ingrid Giæver</span>\n",
       "</a> </td>\n",
       "<td class=\"ellipsis\">\n",
       "              ...\n",
       "          </td>\n",
       "<td class=\"character\">\n",
       "<div>\n",
       "            Julie \n",
       "                  \n",
       "              </div>\n",
       "</td>\n",
       "</tr>\n",
       "<tr class=\"even\">\n",
       "<td class=\"primary_photo\">\n",
       "<a href=\"/name/nm7611437/?ref_=tt_cl_i10\"><img alt=\"Steinar Klouman Hallert\" class=\"\" height=\"44\" src=\"http://ia.media-imdb.com/images/G/01/imdb/images/nopicture/32x44/name-2138558783._CB522736171_.png\" title=\"Steinar Klouman Hallert\" width=\"32\"/></a> </td>\n",
       "<td class=\"itemprop\" itemprop=\"actor\" itemscope=\"\" itemtype=\"http://schema.org/Person\">\n",
       "<a href=\"/name/nm7611437/?ref_=tt_cl_t10\" itemprop=\"url\"> <span class=\"itemprop\" itemprop=\"name\">Steinar Klouman Hallert</span>\n",
       "</a> </td>\n",
       "<td class=\"ellipsis\">\n",
       "              ...\n",
       "          </td>\n",
       "<td class=\"character\">\n",
       "<div>\n",
       "            Kristoffer \n",
       "                  \n",
       "              </div>\n",
       "</td>\n",
       "</tr>\n",
       "<tr class=\"odd\">\n",
       "<td class=\"primary_photo\">\n",
       "<a href=\"/name/nm8753179/?ref_=tt_cl_i11\"><img alt=\"Grethe Eltervåg\" class=\"\" height=\"44\" src=\"http://ia.media-imdb.com/images/G/01/imdb/images/nopicture/32x44/name-2138558783._CB522736171_.png\" title=\"Grethe Eltervåg\" width=\"32\"/></a> </td>\n",
       "<td class=\"itemprop\" itemprop=\"actor\" itemscope=\"\" itemtype=\"http://schema.org/Person\">\n",
       "<a href=\"/name/nm8753179/?ref_=tt_cl_t11\" itemprop=\"url\"> <span class=\"itemprop\" itemprop=\"name\">Grethe Eltervåg</span>\n",
       "</a> </td>\n",
       "<td class=\"ellipsis\">\n",
       "              ...\n",
       "          </td>\n",
       "<td class=\"character\">\n",
       "<div>\n",
       "            Thelma, 6 years old \n",
       "                  \n",
       "              </div>\n",
       "</td>\n",
       "</tr>\n",
       "<tr class=\"even\">\n",
       "<td class=\"primary_photo\">\n",
       "<a href=\"/name/nm3862145/?ref_=tt_cl_i12\"><img alt=\"Oskar Pask\" class=\"\" height=\"44\" src=\"http://ia.media-imdb.com/images/G/01/imdb/images/nopicture/32x44/name-2138558783._CB522736171_.png\" title=\"Oskar Pask\" width=\"32\"/></a> </td>\n",
       "<td class=\"itemprop\" itemprop=\"actor\" itemscope=\"\" itemtype=\"http://schema.org/Person\">\n",
       "<a href=\"/name/nm3862145/?ref_=tt_cl_t12\" itemprop=\"url\"> <span class=\"itemprop\" itemprop=\"name\">Oskar Pask</span>\n",
       "</a> </td>\n",
       "<td class=\"ellipsis\">\n",
       "              ...\n",
       "          </td>\n",
       "<td class=\"character\">\n",
       "<div>\n",
       "            Daniel \n",
       "                  \n",
       "              </div>\n",
       "</td>\n",
       "</tr>\n",
       "<tr class=\"odd\">\n",
       "<td class=\"primary_photo\">\n",
       "<a href=\"/name/nm8753180/?ref_=tt_cl_i13\"><img alt=\"Ludvig Algeback\" class=\"\" height=\"44\" src=\"http://ia.media-imdb.com/images/G/01/imdb/images/nopicture/32x44/name-2138558783._CB522736171_.png\" title=\"Ludvig Algeback\" width=\"32\"/></a> </td>\n",
       "<td class=\"itemprop\" itemprop=\"actor\" itemscope=\"\" itemtype=\"http://schema.org/Person\">\n",
       "<a href=\"/name/nm8753180/?ref_=tt_cl_t13\" itemprop=\"url\"> <span class=\"itemprop\" itemprop=\"name\">Ludvig Algeback</span>\n",
       "</a> </td>\n",
       "<td class=\"ellipsis\">\n",
       "              ...\n",
       "          </td>\n",
       "<td class=\"character\">\n",
       "<div>\n",
       "            Mattias \n",
       "                  \n",
       "              </div>\n",
       "</td>\n",
       "</tr>\n",
       "<tr class=\"even\">\n",
       "<td class=\"primary_photo\">\n",
       "<a href=\"/name/nm8753181/?ref_=tt_cl_i14\"><img alt=\"Ian Twedmark\" class=\"\" height=\"44\" src=\"http://ia.media-imdb.com/images/G/01/imdb/images/nopicture/32x44/name-2138558783._CB522736171_.png\" title=\"Ian Twedmark\" width=\"32\"/></a> </td>\n",
       "<td class=\"itemprop\" itemprop=\"actor\" itemscope=\"\" itemtype=\"http://schema.org/Person\">\n",
       "<a href=\"/name/nm8753181/?ref_=tt_cl_t14\" itemprop=\"url\"> <span class=\"itemprop\" itemprop=\"name\">Ian Twedmark</span>\n",
       "</a> </td>\n",
       "<td class=\"ellipsis\">\n",
       "              ...\n",
       "          </td>\n",
       "<td class=\"character\">\n",
       "<div>\n",
       "            Mattias \n",
       "                  \n",
       "              </div>\n",
       "</td>\n",
       "</tr>\n",
       "<tr class=\"odd\">\n",
       "<td class=\"primary_photo\">\n",
       "<a href=\"/name/nm8753182/?ref_=tt_cl_i15\"><img alt=\"Vidar Fransson\" class=\"\" height=\"44\" src=\"http://ia.media-imdb.com/images/G/01/imdb/images/nopicture/32x44/name-2138558783._CB522736171_.png\" title=\"Vidar Fransson\" width=\"32\"/></a> </td>\n",
       "<td class=\"itemprop\" itemprop=\"actor\" itemscope=\"\" itemtype=\"http://schema.org/Person\">\n",
       "<a href=\"/name/nm8753182/?ref_=tt_cl_t15\" itemprop=\"url\"> <span class=\"itemprop\" itemprop=\"name\">Vidar Fransson</span>\n",
       "</a> </td>\n",
       "<td class=\"ellipsis\">\n",
       "              ...\n",
       "          </td>\n",
       "<td class=\"character\">\n",
       "<div>\n",
       "            Mattias \n",
       "                  \n",
       "              </div>\n",
       "</td>\n",
       "</tr>\n",
       "</table>\n",
       "<div class=\"see-more\">\n",
       "<a href=\"fullcredits?ref_=tt_cl_sm#cast\">See full cast</a> »\n",
       "        </div>\n",
       "</div>\n",
       "<script>\n",
       "    if ('csm' in window) {\n",
       "      csm.measure('csm_TitleCastWidget_finished');\n",
       "    }\n",
       "  </script>\n",
       "<script>\n",
       "    if (typeof uet == 'function') {\n",
       "      uet(\"be\", \"TitleCastWidget\", {wb: 1});\n",
       "    }\n",
       "</script>\n",
       "<script>\n",
       "    if (typeof uex == 'function') {\n",
       "      uex(\"ld\", \"TitleCastWidget\", {wb: 1});\n",
       "    }\n",
       "</script>\n",
       "<!-- no content received for slot: maindetails_center_ad -->\n",
       "<script>\n",
       "    if (typeof uet == 'function') {\n",
       "      uet(\"bb\", \"TitleStorylineWidget\", {wb: 1});\n",
       "    }\n",
       "</script>\n",
       "<script>\n",
       "    if ('csm' in window) {\n",
       "      csm.measure('csm_TitleStorylineWidget_started');\n",
       "    }\n",
       "  </script>\n",
       "<div class=\"article\" id=\"titleStoryLine\">\n",
       "<span class=\"rightcornerlink\">\n",
       "<a href=\"/register/login?why=edit&amp;ref_=tt_stry\" rel=\"login\">Edit</a>\n",
       "</span>\n",
       "<h2>Storyline</h2>\n",
       "<div class=\"inline canwrap\" itemprop=\"description\">\n",
       "<p>\n",
       "A woman begins to fall in love, only to discover that she has fantastic powers.            </p>\n",
       "</div>\n",
       "<span class=\"see-more inline\">\n",
       "<a href=\"/title/tt6304046/plotsummary?ref_=tt_stry_pl\">Plot Summary</a>\n",
       "<span>|</span>\n",
       "<a href=\"/title/tt6304046/synopsis?ref_=tt_stry_pl\">Add Synopsis</a>\n",
       "</span>\n",
       "<hr/>\n",
       "<div class=\"see-more inline canwrap\" itemprop=\"genre\">\n",
       "<h4 class=\"inline\">Genres:</h4>\n",
       "<a href=\"/genre/Romance?ref_=tt_stry_gnr\"> Romance</a> <span>|</span>\n",
       "<a href=\"/genre/Sci-Fi?ref_=tt_stry_gnr\"> Sci-Fi</a>\n",
       "</div>\n",
       "<hr/>\n",
       "<div class=\"txt-block\">\n",
       "<h4 class=\"inline\">Parents Guide:</h4>\n",
       "<span class=\"see-more inline\" itemprop=\"audience\" itemscope=\"\" itemtype=\"http://schema.org/Audience\">\n",
       "<a href=\"/title/tt6304046/parentalguide?ref_=tt_stry_pg\"> Add content advisory for parents</a> »\n",
       "        </span>\n",
       "</div>\n",
       "</div>\n",
       "<script>\n",
       "    if ('csm' in window) {\n",
       "      csm.measure('csm_TitleStorylineWidget_finished');\n",
       "    }\n",
       "  </script>\n",
       "<script>\n",
       "    if (typeof uet == 'function') {\n",
       "      uet(\"be\", \"TitleStorylineWidget\", {wb: 1});\n",
       "    }\n",
       "</script>\n",
       "<script>\n",
       "    if (typeof uex == 'function') {\n",
       "      uex(\"ld\", \"TitleStorylineWidget\", {wb: 1});\n",
       "    }\n",
       "</script>\n",
       "<script>\n",
       "    if (typeof uet == 'function') {\n",
       "      uet(\"bb\", \"TitleDetailsWidget\", {wb: 1});\n",
       "    }\n",
       "</script>\n",
       "<script>\n",
       "    if ('csm' in window) {\n",
       "      csm.measure('csm_TitleDetailsWidget_started');\n",
       "    }\n",
       "  </script>\n",
       "<div class=\"article\" id=\"titleDetails\">\n",
       "<span class=\"rightcornerlink\">\n",
       "<a href=\"/register/login?why=edit&amp;ref_=tt_dt_dt\" rel=\"login\">Edit</a>\n",
       "</span>\n",
       "<h2>Details</h2>\n",
       "<div class=\"txt-block\">\n",
       "<h4 class=\"inline\">Country:</h4>\n",
       "<a href=\"/search/title?country_of_origin=no&amp;ref_=tt_dt_dt\" itemprop=\"url\">Norway</a>\n",
       "<span class=\"ghost\">|</span>\n",
       "<a href=\"/search/title?country_of_origin=fr&amp;ref_=tt_dt_dt\" itemprop=\"url\">France</a>\n",
       "<span class=\"ghost\">|</span>\n",
       "<a href=\"/search/title?country_of_origin=dk&amp;ref_=tt_dt_dt\" itemprop=\"url\">Denmark</a>\n",
       "</div>\n",
       "<div class=\"txt-block\">\n",
       "<h4 class=\"inline\">Language:</h4>\n",
       "<a href=\"/search/title?title_type=feature&amp;primary_language=en&amp;sort=moviemeter,asc&amp;ref_=tt_dt_dt\" itemprop=\"url\">English</a>\n",
       "</div>\n",
       "<div class=\"txt-block\">\n",
       "<h4 class=\"inline\">Release Date:</h4> 27 October 2017 (Norway)\n",
       "    <span class=\"see-more inline\">\n",
       "<a href=\"releaseinfo?ref_=tt_dt_dt\" itemprop=\"url\">See more</a> »\n",
       "    </span>\n",
       "</div>\n",
       "<div class=\"txt-block\">\n",
       "<h4 class=\"inline\">Filming Locations:</h4>\n",
       "<a href=\"/search/title?locations=Oslo,%20Norway&amp;ref_=tt_dt_dt\" itemprop=\"url\">Oslo, Norway</a>\n",
       "</div>\n",
       "<hr/>\n",
       "<h3 class=\"subheading\">Box Office</h3>\n",
       "<div class=\"txt-block\">\n",
       "<h4 class=\"inline\">Budget:</h4>        NOK 47,500,000        \n",
       "\n",
       "      <span class=\"attribute\">(estimated)</span>\n",
       "</div>\n",
       "<span class=\"see-more inline\">\n",
       "<a href=\"business?ref_=tt_dt_bus\" itemprop=\"url\">See more</a> »\n",
       "  </span>\n",
       "<hr/>\n",
       "<h3 class=\"subheading\">Company Credits</h3>\n",
       "<div class=\"txt-block\">\n",
       "<h4 class=\"inline\">Production Co:</h4>\n",
       "<span itemprop=\"creator\" itemscope=\"\" itemtype=\"http://schema.org/Organization\">\n",
       "<a href=\"/company/co0010446?ref_=tt_dt_co\" itemprop=\"url\"><span class=\"itemprop\" itemprop=\"name\">Motlys</span></a></span>,        <span itemprop=\"creator\" itemscope=\"\" itemtype=\"http://schema.org/Organization\">\n",
       "<a href=\"/company/co0056024?ref_=tt_dt_co\" itemprop=\"url\"><span class=\"itemprop\" itemprop=\"name\">Eurimages</span></a></span>,        <span itemprop=\"creator\" itemscope=\"\" itemtype=\"http://schema.org/Organization\">\n",
       "<a href=\"/company/co0001935?ref_=tt_dt_co\" itemprop=\"url\"><span class=\"itemprop\" itemprop=\"name\">Film i Väst</span></a></span> <span class=\"see-more inline\">\n",
       "<a href=\"companycredits?ref_=tt_dt_co\" itemprop=\"url\">See more</a> »\n",
       "      </span>\n",
       "</div>\n",
       "<div class=\"txt-block\"> \n",
       "  Show detailed\n",
       "<a href=\"http://pro.imdb.com/title/tt6304046/companycredits?rf=cons_tt_cocred_tt&amp;ref_=cons_tt_cocred_tt\" itemprop=\"url\">company contact information</a>\n",
       "  on \n",
       "  <a href=\"http://pro.imdb.com/signup/index.html?rf=cons_tt_cocred_spl&amp;ref_=cons_tt_cocred_spl\" itemprop=\"url\">IMDbPro</a> »\n",
       "  </div>\n",
       "<hr/>\n",
       "<h3 class=\"subheading\">Technical Specs</h3>\n",
       "<div class=\"txt-block\">\n",
       "<h4 class=\"inline\">Color:</h4>\n",
       "<a href=\"/search/title?colors=color&amp;ref_=tt_dt_spec\" itemprop=\"url\">Color</a>\n",
       "</div>\n",
       "  \n",
       "  \n",
       "  See <a href=\"technical?ref_=tt_dt_spec\" itemprop=\"url\">full technical specs</a> »\n",
       "    </div>\n",
       "<script>\n",
       "    if ('csm' in window) {\n",
       "      csm.measure('csm_TitleDetailsWidget_finished');\n",
       "    }\n",
       "  </script>\n",
       "<script>\n",
       "    if (typeof uet == 'function') {\n",
       "      uet(\"be\", \"TitleDetailsWidget\", {wb: 1});\n",
       "    }\n",
       "</script>\n",
       "<script>\n",
       "    if (typeof uex == 'function') {\n",
       "      uex(\"ld\", \"TitleDetailsWidget\", {wb: 1});\n",
       "    }\n",
       "</script>\n",
       "<div class=\"article\" id=\"titleFAQ\">\n",
       "<h2>Frequently Asked Questions</h2>\n",
       "<a href=\"/title/tt6304046/faq?ref_=tt_faq_sm\">This FAQ is empty. Add the first question.</a>\n",
       "</div>\n",
       "<script>\n",
       "    if ('csm' in window) {\n",
       "      csm.measure('csm_TitleContributeWidget_started');\n",
       "    }\n",
       "  </script>\n",
       "<div class=\"article contribute\">\n",
       "<div class=\"rightcornerlink\">\n",
       "<a href=\"/help/?adding/&amp;ref_=tt_cn_hlp\">Getting Started</a>\n",
       "<span>|</span>\n",
       "<a href=\"/czone/?ref_=tt_cn_cz\">Contributor Zone</a> »</div>\n",
       "<h2>Contribute to This Page</h2>\n",
       "<div class=\"button-box\">\n",
       "<form action=\"https://contribute.imdb.com/updates\" method=\"get\">\n",
       "<input name=\"ref_\" type=\"hidden\" value=\"tt_cn_edt\"/>\n",
       "<input name=\"edit\" type=\"hidden\" value=\"legacy/title/tt6304046/\"/>\n",
       "<button class=\"btn primary large\" rel=\"login\" type=\"submit\">Edit page</button>\n",
       "</form>\n",
       "</div>\n",
       "<div class=\"form-box\">\n",
       "<form accept-charset=\"ISO-8859-1\" action=\"/character/create?ref_=tt_cn_ch\" method=\"post\">\n",
       "<input name=\"title\" type=\"hidden\" value=\"tt6304046\">\n",
       "<div class=\"form-txt\">Create a character page for:</div>\n",
       "<select data-tconst=\"tt6304046\" id=\"character_select\" name=\"name\">\n",
       "<option value=\"Thelma\">Thelma</option>\n",
       "<option value=\"Anja\">Anja</option>\n",
       "<option value=\"Unni\">Unni</option>\n",
       "<option value=\"Trond\">Trond</option>\n",
       "<option value=\"Dr. Paulsson\">Dr. Paulsson</option>\n",
       "<option value=\"Neurologist\">Neurologist</option>\n",
       "<option value=\"Vilde, Anja's mother\">Vilde, Anja's mother</option>\n",
       "<option value=\"Epilepsi Patient\">Epilepsi Patient</option>\n",
       "<option value=\"Julie\">Julie</option>\n",
       "<option value=\"Kristoffer\">Kristoffer</option>\n",
       "<option value=\"Thelma, 6 years old\">Thelma, 6 years old</option>\n",
       "<option value=\"Daniel\">Daniel</option>\n",
       "<option value=\"Mattias\">Mattias</option>\n",
       "<option value=\"Mattias\">Mattias</option>\n",
       "<option value=\"Mattias\">Mattias</option>\n",
       "<option disabled=\"disabled\">-----------</option>\n",
       "<option value=\"...\">more...</option>\n",
       "</select>\n",
       "<button class=\"btn small\">Create »</button>\n",
       "<a class=\"btn small\" href=\"/help/show_leaf?createchar&amp;ref_=tt_cn_chhlp\">?</a>\n",
       "</input></form>\n",
       "</div>\n",
       "</div>\n",
       "<script>\n",
       "    if ('csm' in window) {\n",
       "      csm.measure('csm_TitleContributeWidget_finished');\n",
       "    }\n",
       "  </script>\n",
       "</div>\n",
       "<br class=\"clear\"/>\n",
       "</div>\n",
       "<br class=\"clear\"/>\n",
       "</div>\n",
       "<div class=\"ft\" id=\"footer\">\n",
       "<div id=\"rvi-div\">\n",
       "<div class=\"recently-viewed\"> </div>\n",
       "<br class=\"clear\">\n",
       "</br></div>\n",
       "<!-- no content received for slot: bottom_ad -->\n",
       "<div class=\"container footer-grid-wrapper\">\n",
       "<div class=\"row footer-row\">\n",
       "<div class=\"col outside\">\n",
       "<h3>IMDb Everywhere</h3>\n",
       "<div class=\"app-links\">\n",
       "<a href=\"/offsite/?page-action=ft_app_apple&amp;token=BCYviuiaj-s35g6evETwJnXQEs9dwtSLp3xYzb6tHBSCvYIeApsTc4uJHxApdlKVwxVCvTLFKQVj%0D%0Abgogdw3hSBZaAHQjk2nHPhaO5mgsWQv7WmYMAR_qVmxHHqC-h7WbC7z2GZYvcfjV2M1W62MSwRpt%0D%0A-kdJEPy9Mi7U7uZvmSD-gxOOwsIVUiK3iBZ2qhg6_se10K9jxXcx1qpWvOZnaNPfhjCV3pB5PiAs%0D%0Awj16oADdEJU%0D%0A&amp;ref_=ft_app_apple\" itemprop=\"url\" target=\"_blank\" title=\"Get the IMDb App on the Apple App Store\"> <span class=\"desktop-sprite appstore-apple\"></span>\n",
       "</a>\n",
       "<a href=\"/offsite/?page-action=ft_app_google&amp;token=BCYhrSp1E2tKzp3rcIkNf1j3XIO1rlvdxLkFvAimRVDpB9xk9ZuFShyFOfKe4leA1zDlJdJhxYyy%0D%0ATZM22nQimcPM_InSqbaeFNINMcLogTbk_cPe4wGsfgG6ST0ubhV-F7oFl7tvVDfaCybnbaZEdt8f%0D%0AGCTo23M3lPV8LGSjSqGGqOrTk_Mj45vGkyA2C8HsJ8BBtzwXv9GIB-MqQLxn5xW-9gaLby8CfHia%0D%0A1d5LCdfi5QA%0D%0A&amp;ref_=ft_app_google\" itemprop=\"url\" target=\"_blank\" title=\"Get the IMDb app on Google Play\"> <span class=\"desktop-sprite appstore-google\"></span>\n",
       "</a>\n",
       "<a href=\"/offsite/?page-action=ft_app_amazon&amp;token=BCYjDMMXl7sda-jNclOqV89SAtHJYRU9CmXdSMkhtb-ViPWEWBZf1hK3RZsBQYDMcTjtZUspCbqF%0D%0AnXJJ2gRarSSryI4Yq-xCnvGShFEr9J0Pf0aJ7wmiifYQ2u_Bx8EUfRNxLOuohzhDAG84llXTLR67%0D%0A6LRqgnrpEtbOeE6cwT-dJD5-nm3p2rI4vyqg75_xUAT1HXsVSvBI0km0pj9U-C6HxXiwDo40xmqh%0D%0A8gQ3LDd9itawnGDuZ_K3ayiX7HNw8D3WfVkVqmdwa_5uNPR2YSEHwXA7lGjYqMFMhGlwJpg6Ya9K%0D%0AgJHJ_SpSoXdMTdgYuYh8VW6qNjMK-3xwF-nWaDv3jXmAoe-7cCVe9scdSARNv55rzsHPOeI5I8jm%0D%0AJeeNUNHXNi5GicNyUP8Dr7_1wOOfg9BX_8q6IW8euHpfWeh2vco%0D%0A&amp;ref_=ft_app_amazon\" itemprop=\"url\" target=\"_blank\" title=\"Get the IMDb app on Amazon Appstore for Android\"> <span class=\"desktop-sprite appstore-amazon\"></span>\n",
       "</a>\n",
       "</div>\n",
       "<p>Find showtimes, watch trailers, browse photos, track your Watchlist and rate your favorite movies and TV shows on your phone or tablet!</p>\n",
       "<a class=\"touchlink\" href=\"http://m.imdb.com?ref_=ft_mdot\">IMDb Mobile site</a>\n",
       "</div>\n",
       "<div class=\"col center\">\n",
       "<div class=\"link-bar icon-link-bar\">\n",
       "<h3>\n",
       "      Follow IMDb on\n",
       "      <div>\n",
       "<a href=\"/offsite/?page-action=fol_fb&amp;token=BCYjUOxGzT5-dWrjgFEgu4Ah--WozSWSmOZ-04byf36Uo_VuUpo0bYbSbMpvIaJkmCs-OE0bNmGm%0D%0A-wZHacrhS-yEIHfSoh6DFHqfqXrT9bADbEQLC-yY5JLGBm2GW-1Y5EX_hmjupCh2FGLOV5yeBbul%0D%0AKOfp7lX2WWKoQLqBTTntxQT3Dxb7-0WnBLKjzBS88GqP4tp_TmdhP0lHksDElTTuKw%0D%0A&amp;ref_=tt_ft_fol_fb\" itemprop=\"url\" target=\"_blank\" title=\"Follow IMDb on Facebook\"> <span class=\"desktop-sprite follow-facebook\"></span>\n",
       "</a>\n",
       "<a href=\"/offsite/?page-action=fol_tw&amp;token=BCYpcL-R-od0r_UApZRfs2P9KIUonT7jhAFnn1iWdy0tpMD6YnMEycaENuqA4vT6RLu8UFl3D2Ij%0D%0AIJlrLkIonqsKEU26rbsiPQJ3fVlVd8M5PDjQwNyTkcip2xBkmm34aN4K71tOTytdoY_0W1mfy_5t%0D%0Ay3oIsA2Jzxl3I6O4CabJA2qncBjtacdX6PIV81-DAuSlcnN-b33t7KLj3I_0hqsuAQ%0D%0A&amp;ref_=tt_ft_fol_tw\" itemprop=\"url\" target=\"_blank\" title=\"Follow IMDb on Twitter\"> <span class=\"desktop-sprite follow-twitter\"></span>\n",
       "</a>\n",
       "<a href=\"/offsite/?page-action=fol_inst&amp;token=BCYrhjoaYFoVKk-BXNe6gC8RQPBmvIWB3BqgIydcPjjyf1Ha4RhsndugtwAo6umIW550xg1URXip%0D%0AzWpiPTVlBEhUgfCKFN3O83xASIqzSkmPDvbAQ4KhIflHtCCUGs2j_Gaax-Kl_AV0yfQnKLhuAGuM%0D%0Adg8AgHfFZXmF-UJw5o_90fTt5ldtF1Jbqq0S7Dh2Nz5-C9K4_VvcdzBaEi8AZDxTdQ%0D%0A&amp;ref_=tt_ft_fol_inst\" itemprop=\"url\" target=\"_blank\" title=\"Follow IMDb on Instagram\"> <span class=\"desktop-sprite follow-instagram\"></span>\n",
       "</a>\n",
       "</div>\n",
       "</h3>\n",
       "</div>\n",
       "</div>\n",
       "<div class=\"col outside\">\n",
       "<div class=\"row\">\n",
       "<div class=\"col col-4\">\n",
       "<ul class=\"unstyled\">\n",
       "<li><a href=\"/?ref_=ft_hm\">Home</a></li>\n",
       "<li><a href=\"/chart/top?ref_=ft_250\">Top Rated Movies</a></li>\n",
       "<li><a href=\"/chart/?ref_=ft_cht\">Box Office</a></li>\n",
       "<li><a href=\"/sections/tv/?ref_=ft_tv\">TV</a></li>\n",
       "<li><a href=\"/movies-coming-soon/?ref_=ft_cs\">Coming Soon</a></li>\n",
       "<li><a href=\"/a2z?ref_=ft_si\">Site Index</a></li>\n",
       "<li><a href=\"/search?ref_=ft_sr\">Search</a></li>\n",
       "<li><a href=\"/movies-in-theaters/?ref_=ft_inth\">In Theaters</a></li>\n",
       "</ul>\n",
       "</div>\n",
       "<div class=\"col col-4\">\n",
       "<ul class=\"unstyled\">\n",
       "<li><a href=\"/helpdesk/contact?ref_=ft_con\">Contact Us</a></li>\n",
       "<li> <a href=\"/boards/?ref_=ft_mb\">Message Boards</a>\n",
       "</li>\n",
       "<li> <a href=\"https://secure.imdb.com/register-imdb/form-v2?ref_=ft_reg\">Register</a>\n",
       "</li>\n",
       "<li><a href=\"/news/?ref_=ft_nw\">News</a></li>\n",
       "<li class=\"spacer\"></li>\n",
       "<li><a href=\"/pressroom/?ref_=ft_pr\">Press Room</a></li>\n",
       "<li><a href=\"/advertising/?ref_=ft_ad\">Advertising</a></li>\n",
       "<li><a href=\"/jobs?ref_=ft_jb\">Jobs</a></li>\n",
       "</ul>\n",
       "</div>\n",
       "<div class=\"col col-4\">\n",
       "<ul class=\"unstyled\">\n",
       "<li><a href=\"http://pro.imdb.com/signup/index.html?rf=cons_ft_hm&amp;ref_=cons_ft_hm\">IMDbPro</a></li>\n",
       "<li> <a href=\"/offsite/?page-action=ft-mojo&amp;token=BCYgNUQklfH64a1PcocWuAM_kw7PxECobeGzK2lWfzFsTfnhx-trN2dIILDiCHT6Hq-F8zL_HBL7%0D%0AGse9DOCDMtXJW3mEuBUjCrQodXKwoxRrveuFSdFpV0-Uj2iTR4ucRyOkqItMOmxbofPsehpnd7Bj%0D%0AOLBiyW1eJiyhmYsJUzU1rk6K1no7hwbZ4Ts7fWrJFz9-DwDTCA8SvFyw1ETD9rofdQ%0D%0A&amp;ref_=ft_bom\" itemprop=\"url\">Box Office Mojo</a>\n",
       "</li>\n",
       "<li> <a href=\"/offsite/?page-action=ft-wab&amp;token=BCYsO2s-TPH5xGtFooMwgaXKfjsqQL4PDkbah5sPsBnER4163vWAr9YmCIMdhfAJqBMHHZAJVHoZ%0D%0AooXQ5P8eIc9agYLb7wdyfO4w6YIV4nU5x8akoSwxkmRUw11BUDVNib9MZGa-xojzT-4PL1IOOvi_%0D%0AXw7QoGJMXIyK3KtKWAW1Xk3nN0QwS7KJ7rgjBtrgafzd4faWtJ1bw-EkEbzG-rY0sw%0D%0A&amp;ref_=ft_wab\" itemprop=\"url\">Withoutabox</a>\n",
       "</li>\n",
       "<li class=\"spacer\"></li>\n",
       "<li><a href=\"/help/show_article?conditions&amp;ref_=ft_cou\">Conditions of Use</a></li>\n",
       "<li><a href=\"/privacy?ref_=ft_pvc\">Privacy Policy</a></li>\n",
       "<li> <a href=\"/offsite/?page-action=ft-iba&amp;token=BCYr4oASER4UkC-ONJHyzgu7n9YMwu1Q-eO1dJkf5AYh9JqRo8mwZaT4UQk-B3QwVfCs8sk4OdhK%0D%0AmP51MACJeuwxd4HdhW1sLSFzP_-A2GHo7sBRgOLv3zbCMesVW4geGzRnyfCTkEPUKCwayK4zLDWw%0D%0AdGL00_tDH_hNhAWbbept_aXOgl-q2ZFSRSX-KaVq1CbnC_FunxGlKuY_r-WjBPisMLqbiZQvtZch%0D%0AUXveWUc5zXwLKp1hB-kblhBrvjIQz9jG%0D%0A&amp;ref_=ft_iba\" itemprop=\"url\">Interest-Based Ads</a>\n",
       "</li>\n",
       "<li class=\"spacer\"></li>\n",
       "</ul>\n",
       "</div>\n",
       "</div>\n",
       "</div>\n",
       "</div>\n",
       "</div>\n",
       "<div class=\"container\">\n",
       "<div class=\"ft-copy float-right\">\n",
       "<a href=\"/help/show_article?conditions\">Copyright ©</a> 1990-2017\n",
       "                <a href=\"/help/\">IMDb.com, Inc.</a>\n",
       "</div>\n",
       "<div>\n",
       "                An <span align=\"middle\" class=\"footer_logo\" id=\"amazon_logo\">Amazon.com</span> company.\n",
       "            </div>\n",
       "</div>\n",
       "<table class=\"footer\" id=\"amazon-affiliates\">\n",
       "<tr>\n",
       "<td colspan=\"8\">\n",
       "                Amazon Affiliates\n",
       "            </td>\n",
       "</tr>\n",
       "<tr>\n",
       "<td>\n",
       "<div>\n",
       "<a class=\"amazon-affiliate-site-link\" href=\"/offsite/?page-action=ft-aiv&amp;token=BCYoba9sR99K_6jE78GhwtsAv2FUcSqGGhqw7An4sjnRBoqE0jBCdEKnaTLZn-2cczMmv9UywFcr%0D%0AbgLX88NakZktCbhhwGuSEMFy_G_L0xykq5_PeIGHnVyRDm7vr_-8q0EGbFP0eaNmXzQBnvHPmQgy%0D%0ADO0490dyStlU4xpTDdVd3zsl-R4580YfMFBQbYWhknwGNZwMLKagvpUlZxu5gUItX-2ZcNCJKUkW%0D%0A9EaTE_8_FIE%0D%0A\">\n",
       "<span class=\"amazon-affiliate-site-name\">Amazon Video</span><br>\n",
       "<span class=\"amazon-affiliate-site-desc\">Watch Movies &amp;<br>TV Online</br></span>\n",
       "</br></a>\n",
       "</div>\n",
       "</td>\n",
       "<td>\n",
       "<div>\n",
       "<a class=\"amazon-affiliate-site-link\" href=\"/offsite/?page-action=ft-piv&amp;token=BCYuhQcoMNmjwtCXrED5-wxx_x6lKZpFdpwTzavVKu0cVMY3zzluUYs0694mM0I0D9fq9ZTdv7Rp%0D%0ArnI7OeEJ3z93en-zdbRb6OVUZHsVnE5fXRBoFE_0oiVWs2BHhVVcJtmWVomTAwaANjnTqUGJe_jv%0D%0AXTKwMSZ__CerZHlALpMtpQYF8F4own9LunyF3r955P3jQinHb_A4_bJnJQFcgES-be2SATBWVFxL%0D%0A1bcmCVTdBv8%0D%0A\">\n",
       "<span class=\"amazon-affiliate-site-name\">Prime Video</span><br>\n",
       "<span class=\"amazon-affiliate-site-desc\">Unlimited Streaming<br>of Movies &amp; TV</br></span>\n",
       "</br></a>\n",
       "</div>\n",
       "</td>\n",
       "<td>\n",
       "<div>\n",
       "<a class=\"amazon-affiliate-site-link\" href=\"/offsite/?page-action=ft-amzn-de&amp;token=BCYsi3M8ZfLs901UEiubn-SOCUQSxXI2stayAZxPLTbCYzkI3f72znS3LEl6E1AV-LgyNDxIl5vM%0D%0AgTidJAtSll6LPpVviAxpuyGmoWJD90parkNnTusfJHHsJxIZIx_enDpDRtSEzZjplVXljnps0y6O%0D%0AfnJ0WwlhFgMd7Q5q55TMRZImbHfh294ySi8nZhKy0SupJO64ec-lR-qqWZpvep9dtsAcG-vPc7Gx%0D%0A0W045qLjVsU%0D%0A\">\n",
       "<span class=\"amazon-affiliate-site-name\">Amazon Germany</span><br>\n",
       "<span class=\"amazon-affiliate-site-desc\">Buy Movies on<br>DVD &amp; Blu-ray</br></span>\n",
       "</br></a>\n",
       "</div>\n",
       "</td>\n",
       "<td>\n",
       "<div>\n",
       "<a class=\"amazon-affiliate-site-link\" href=\"/offsite/?page-action=ft-amzn-it&amp;token=BCYgk2F9XDLOYtdNSvFiAyiUfyJ_kSpFIC8rbmacOq0R1lAWX-GWZeYuVolPUe2SGvRifbmYk-xu%0D%0AZEET2rcxc4ToLPPK3UEeAZ3Ty6b4BF1pJswEvxOFW_6DpoVN0ZUUiFjpWLP6GDZEp0HdzWadiEbe%0D%0AeRQBlq-YMFO2mvM-221GvYJHuVQ0LNKZlxf_KJ7aV9S_teXSEM9bsBps6UnG7_7N2iAwguM0hsdw%0D%0AA6QxgMxGrBQ%0D%0A\">\n",
       "<span class=\"amazon-affiliate-site-name\">Amazon Italy</span><br>\n",
       "<span class=\"amazon-affiliate-site-desc\">Buy Movies on<br>DVD &amp; Blu-ray</br></span>\n",
       "</br></a>\n",
       "</div>\n",
       "</td>\n",
       "<td>\n",
       "<div>\n",
       "<a class=\"amazon-affiliate-site-link\" href=\"/offsite/?page-action=ft-amzn-fr&amp;token=BCYuRExhoc9Pocc3UKucvA_Sgu_lJfjQNq6JzZ7vPXx9KxOssW7HSmwVr1jrgsc9TOVfORrIHkO5%0D%0AbHPoWQ4EgqDXj3qSlKzwxWhYKjRGshGmyT0h5OMxXDjtgk_ECzyUkto337a02zj36KgRG0uXfF_5%0D%0ADdr16ILbJy8923z3eMT7OsZgsUzwsnnD4QmHO6GGhJGVohTTxTianFejxXSlfjKG8_iS4xd36IQf%0D%0AnCwh6pInaWw%0D%0A\">\n",
       "<span class=\"amazon-affiliate-site-name\">Amazon France</span><br>\n",
       "<span class=\"amazon-affiliate-site-desc\">Buy Movies on<br>DVD &amp; Blu-ray</br></span>\n",
       "</br></a>\n",
       "</div>\n",
       "</td>\n",
       "<td>\n",
       "<div>\n",
       "<a class=\"amazon-affiliate-site-link\" href=\"/offsite/?page-action=ft-amzn-in&amp;token=BCYvUwDaKklOydHZRH57nzcHC4FVUb2E48ip-MxgjdAk53OHv4HRYkG6YqcKZsyQZmPWzSHm0cOG%0D%0AUbL8HYtrzI0pqf5NlMb5Ds5fATdbLgxsefLh88rAvbf5HRwN7HdGUP3fTf65Yg-Mhb9nOnulaYUd%0D%0AgqVeAUgj7kg3L71EzcDolG2f-1cveXaKfuEYhpJNzvGRPtkIRQxxhqpMZLfvCLywpVLlBCY3FNUL%0D%0ASE_Xdsac3Ran4r-NNQTrOHMFt68wJdb0%0D%0A\">\n",
       "<span class=\"amazon-affiliate-site-name\">Amazon India</span><br>\n",
       "<span class=\"amazon-affiliate-site-desc\">Buy Movie and<br>TV Show DVDs</br></span>\n",
       "</br></a>\n",
       "</div>\n",
       "</td>\n",
       "<td>\n",
       "<div>\n",
       "<a class=\"amazon-affiliate-site-link\" href=\"/offsite/?page-action=ft-amzn-dpr&amp;token=BCYihfk3X4dRuqIufouXDeWMJ18J7QkuZgVx7dyuWN-pqSDhhP5a6477TihMdij4dC4yhTCAiQNL%0D%0AZBCXn6ys_HqBZRJ9vjnjEook5or58vHayQU2QgLCK0vTuzpSdROph5F5oIG2KD6E59_Ca9zQIDob%0D%0AudQHsantpng4zKeNn6l2Eb4%0D%0A\">\n",
       "<span class=\"amazon-affiliate-site-name\">DPReview</span><br>\n",
       "<span class=\"amazon-affiliate-site-desc\">Digital<br>Photography</br></span>\n",
       "</br></a>\n",
       "</div>\n",
       "</td>\n",
       "<td>\n",
       "<div>\n",
       "<a class=\"amazon-affiliate-site-link\" href=\"/offsite/?page-action=ft-amzn-aud&amp;token=BCYg9a1dTzvZnXlCKOqXZ9vgTSDeEqJVytZgi92Wo-PkoEIl9APqMhCiUtBe4xolyY4Y00xaA9G3%0D%0AgcomllrgRh5xk7Prj2i9cfOjfCi2E0YJLA1_kQw9hOhwrdS4-QOZTyf38SysESb4RE7jVyxnA9sP%0D%0ANzImitgPdhVi8n6jaPz5hk4%0D%0A\">\n",
       "<span class=\"amazon-affiliate-site-name\">Audible</span><br>\n",
       "<span class=\"amazon-affiliate-site-desc\">Download<br>Audio Books</br></span>\n",
       "</br></a>\n",
       "</div>\n",
       "</td>\n",
       "</tr>\n",
       "</table>\n",
       "</div>\n",
       "</div>\n",
       "</div>\n",
       "<script src=\"http://ia.media-imdb.com/images/G/01/imdb/js/collections/common-485701321._CB522736548_.js\" type=\"text/javascript\"></script>\n",
       "<script src=\"http://ia.media-imdb.com/images/G/01/imdb/js/collections/title-2784310942._CB535569581_.js\" type=\"text/javascript\"></script>\n",
       "<script id=\"login\" type=\"text/javascript\">\n",
       "(function(){\n",
       "    var readyTimeout = setInterval(function() {\n",
       "        if (window.jQuery && window.imdb && window.imdb.login_lightbox) {\n",
       "            clearTimeout(readyTimeout);\n",
       "            window.imdb.login_lightbox();\n",
       "        }\n",
       "    }, 100);\n",
       "})();\n",
       "</script>\n",
       "<script type=\"text/javascript\">\n",
       "        function jQueryOnReady(remaining_count) {\n",
       "            if (window.jQuery && typeof $.fn.watchlistRibbon !== 'undefined') {\n",
       "                jQuery(\n",
       "                             function() {\n",
       "           var isAdvertisingThemed = !!(window.custom && window.custom.full_page && window.custom.full_page.theme),\n",
       "               url = \"http://www.facebook.com/widgets/like.php?width=280&show_faces=1&layout=standard&href=http%3A%2F%2Fwww.imdb.com%2Ftitle%2Ftt6304046%2F&colorscheme=light\",\n",
       "               like = document.getElementById('iframe_like');\n",
       "\n",
       "           if (!isAdvertisingThemed && like) {\n",
       "              like.src = url;\n",
       "              like.onload = function () { \n",
       "                  if (uex) { uex('ld', 'facebook_like_iframe', {wb: 1}); }\n",
       "              };\n",
       "           } else if (isAdvertisingThemed) {\n",
       "              $('.social_networking_like').closest('.aux-content-widget-2').hide();\n",
       "           }\n",
       "        }\n",
       "\n",
       "                );\n",
       "                jQuery(\n",
       "                             function() {\n",
       "            var facebookTheme = (window.custom && window.custom.full_page &&\n",
       "                    window.custom.full_page.theme) ?\n",
       "                window.custom.full_page.theme : \"light\",\n",
       "            url = \"//www.facebook.com/plugins/likebox.php?href=facebook.com%2Fimdb&width=300&height=190&connections=4&header=false&stream=false&colorscheme=\" + facebookTheme,\n",
       "            like = document.getElementById('facebookIframe'),\n",
       "            twitterIframe = document.getElementById('twitterIframe');\n",
       "            if (like) {\n",
       "                like.src = url;\n",
       "            }\n",
       "            if (twitterIframe) {\n",
       "                twitterIframe.src = \"http://i.media-imdb.com/images/social/twitter.html?10#imdb\";\n",
       "            }\n",
       "         }\n",
       "\n",
       "                );\n",
       "            } else if (remaining_count > 0) {\n",
       "                setTimeout(function() { jQueryOnReady(remaining_count-1) }, 100);\n",
       "            }\n",
       "        }\n",
       "        jQueryOnReady(50);\n",
       "        </script>\n",
       "<div id=\"servertime\" time=\"144\"></div>\n",
       "<script>\n",
       "    if (typeof uet == 'function') {\n",
       "      uet(\"be\");\n",
       "    }\n",
       "</script>\n",
       "</body>\n",
       "</html>"
      ]
     },
     "execution_count": 351,
     "metadata": {},
     "output_type": "execute_result"
    }
   ],
   "source": [
    "prof_page"
   ]
  },
  {
   "cell_type": "code",
   "execution_count": 350,
   "metadata": {
    "collapsed": false
   },
   "outputs": [
    {
     "data": {
      "text/plain": [
       "[]"
      ]
     },
     "execution_count": 350,
     "metadata": {},
     "output_type": "execute_result"
    }
   ],
   "source": [
    "prof_page.find_all(\"span\", {\"itemprop\": \"ratingValue\"})"
   ]
  },
  {
   "cell_type": "code",
   "execution_count": 349,
   "metadata": {
    "collapsed": false,
    "scrolled": true
   },
   "outputs": [
    {
     "ename": "IndexError",
     "evalue": "list index out of range",
     "output_type": "error",
     "traceback": [
      "\u001b[0;31m---------------------------------------------------------------------------\u001b[0m",
      "\u001b[0;31mIndexError\u001b[0m                                Traceback (most recent call last)",
      "\u001b[0;32m<ipython-input-349-a60d4cbe9682>\u001b[0m in \u001b[0;36m<module>\u001b[0;34m()\u001b[0m\n\u001b[0;32m----> 1\u001b[0;31m \u001b[0mrating\u001b[0m \u001b[0;34m=\u001b[0m \u001b[0mfloat\u001b[0m\u001b[0;34m(\u001b[0m\u001b[0mprof_page\u001b[0m\u001b[0;34m.\u001b[0m\u001b[0mfind_all\u001b[0m\u001b[0;34m(\u001b[0m\u001b[0;34m\"span\"\u001b[0m\u001b[0;34m,\u001b[0m \u001b[0;34m{\u001b[0m\u001b[0;34m\"itemprop\"\u001b[0m\u001b[0;34m:\u001b[0m \u001b[0;34m\"ratingValue\"\u001b[0m\u001b[0;34m}\u001b[0m\u001b[0;34m)\u001b[0m\u001b[0;34m[\u001b[0m\u001b[0;36m0\u001b[0m\u001b[0;34m]\u001b[0m\u001b[0;34m.\u001b[0m\u001b[0mcontents\u001b[0m\u001b[0;34m[\u001b[0m\u001b[0;36m0\u001b[0m\u001b[0;34m]\u001b[0m\u001b[0;34m)\u001b[0m\u001b[0;34m\u001b[0m\u001b[0m\n\u001b[0m",
      "\u001b[0;31mIndexError\u001b[0m: list index out of range"
     ]
    }
   ],
   "source": [
    "rating = float(prof_page.find_all(\"span\", {\"itemprop\": \"ratingValue\"})[0].contents[0])"
   ]
  },
  {
   "cell_type": "code",
   "execution_count": null,
   "metadata": {
    "collapsed": false
   },
   "outputs": [],
   "source": [
    "rating"
   ]
  },
  {
   "cell_type": "code",
   "execution_count": 306,
   "metadata": {
    "collapsed": false
   },
   "outputs": [],
   "source": [
    "rating_count = int(prof_page.find_all(\"span\", {\"itemprop\": \"ratingCount\"})[0].contents[0].replace(',', ''))"
   ]
  },
  {
   "cell_type": "code",
   "execution_count": 307,
   "metadata": {
    "collapsed": false
   },
   "outputs": [
    {
     "data": {
      "text/plain": [
       "289889"
      ]
     },
     "execution_count": 307,
     "metadata": {},
     "output_type": "execute_result"
    }
   ],
   "source": [
    "rating_count"
   ]
  },
  {
   "cell_type": "markdown",
   "metadata": {},
   "source": [
    "### Genres"
   ]
  },
  {
   "cell_type": "code",
   "execution_count": 308,
   "metadata": {
    "collapsed": true
   },
   "outputs": [],
   "source": [
    "genres = []"
   ]
  },
  {
   "cell_type": "code",
   "execution_count": 309,
   "metadata": {
    "collapsed": false
   },
   "outputs": [],
   "source": [
    "for span in prof_page.find_all(\"span\", {\"itemprop\": \"genre\"}):\n",
    "    genres.append(span.contents[0])"
   ]
  },
  {
   "cell_type": "code",
   "execution_count": 310,
   "metadata": {
    "collapsed": false
   },
   "outputs": [
    {
     "data": {
      "text/plain": [
       "['Drama', 'Western']"
      ]
     },
     "execution_count": 310,
     "metadata": {},
     "output_type": "execute_result"
    }
   ],
   "source": [
    "genres"
   ]
  },
  {
   "cell_type": "markdown",
   "metadata": {},
   "source": [
    "### Review counts"
   ]
  },
  {
   "cell_type": "code",
   "execution_count": 311,
   "metadata": {
    "collapsed": true
   },
   "outputs": [],
   "source": [
    "REVIEW_COUNT_REGEX = r'([0-9,]+) ([a-zA-Z]+)'"
   ]
  },
  {
   "cell_type": "code",
   "execution_count": 312,
   "metadata": {
    "collapsed": true
   },
   "outputs": [],
   "source": [
    "user_review_count = 0\n",
    "critic_review_count = 0"
   ]
  },
  {
   "cell_type": "code",
   "execution_count": 313,
   "metadata": {
    "collapsed": false,
    "scrolled": true
   },
   "outputs": [],
   "source": [
    "for span in prof_page.find_all(\"span\", {\"itemprop\": \"reviewCount\"}):\n",
    "    span_str = span.contents[0]\n",
    "    res = re.findall(REVIEW_COUNT_REGEX, span_str)[0]\n",
    "    if res[1] == 'user':\n",
    "        user_review_count = int(res[0].replace(',', ''))\n",
    "    elif res[1] == 'critic':\n",
    "        critic_review_count = int(res[0].replace(',', ''))"
   ]
  },
  {
   "cell_type": "code",
   "execution_count": 314,
   "metadata": {
    "collapsed": false
   },
   "outputs": [
    {
     "data": {
      "text/plain": [
       "502"
      ]
     },
     "execution_count": 314,
     "metadata": {},
     "output_type": "execute_result"
    }
   ],
   "source": [
    "user_review_count"
   ]
  },
  {
   "cell_type": "code",
   "execution_count": 315,
   "metadata": {
    "collapsed": false
   },
   "outputs": [
    {
     "data": {
      "text/plain": [
       "132"
      ]
     },
     "execution_count": 315,
     "metadata": {},
     "output_type": "execute_result"
    }
   ],
   "source": [
    "critic_review_count"
   ]
  },
  {
   "cell_type": "markdown",
   "metadata": {},
   "source": [
    "### Metascore"
   ]
  },
  {
   "cell_type": "code",
   "execution_count": 316,
   "metadata": {
    "collapsed": false
   },
   "outputs": [],
   "source": [
    "metascore = int(prof_page.find_all(\"div\", {\"class\": \"metacriticScore\"})[0].contents[1].contents[0])"
   ]
  },
  {
   "cell_type": "code",
   "execution_count": 317,
   "metadata": {
    "collapsed": false
   },
   "outputs": [
    {
     "data": {
      "text/plain": [
       "82"
      ]
     },
     "execution_count": 317,
     "metadata": {},
     "output_type": "execute_result"
    }
   ],
   "source": [
    "metascore"
   ]
  },
  {
   "cell_type": "markdown",
   "metadata": {},
   "source": [
    "### Year"
   ]
  },
  {
   "cell_type": "code",
   "execution_count": 318,
   "metadata": {
    "collapsed": false
   },
   "outputs": [],
   "source": [
    "year = int(prof_page.find_all(\"span\", {\"id\": \"titleYear\"})[0].contents[1].contents[0])"
   ]
  },
  {
   "cell_type": "code",
   "execution_count": 319,
   "metadata": {
    "collapsed": false
   },
   "outputs": [
    {
     "data": {
      "text/plain": [
       "1992"
      ]
     },
     "execution_count": 319,
     "metadata": {},
     "output_type": "execute_result"
    }
   ],
   "source": [
    "year"
   ]
  },
  {
   "cell_type": "markdown",
   "metadata": {},
   "source": [
    "### Duration"
   ]
  },
  {
   "cell_type": "code",
   "execution_count": 320,
   "metadata": {
    "collapsed": true
   },
   "outputs": [],
   "source": [
    "MOVIE_DURATION_REGEX = r'PT([0-9]+)M'"
   ]
  },
  {
   "cell_type": "code",
   "execution_count": 321,
   "metadata": {
    "collapsed": false
   },
   "outputs": [],
   "source": [
    "duration_str = prof_page.find_all(\"time\", {\"itemprop\": \"duration\"})[0]['datetime']"
   ]
  },
  {
   "cell_type": "code",
   "execution_count": 322,
   "metadata": {
    "collapsed": false
   },
   "outputs": [],
   "source": [
    "duration_in_minutes = int(re.findall(MOVIE_DURATION_REGEX, duration_str)[0])"
   ]
  },
  {
   "cell_type": "code",
   "execution_count": 323,
   "metadata": {
    "collapsed": false,
    "scrolled": true
   },
   "outputs": [
    {
     "data": {
      "text/plain": [
       "131"
      ]
     },
     "execution_count": 323,
     "metadata": {},
     "output_type": "execute_result"
    }
   ],
   "source": [
    "duration_in_minutes"
   ]
  },
  {
   "cell_type": "markdown",
   "metadata": {},
   "source": [
    "### Box office section"
   ]
  },
  {
   "cell_type": "code",
   "execution_count": 324,
   "metadata": {
    "collapsed": false
   },
   "outputs": [],
   "source": [
    "BOX_CONTENT_REGEX = r\"<h3.*>Box Office</h3>([\\s\\S]+?)<h3\""
   ]
  },
  {
   "cell_type": "code",
   "execution_count": 325,
   "metadata": {
    "collapsed": false
   },
   "outputs": [],
   "source": [
    "box_contents = re.findall(BOX_CONTENT_REGEX, str(prof_page))[0]"
   ]
  },
  {
   "cell_type": "code",
   "execution_count": 326,
   "metadata": {
    "collapsed": false,
    "scrolled": true
   },
   "outputs": [
    {
     "data": {
      "text/plain": [
       "'\\n<div class=\"txt-block\">\\n<h4 class=\"inline\">Budget:</h4>        $14,400,000        \\n\\n      <span class=\"attribute\">(estimated)</span>\\n</div>\\n<div class=\"txt-block\">\\n<h4 class=\"inline\">Gross:</h4>        $101,157,447        \\n\\n      <span class=\"attribute\">(USA)</span>\\n</div>\\n<span class=\"see-more inline\">\\n<a href=\"business?ref_=tt_dt_bus\" itemprop=\"url\">See more</a>\\xa0»\\n  </span>\\n<hr/>\\n'"
      ]
     },
     "execution_count": 326,
     "metadata": {},
     "output_type": "execute_result"
    }
   ],
   "source": [
    "box_contents"
   ]
  },
  {
   "cell_type": "markdown",
   "metadata": {},
   "source": [
    "#### Budget"
   ]
  },
  {
   "cell_type": "code",
   "execution_count": 327,
   "metadata": {
    "collapsed": true
   },
   "outputs": [],
   "source": [
    "BUDGET_REGEX = r\"<h4.*>Budget:</h4>\\s*\\$([0-9,]+)\""
   ]
  },
  {
   "cell_type": "code",
   "execution_count": 328,
   "metadata": {
    "collapsed": false
   },
   "outputs": [],
   "source": [
    "budget = int(re.findall(BUDGET_REGEX, box_contents)[0].replace(',', ''))"
   ]
  },
  {
   "cell_type": "code",
   "execution_count": 329,
   "metadata": {
    "collapsed": false,
    "scrolled": true
   },
   "outputs": [
    {
     "data": {
      "text/plain": [
       "14400000"
      ]
     },
     "execution_count": 329,
     "metadata": {},
     "output_type": "execute_result"
    }
   ],
   "source": [
    "budget"
   ]
  },
  {
   "cell_type": "markdown",
   "metadata": {},
   "source": [
    "#### Opening Weekend"
   ]
  },
  {
   "cell_type": "code",
   "execution_count": 330,
   "metadata": {
    "collapsed": true
   },
   "outputs": [],
   "source": [
    "from datetime import datetime"
   ]
  },
  {
   "cell_type": "code",
   "execution_count": 331,
   "metadata": {
    "collapsed": true
   },
   "outputs": [],
   "source": [
    "OPEN_DATE_REGEX = r\"<h4.*>Opening Weekend:</h4>[\\s\\S]*?\\([A-Z]+\\)[\\s\\S]*?\\(([0-9a-zA-Z\\s]+)\\)[\\s\\S]*?<h4\""
   ]
  },
  {
   "cell_type": "code",
   "execution_count": 332,
   "metadata": {
    "collapsed": false
   },
   "outputs": [
    {
     "ename": "IndexError",
     "evalue": "list index out of range",
     "output_type": "error",
     "traceback": [
      "\u001b[0;31m---------------------------------------------------------------------------\u001b[0m",
      "\u001b[0;31mIndexError\u001b[0m                                Traceback (most recent call last)",
      "\u001b[0;32m<ipython-input-332-512e959252e8>\u001b[0m in \u001b[0;36m<module>\u001b[0;34m()\u001b[0m\n\u001b[0;32m----> 1\u001b[0;31m \u001b[0mopen_date_str\u001b[0m \u001b[0;34m=\u001b[0m \u001b[0mre\u001b[0m\u001b[0;34m.\u001b[0m\u001b[0mfindall\u001b[0m\u001b[0;34m(\u001b[0m\u001b[0mOPEN_DATE_REGEX\u001b[0m\u001b[0;34m,\u001b[0m \u001b[0mbox_contents\u001b[0m\u001b[0;34m)\u001b[0m\u001b[0;34m[\u001b[0m\u001b[0;36m0\u001b[0m\u001b[0;34m]\u001b[0m\u001b[0;34m\u001b[0m\u001b[0m\n\u001b[0m",
      "\u001b[0;31mIndexError\u001b[0m: list index out of range"
     ]
    }
   ],
   "source": [
    "open_date_str = re.findall(OPEN_DATE_REGEX, box_contents)[0]"
   ]
  },
  {
   "cell_type": "code",
   "execution_count": 333,
   "metadata": {
    "collapsed": false
   },
   "outputs": [],
   "source": [
    "open_date = datetime.strptime(open_date_str, \"%d %B %Y\").date()"
   ]
  },
  {
   "cell_type": "code",
   "execution_count": 334,
   "metadata": {
    "collapsed": false
   },
   "outputs": [
    {
     "data": {
      "text/plain": [
       "datetime.date(1994, 11, 11)"
      ]
     },
     "execution_count": 334,
     "metadata": {},
     "output_type": "execute_result"
    }
   ],
   "source": [
    "open_date"
   ]
  },
  {
   "cell_type": "code",
   "execution_count": 268,
   "metadata": {
    "collapsed": true
   },
   "outputs": [],
   "source": [
    "OPEN_PROF_REGEX = r\"<h4.*>Opening Weekend:</h4>\\s*[\\$\\£]([0-9,]+)\""
   ]
  },
  {
   "cell_type": "code",
   "execution_count": 269,
   "metadata": {
    "collapsed": false
   },
   "outputs": [],
   "source": [
    "opening_weekend_income = int(re.findall(OPEN_PROF_REGEX, box_contents)[0].replace(',', ''))"
   ]
  },
  {
   "cell_type": "code",
   "execution_count": 270,
   "metadata": {
    "collapsed": false,
    "scrolled": true
   },
   "outputs": [
    {
     "data": {
      "text/plain": [
       "4243233"
      ]
     },
     "execution_count": 270,
     "metadata": {},
     "output_type": "execute_result"
    }
   ],
   "source": [
    "opening_weekend_income"
   ]
  },
  {
   "cell_type": "code",
   "execution_count": 287,
   "metadata": {
    "collapsed": true
   },
   "outputs": [],
   "source": [
    "OPEN_PROF_CURRENCY_REGEX = r\"<h4.*>Opening Weekend:</h4>\\s*([\\$\\£])[0-9,]+\""
   ]
  },
  {
   "cell_type": "code",
   "execution_count": 289,
   "metadata": {
    "collapsed": false
   },
   "outputs": [
    {
     "data": {
      "text/plain": [
       "'£'"
      ]
     },
     "execution_count": 289,
     "metadata": {},
     "output_type": "execute_result"
    }
   ],
   "source": [
    "opening_weekend_income = re.findall(OPEN_PROF_CURRENCY_REGEX, box_contents)[0]"
   ]
  },
  {
   "cell_type": "markdown",
   "metadata": {},
   "source": [
    "#### Gross"
   ]
  },
  {
   "cell_type": "code",
   "execution_count": 285,
   "metadata": {
    "collapsed": true
   },
   "outputs": [],
   "source": [
    "GROSS_DATE_REGEX = r\"<h4.*>Gross:</h4>[\\s\\S]*?\\(USA\\)[\\s\\S]*?\\(([0-9a-zA-Z\\s]+)\\)\""
   ]
  },
  {
   "cell_type": "code",
   "execution_count": 286,
   "metadata": {
    "collapsed": false
   },
   "outputs": [
    {
     "ename": "IndexError",
     "evalue": "list index out of range",
     "output_type": "error",
     "traceback": [
      "\u001b[0;31m---------------------------------------------------------------------------\u001b[0m",
      "\u001b[0;31mIndexError\u001b[0m                                Traceback (most recent call last)",
      "\u001b[0;32m<ipython-input-286-e0f3308f45e6>\u001b[0m in \u001b[0;36m<module>\u001b[0;34m()\u001b[0m\n\u001b[0;32m----> 1\u001b[0;31m \u001b[0mgross_date_str\u001b[0m \u001b[0;34m=\u001b[0m \u001b[0mre\u001b[0m\u001b[0;34m.\u001b[0m\u001b[0mfindall\u001b[0m\u001b[0;34m(\u001b[0m\u001b[0mGROSS_DATE_REGEX\u001b[0m\u001b[0;34m,\u001b[0m \u001b[0mbox_contents\u001b[0m\u001b[0;34m)\u001b[0m\u001b[0;34m[\u001b[0m\u001b[0;36m0\u001b[0m\u001b[0;34m]\u001b[0m\u001b[0;34m\u001b[0m\u001b[0m\n\u001b[0m",
      "\u001b[0;31mIndexError\u001b[0m: list index out of range"
     ]
    }
   ],
   "source": [
    "gross_date_str = re.findall(GROSS_DATE_REGEX, box_contents)[0]"
   ]
  },
  {
   "cell_type": "code",
   "execution_count": 279,
   "metadata": {
    "collapsed": false
   },
   "outputs": [
    {
     "ename": "TypeError",
     "evalue": "strptime() argument 1 must be str, not tuple",
     "output_type": "error",
     "traceback": [
      "\u001b[0;31m---------------------------------------------------------------------------\u001b[0m",
      "\u001b[0;31mTypeError\u001b[0m                                 Traceback (most recent call last)",
      "\u001b[0;32m<ipython-input-279-a136d5f744a5>\u001b[0m in \u001b[0;36m<module>\u001b[0;34m()\u001b[0m\n\u001b[0;32m----> 1\u001b[0;31m \u001b[0mgross_date\u001b[0m \u001b[0;34m=\u001b[0m \u001b[0mdatetime\u001b[0m\u001b[0;34m.\u001b[0m\u001b[0mstrptime\u001b[0m\u001b[0;34m(\u001b[0m\u001b[0mgross_date_str\u001b[0m\u001b[0;34m,\u001b[0m \u001b[0;34m\"%d %B %Y\"\u001b[0m\u001b[0;34m)\u001b[0m\u001b[0;34m.\u001b[0m\u001b[0mdate\u001b[0m\u001b[0;34m(\u001b[0m\u001b[0;34m)\u001b[0m\u001b[0;34m\u001b[0m\u001b[0m\n\u001b[0m",
      "\u001b[0;31mTypeError\u001b[0m: strptime() argument 1 must be str, not tuple"
     ]
    }
   ],
   "source": [
    "gross_date = datetime.strptime(gross_date_str, \"%d %B %Y\").date()"
   ]
  },
  {
   "cell_type": "code",
   "execution_count": 280,
   "metadata": {
    "collapsed": false
   },
   "outputs": [
    {
     "data": {
      "text/plain": [
       "datetime.date(2011, 10, 28)"
      ]
     },
     "execution_count": 280,
     "metadata": {},
     "output_type": "execute_result"
    }
   ],
   "source": [
    "gross_date"
   ]
  },
  {
   "cell_type": "code",
   "execution_count": 282,
   "metadata": {
    "collapsed": true
   },
   "outputs": [],
   "source": [
    "GROSS_REGEX = r\"<h4.*>Gross:</h4>\\s*\\$([0-9,]+)[\\s\\S]*?\\(USA\\)\""
   ]
  },
  {
   "cell_type": "code",
   "execution_count": 283,
   "metadata": {
    "collapsed": false
   },
   "outputs": [],
   "source": [
    "gross = int(re.findall(GROSS_REGEX, box_contents)[0].replace(',', ''))"
   ]
  },
  {
   "cell_type": "code",
   "execution_count": 284,
   "metadata": {
    "collapsed": false,
    "scrolled": true
   },
   "outputs": [
    {
     "data": {
      "text/plain": [
       "107930000"
      ]
     },
     "execution_count": 284,
     "metadata": {},
     "output_type": "execute_result"
    }
   ],
   "source": [
    "gross"
   ]
  },
  {
   "cell_type": "code",
   "execution_count": 158,
   "metadata": {
    "collapsed": true
   },
   "outputs": [],
   "source": [
    "# ## Business page\n",
    "# BUSINESS_URL = 'http://www.imdb.com/title/{code}/business?ref_=tt_dt_bus'\n",
    "# cur_business_url = BUSINESS_URL.format(code=MOVIE_CODE)\n",
    "# busi_page = bs(urlopen(cur_business_url), \"html.parser\")\n",
    "# busi_str = str(busi_page)\n",
    "# #### Budget\n",
    "# BUDGET_REGEX = r\"<h5>Budget</h5>\\n\\s*\\$([0-9,]+)\"\n",
    "# budget_dollar = int(re.findall(BUDGET_REGEX, busi_str)[0].replace(',', ''))\n",
    "# ### Opening Weekend (USA)\n",
    "# OPEN_WEEKEND_CONTENT_REGEX = r\"<h5>Opening Weekend</h5>([\\s\\S]+?)<h5>\"\n",
    "# open_weekend_contents = re.findall(OPEN_WEEKEND_CONTENT_REGEX, busi_str)[0]\n",
    "# US_OPEN_WEEKEND_REGEX = r\"\\$([0-9,]+)\\s*\\(USA\\)\"\n",
    "# us_open_weekend = int(re.findall(US_OPEN_WEEKEND_REGEX, open_weekend_contents)[0].replace(',', ''))\n",
    "# ### Gross Earnings\n",
    "# GROSS_CONTENT_REGEX = r\"<h5>Gross</h5>([\\s\\S]+?)<h5>\"\n",
    "# gross_contents = re.findall(GROSS_CONTENT_REGEX, busi_str)[0]\n",
    "# GROSS_REGEX = r\"<h5>Gross</h5>\\n\\s*\\$([0-9,]+)\\s*\\(USA\\)\"\n",
    "# gross_inc_dollar = int(re.findall(GROSS_REGEX, busi_str)[0].replace(',', ''))"
   ]
  },
  {
   "cell_type": "markdown",
   "metadata": {},
   "source": [
    "## Ratings page"
   ]
  },
  {
   "cell_type": "code",
   "execution_count": 159,
   "metadata": {
    "collapsed": true
   },
   "outputs": [],
   "source": [
    "RATINGS_URL = 'http://www.imdb.com/title/{code}/ratings'\n",
    "cur_ratings_url = RATINGS_URL.format(code=MOVIE_CODE)\n",
    "ratings_page = bs(urlopen(cur_ratings_url), \"html.parser\")"
   ]
  },
  {
   "cell_type": "code",
   "execution_count": 160,
   "metadata": {
    "collapsed": false
   },
   "outputs": [],
   "source": [
    "tables = ratings_page.find_all(\"table\")"
   ]
  },
  {
   "cell_type": "code",
   "execution_count": 161,
   "metadata": {
    "collapsed": true
   },
   "outputs": [],
   "source": [
    "def extract_table(table):\n",
    "    content = []\n",
    "    for row in table.find_all(\"tr\")[1:]:\n",
    "        content.append([td.get_text() for td in row.find_all(\"td\")])\n",
    "    return content"
   ]
  },
  {
   "cell_type": "markdown",
   "metadata": {},
   "source": [
    "### Rating Frequency"
   ]
  },
  {
   "cell_type": "code",
   "execution_count": 162,
   "metadata": {
    "collapsed": true
   },
   "outputs": [],
   "source": [
    "hist_table = tables[0]"
   ]
  },
  {
   "cell_type": "code",
   "execution_count": 163,
   "metadata": {
    "collapsed": false
   },
   "outputs": [],
   "source": [
    "hist_content = extract_table(hist_table)"
   ]
  },
  {
   "cell_type": "code",
   "execution_count": 164,
   "metadata": {
    "collapsed": false
   },
   "outputs": [
    {
     "data": {
      "text/plain": [
       "{1: 14142,\n",
       " 2: 5014,\n",
       " 3: 6656,\n",
       " 4: 9297,\n",
       " 5: 19323,\n",
       " 6: 42557,\n",
       " 7: 121004,\n",
       " 8: 273966,\n",
       " 9: 384290,\n",
       " 10: 397719}"
      ]
     },
     "execution_count": 164,
     "metadata": {},
     "output_type": "execute_result"
    }
   ],
   "source": [
    "rating_freq = {}\n",
    "for row in hist_content:\n",
    "    rating_freq[int(row[2])] = int(row[0])\n",
    "rating_freq"
   ]
  },
  {
   "cell_type": "markdown",
   "metadata": {},
   "source": [
    "### Demographic breakdown"
   ]
  },
  {
   "cell_type": "code",
   "execution_count": 165,
   "metadata": {
    "collapsed": false
   },
   "outputs": [
    {
     "data": {
      "text/plain": [
       "[[' Males ', '\\xa0856845', '\\xa08.8'],\n",
       " [' Females ', '\\xa0151613', '\\xa08.3'],\n",
       " [' Aged under 18 ', '\\xa03878', '\\xa08.5'],\n",
       " [' Males under 18 ', '\\xa03197', '\\xa08.6'],\n",
       " [' Females under 18 ', '\\xa0652', '\\xa08.3'],\n",
       " [' Aged 18-29 ', '\\xa0419542', '\\xa08.7'],\n",
       " [' Males Aged 18-29 ', '\\xa0347236', '\\xa08.7'],\n",
       " [' Females Aged 18-29 ', '\\xa068657', '\\xa08.2'],\n",
       " [' Aged 30-44 ', '\\xa0451497', '\\xa08.8'],\n",
       " [' Males Aged 30-44 ', '\\xa0385615', '\\xa08.8'],\n",
       " [' Females Aged 30-44 ', '\\xa060572', '\\xa08.4'],\n",
       " [' Aged 45+ ', '\\xa093238', '\\xa08.4'],\n",
       " [' Males Aged 45+ ', '\\xa077458', '\\xa08.5'],\n",
       " [' Females Aged 45+ ', '\\xa014325', '\\xa08.1'],\n",
       " [' IMDb staff ', '\\xa098', '\\xa08.7'],\n",
       " [' Top 1000 voters ', '\\xa0942', '\\xa08.2'],\n",
       " [' US users ', '\\xa0212695', '\\xa08.6'],\n",
       " [' Non-US users ', '\\xa0574337', '\\xa08.7'],\n",
       " ['\\xa0'],\n",
       " [' IMDb users                         ', '\\xa01273968', '\\xa08.7']]"
      ]
     },
     "execution_count": 165,
     "metadata": {},
     "output_type": "execute_result"
    }
   ],
   "source": [
    "demog_table = tables[1]\n",
    "demog_content = extract_table(demog_table)\n",
    "demog_content"
   ]
  },
  {
   "cell_type": "code",
   "execution_count": 166,
   "metadata": {
    "collapsed": true
   },
   "outputs": [],
   "source": [
    "votes_per_demo = {}\n",
    "avg_rating_per_demo = {}"
   ]
  },
  {
   "cell_type": "code",
   "execution_count": 167,
   "metadata": {
    "collapsed": false
   },
   "outputs": [
    {
     "name": "stdout",
     "output_type": "stream",
     "text": [
      "{'Top 1000 voters': 942, 'Aged 45+': 93238, 'Females Aged 18-29': 68657, 'US users': 212695, 'Males Aged 45+': 77458, 'Aged under 18': 3878, 'Aged 30-44': 451497, 'Males': 856845, 'Males under 18': 3197, 'IMDb staff': 98, 'Aged 18-29': 419542, 'Males Aged 30-44': 385615, 'IMDb users': 1273968, 'Females under 18': 652, 'Non-US users': 574337, 'Females Aged 45+': 14325, 'Males Aged 18-29': 347236, 'Females Aged 30-44': 60572, 'Females': 151613}\n",
      "{'Top 1000 voters': 8.2, 'Aged 45+': 8.4, 'Females Aged 18-29': 8.2, 'US users': 8.6, 'Males Aged 45+': 8.5, 'Aged under 18': 8.5, 'Aged 30-44': 8.8, 'Males': 8.8, 'Males under 18': 8.6, 'IMDb staff': 8.7, 'Aged 18-29': 8.7, 'Males Aged 30-44': 8.8, 'IMDb users': 8.7, 'Females under 18': 8.3, 'Non-US users': 8.7, 'Females Aged 45+': 8.1, 'Males Aged 18-29': 8.7, 'Females Aged 30-44': 8.4, 'Females': 8.3}\n"
     ]
    }
   ],
   "source": [
    "for row in demog_content:\n",
    "    try:\n",
    "        votes_per_demo[row[0].strip()] = int(row[1])\n",
    "        avg_rating_per_demo[row[0].strip()] = float(row[2])\n",
    "    except IndexError:\n",
    "        pass\n",
    "print(votes_per_demo)\n",
    "print(avg_rating_per_demo)"
   ]
  },
  {
   "cell_type": "code",
   "execution_count": null,
   "metadata": {
    "collapsed": true
   },
   "outputs": [],
   "source": []
  },
  {
   "cell_type": "code",
   "execution_count": null,
   "metadata": {
    "collapsed": true
   },
   "outputs": [],
   "source": []
  }
 ],
 "metadata": {
  "anaconda-cloud": {},
  "kernelspec": {
   "display_name": "Python [conda env:ds]",
   "language": "python",
   "name": "conda-env-ds-py"
  },
  "language_info": {
   "codemirror_mode": {
    "name": "ipython",
    "version": 3
   },
   "file_extension": ".py",
   "mimetype": "text/x-python",
   "name": "python",
   "nbconvert_exporter": "python",
   "pygments_lexer": "ipython3",
   "version": "3.5.2"
  }
 },
 "nbformat": 4,
 "nbformat_minor": 1
}
