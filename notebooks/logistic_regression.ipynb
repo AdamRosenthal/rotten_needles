{
 "cells": [
  {
   "cell_type": "markdown",
   "metadata": {
    "deletable": true,
    "editable": true
   },
   "source": [
    "# Prediction Problems"
   ]
  },
  {
   "cell_type": "markdown",
   "metadata": {
    "deletable": true,
    "editable": true
   },
   "source": [
    "## Loading the dataset"
   ]
  },
  {
   "cell_type": "code",
   "execution_count": 97,
   "metadata": {
    "collapsed": true,
    "deletable": true,
    "editable": true
   },
   "outputs": [],
   "source": [
    "import os\n",
    "\n",
    "import pandas as pd\n",
    "\n",
    "import holcrawl.shared"
   ]
  },
  {
   "cell_type": "code",
   "execution_count": 2,
   "metadata": {
    "collapsed": true,
    "deletable": true,
    "editable": true
   },
   "outputs": [],
   "source": [
    "dataset_dir = holcrawl.shared._get_dataset_dir_path()"
   ]
  },
  {
   "cell_type": "code",
   "execution_count": 3,
   "metadata": {
    "collapsed": true,
    "deletable": true,
    "editable": true
   },
   "outputs": [],
   "source": [
    "dataset_path = os.path.join(dataset_dir, 'movies_dataset.csv')"
   ]
  },
  {
   "cell_type": "code",
   "execution_count": 4,
   "metadata": {
    "collapsed": true,
    "deletable": true,
    "editable": true
   },
   "outputs": [],
   "source": [
    "df = pd.read_csv(dataset_path)"
   ]
  },
  {
   "cell_type": "markdown",
   "metadata": {
    "deletable": true,
    "editable": true
   },
   "source": [
    "## Feature Generation"
   ]
  },
  {
   "cell_type": "code",
   "execution_count": 5,
   "metadata": {
    "collapsed": false,
    "deletable": true,
    "editable": true
   },
   "outputs": [],
   "source": [
    "df['total_screens'] = df['avg_screens'] * df['num_weekends'] "
   ]
  },
  {
   "cell_type": "code",
   "execution_count": 6,
   "metadata": {
    "collapsed": false,
    "deletable": true,
    "editable": true
   },
   "outputs": [],
   "source": [
    "df['norm_gross'] = df['gross_income'] / df['budget']"
   ]
  },
  {
   "cell_type": "code",
   "execution_count": 72,
   "metadata": {
    "collapsed": false,
    "deletable": true,
    "editable": true
   },
   "outputs": [],
   "source": [
    "df['starting_letter'] = df['name'].map(lambda name: name[0].lower())"
   ]
  },
  {
   "cell_type": "code",
   "execution_count": 73,
   "metadata": {
    "collapsed": true,
    "deletable": true,
    "editable": true
   },
   "outputs": [],
   "source": [
    "df['name_lenth'] = df['name'].map(lambda name: len(name))"
   ]
  },
  {
   "cell_type": "code",
   "execution_count": 183,
   "metadata": {
    "collapsed": false
   },
   "outputs": [
    {
     "data": {
      "text/plain": [
       "338"
      ]
     },
     "execution_count": 183,
     "metadata": {},
     "output_type": "execute_result"
    }
   ],
   "source": [
    "len(df)"
   ]
  },
  {
   "cell_type": "code",
   "execution_count": 186,
   "metadata": {
    "collapsed": false
   },
   "outputs": [],
   "source": [
    "# df.isnull().sum()"
   ]
  },
  {
   "cell_type": "code",
   "execution_count": 185,
   "metadata": {
    "collapsed": false
   },
   "outputs": [
    {
     "data": {
      "text/plain": [
       "335"
      ]
     },
     "execution_count": 185,
     "metadata": {},
     "output_type": "execute_result"
    }
   ],
   "source": [
    "len(df[df['avg_mc_critic_by_opening'].notnull()])"
   ]
  },
  {
   "cell_type": "code",
   "execution_count": 74,
   "metadata": {
    "collapsed": false,
    "deletable": true,
    "editable": true,
    "scrolled": true
   },
   "outputs": [],
   "source": [
    "# df['opening_weekend_date']"
   ]
  },
  {
   "cell_type": "code",
   "execution_count": 119,
   "metadata": {
    "collapsed": true,
    "deletable": true,
    "editable": true
   },
   "outputs": [],
   "source": [
    "BASE_FEAT_TO_KEEP = [\n",
    "    'duration', 'starting_letter', 'budget', 'opening_month', 'opening_day', 'opening_day_of_year', 'year',\n",
    "    'avg_mc_critic_by_opening', 'name_lenth'  # 'avg_mc_user_by_opening'\n",
    "]"
   ]
  },
  {
   "cell_type": "code",
   "execution_count": 120,
   "metadata": {
    "collapsed": true,
    "deletable": true,
    "editable": true
   },
   "outputs": [],
   "source": [
    "FEAT_TO_KEEP = BASE_FEAT_TO_KEEP + [col for col in df.columns if 'genres' in col]"
   ]
  },
  {
   "cell_type": "code",
   "execution_count": 121,
   "metadata": {
    "collapsed": true
   },
   "outputs": [],
   "source": [
    "features = df.drop([col for col in df.columns if col not in BASE_FEAT_TO_KEEP], axis=1)"
   ]
  },
  {
   "cell_type": "code",
   "execution_count": 160,
   "metadata": {
    "collapsed": true
   },
   "outputs": [],
   "source": [
    "features['norm_gross'] = df['norm_gross']"
   ]
  },
  {
   "cell_type": "code",
   "execution_count": 77,
   "metadata": {
    "collapsed": false,
    "deletable": true,
    "editable": true,
    "scrolled": true
   },
   "outputs": [],
   "source": [
    "dataset = df.drop([col for col in df.columns if col not in FEAT_TO_KEEP], axis=1)"
   ]
  },
  {
   "cell_type": "code",
   "execution_count": 78,
   "metadata": {
    "collapsed": true,
    "deletable": true,
    "editable": true
   },
   "outputs": [],
   "source": [
    "letter_dummies = pd.get_dummies(dataset['starting_letter'], drop_first=True, prefix='fl')"
   ]
  },
  {
   "cell_type": "code",
   "execution_count": 79,
   "metadata": {
    "collapsed": false,
    "deletable": true,
    "editable": true
   },
   "outputs": [],
   "source": [
    "dataset = dataset.assign(**{col: letter_dummies[col] for col in letter_dummies.columns})"
   ]
  },
  {
   "cell_type": "code",
   "execution_count": 80,
   "metadata": {
    "collapsed": true,
    "deletable": true,
    "editable": true
   },
   "outputs": [],
   "source": [
    "dataset = dataset.drop('starting_letter', axis=1)"
   ]
  },
  {
   "cell_type": "code",
   "execution_count": 81,
   "metadata": {
    "collapsed": false
   },
   "outputs": [],
   "source": [
    "dataset = dataset.dropna(axis=0)"
   ]
  },
  {
   "cell_type": "code",
   "execution_count": 122,
   "metadata": {
    "collapsed": false
   },
   "outputs": [],
   "source": [
    "# dataset"
   ]
  },
  {
   "cell_type": "code",
   "execution_count": null,
   "metadata": {
    "collapsed": true
   },
   "outputs": [],
   "source": [
    "# pd.options.display.max_columns = 999\n",
    "# dataset"
   ]
  },
  {
   "cell_type": "markdown",
   "metadata": {},
   "source": [
    "## Exploration"
   ]
  },
  {
   "cell_type": "code",
   "execution_count": 126,
   "metadata": {
    "collapsed": true
   },
   "outputs": [],
   "source": [
    "import numpy as np"
   ]
  },
  {
   "cell_type": "code",
   "execution_count": 155,
   "metadata": {
    "collapsed": false
   },
   "outputs": [],
   "source": [
    "import seaborn as sns\n",
    "import matplotlib.pyplot as plt\n",
    "%matplotlib inline"
   ]
  },
  {
   "cell_type": "code",
   "execution_count": 162,
   "metadata": {
    "collapsed": true
   },
   "outputs": [],
   "source": [
    "def draw_pearson_correlation(feature_df):\n",
    "    pearson_df = pd.DataFrame(\n",
    "        data=np.corrcoef(feature_df.T),\n",
    "        index=feature_df.columns,\n",
    "        columns=feature_df.columns\n",
    "    )\n",
    "    \n",
    "    lower_left_mask = []\n",
    "    for i in range(len(feature_df.columns)):\n",
    "        lower_left_mask.append([i<j+1 for j in range(len(feature_df.columns))])\n",
    "    lower_left_mask = np.array(lower_left_mask)\n",
    "    \n",
    "    plt.figure(figsize=(13,10))\n",
    "    with sns.axes_style(\"white\"):\n",
    "        heatmap = sns.heatmap(\n",
    "            pearson_df, \n",
    "            annot=True, \n",
    "            fmt=\".2f\", \n",
    "            linewidths=.5,\n",
    "#             mask=lower_left_mask\n",
    "        )\n",
    "        heatmap.yaxis.set_ticklabels(heatmap.yaxis.get_ticklabels(), fontsize=14);\n",
    "        heatmap.xaxis.set_ticklabels(heatmap.xaxis.get_ticklabels(), rotation=45, ha='right', fontsize=14)\n",
    "        "
   ]
  },
  {
   "cell_type": "code",
   "execution_count": 152,
   "metadata": {
    "collapsed": false
   },
   "outputs": [],
   "source": [
    "# features = features.drop('starting_letter', axis=1)"
   ]
  },
  {
   "cell_type": "code",
   "execution_count": 157,
   "metadata": {
    "collapsed": true
   },
   "outputs": [],
   "source": [
    "features = features.dropna(axis=0)"
   ]
  },
  {
   "cell_type": "code",
   "execution_count": 158,
   "metadata": {
    "collapsed": false
   },
   "outputs": [
    {
     "data": {
      "text/plain": [
       "Index(['budget', 'duration', 'year', 'avg_mc_critic_by_opening',\n",
       "       'opening_month', 'opening_day', 'opening_day_of_year', 'name_lenth'],\n",
       "      dtype='object')"
      ]
     },
     "execution_count": 158,
     "metadata": {},
     "output_type": "execute_result"
    }
   ],
   "source": [
    "features.columns"
   ]
  },
  {
   "cell_type": "code",
   "execution_count": 163,
   "metadata": {
    "collapsed": false
   },
   "outputs": [
    {
     "data": {
      "image/png": "[encoded data removed]",
      "text/plain": [
       "<matplotlib.figure.Figure at 0x110f09400>"
      ]
     },
     "metadata": {},
     "output_type": "display_data"
    }
   ],
   "source": [
    "draw_pearson_correlation(features)"
   ]
  },
  {
   "cell_type": "markdown",
   "metadata": {},
   "source": [
    "## Prediction"
   ]
  },
  {
   "cell_type": "code",
   "execution_count": 106,
   "metadata": {
    "collapsed": true
   },
   "outputs": [],
   "source": [
    "from sklearn import linear_model\n",
    "from sklearn.model_selection import train_test_split\n",
    "from scipy.special import expit"
   ]
  },
  {
   "cell_type": "markdown",
   "metadata": {},
   "source": [
    "### Predicting failed movies"
   ]
  },
  {
   "cell_type": "code",
   "execution_count": 169,
   "metadata": {
    "collapsed": false
   },
   "outputs": [],
   "source": [
    "failed = df['norm_gross'].ix[dataset.index] < 1"
   ]
  },
  {
   "cell_type": "code",
   "execution_count": 170,
   "metadata": {
    "collapsed": false,
    "deletable": true,
    "editable": true
   },
   "outputs": [],
   "source": [
    "X = dataset\n",
    "Y = failed"
   ]
  },
  {
   "cell_type": "code",
   "execution_count": 177,
   "metadata": {
    "collapsed": true,
    "deletable": true,
    "editable": true
   },
   "outputs": [],
   "source": [
    "X_train, X_test, y_train, y_test = train_test_split(X, Y, test_size=0.25)"
   ]
  },
  {
   "cell_type": "code",
   "execution_count": 178,
   "metadata": {
    "collapsed": false,
    "deletable": true,
    "editable": true
   },
   "outputs": [
    {
     "data": {
      "text/plain": [
       "LogisticRegression(C=1.0, class_weight=None, dual=False, fit_intercept=True,\n",
       "          intercept_scaling=1, max_iter=100, multi_class='ovr', n_jobs=1,\n",
       "          penalty='l2', random_state=None, solver='liblinear', tol=0.0001,\n",
       "          verbose=0, warm_start=False)"
      ]
     },
     "execution_count": 178,
     "metadata": {},
     "output_type": "execute_result"
    }
   ],
   "source": [
    "logreg = linear_model.LogisticRegression()\n",
    "logreg.fit(X_train, y_train)"
   ]
  },
  {
   "cell_type": "code",
   "execution_count": 179,
   "metadata": {
    "collapsed": false
   },
   "outputs": [
    {
     "data": {
      "text/plain": [
       "0.56338028169014087"
      ]
     },
     "execution_count": 179,
     "metadata": {},
     "output_type": "execute_result"
    }
   ],
   "source": [
    "mean_accuracy = logreg.score(X_test, y_test)\n",
    "mean_accuracy"
   ]
  },
  {
   "cell_type": "code",
   "execution_count": 180,
   "metadata": {
    "collapsed": false,
    "deletable": true,
    "editable": true
   },
   "outputs": [],
   "source": [
    "y_predict = logreg.predict(X_test)\n",
    "confidence = logreg.decision_function(X_test)\n",
    "expit_confidence = expit(logreg.decision_function(X_test))\n",
    "probablility = logreg.predict_proba(X_test)[:, 1]\n",
    "# log_res['decision'] = logreg.decision_function(x_test)\n",
    "coef_df = pd.DataFrame({'coef': logreg.coef_[0]}, index=X_train.columns)"
   ]
  },
  {
   "cell_type": "code",
   "execution_count": 181,
   "metadata": {
    "collapsed": false
   },
   "outputs": [
    {
     "data": {
      "text/html": [
       "<div>\n",
       "<table border=\"1\" class=\"dataframe\">\n",
       "  <thead>\n",
       "    <tr style=\"text-align: right;\">\n",
       "      <th></th>\n",
       "      <th>coef</th>\n",
       "    </tr>\n",
       "  </thead>\n",
       "  <tbody>\n",
       "    <tr>\n",
       "      <th>budget</th>\n",
       "      <td>-1.185395e-09</td>\n",
       "    </tr>\n",
       "    <tr>\n",
       "      <th>duration</th>\n",
       "      <td>-2.284065e-06</td>\n",
       "    </tr>\n",
       "    <tr>\n",
       "      <th>year</th>\n",
       "      <td>-4.272609e-05</td>\n",
       "    </tr>\n",
       "    <tr>\n",
       "      <th>genres.action</th>\n",
       "      <td>1.511790e-08</td>\n",
       "    </tr>\n",
       "    <tr>\n",
       "      <th>genres.adventure</th>\n",
       "      <td>-4.453006e-09</td>\n",
       "    </tr>\n",
       "    <tr>\n",
       "      <th>genres.animation</th>\n",
       "      <td>-2.562034e-09</td>\n",
       "    </tr>\n",
       "    <tr>\n",
       "      <th>genres.biography</th>\n",
       "      <td>-5.104862e-09</td>\n",
       "    </tr>\n",
       "    <tr>\n",
       "      <th>genres.comedy</th>\n",
       "      <td>-1.974960e-08</td>\n",
       "    </tr>\n",
       "    <tr>\n",
       "      <th>genres.crime</th>\n",
       "      <td>6.318081e-09</td>\n",
       "    </tr>\n",
       "    <tr>\n",
       "      <th>genres.documentary</th>\n",
       "      <td>-2.402305e-09</td>\n",
       "    </tr>\n",
       "    <tr>\n",
       "      <th>genres.drama</th>\n",
       "      <td>-8.442474e-10</td>\n",
       "    </tr>\n",
       "    <tr>\n",
       "      <th>genres.family</th>\n",
       "      <td>-1.942641e-09</td>\n",
       "    </tr>\n",
       "    <tr>\n",
       "      <th>genres.fantasy</th>\n",
       "      <td>1.740448e-09</td>\n",
       "    </tr>\n",
       "    <tr>\n",
       "      <th>genres.history</th>\n",
       "      <td>-2.373240e-09</td>\n",
       "    </tr>\n",
       "    <tr>\n",
       "      <th>genres.horror</th>\n",
       "      <td>-5.066335e-09</td>\n",
       "    </tr>\n",
       "    <tr>\n",
       "      <th>genres.music</th>\n",
       "      <td>-1.475876e-09</td>\n",
       "    </tr>\n",
       "    <tr>\n",
       "      <th>genres.musical</th>\n",
       "      <td>0.000000e+00</td>\n",
       "    </tr>\n",
       "    <tr>\n",
       "      <th>genres.mystery</th>\n",
       "      <td>-3.476140e-09</td>\n",
       "    </tr>\n",
       "    <tr>\n",
       "      <th>genres.romance</th>\n",
       "      <td>-3.512189e-09</td>\n",
       "    </tr>\n",
       "    <tr>\n",
       "      <th>genres.sci-fi</th>\n",
       "      <td>-2.819106e-09</td>\n",
       "    </tr>\n",
       "    <tr>\n",
       "      <th>genres.sport</th>\n",
       "      <td>-1.501966e-09</td>\n",
       "    </tr>\n",
       "    <tr>\n",
       "      <th>genres.thriller</th>\n",
       "      <td>-3.589481e-09</td>\n",
       "    </tr>\n",
       "    <tr>\n",
       "      <th>genres.war</th>\n",
       "      <td>-7.097426e-10</td>\n",
       "    </tr>\n",
       "    <tr>\n",
       "      <th>genres.western</th>\n",
       "      <td>9.743401e-10</td>\n",
       "    </tr>\n",
       "    <tr>\n",
       "      <th>avg_mc_critic_by_opening</th>\n",
       "      <td>-1.819628e-06</td>\n",
       "    </tr>\n",
       "    <tr>\n",
       "      <th>opening_month</th>\n",
       "      <td>-1.188201e-07</td>\n",
       "    </tr>\n",
       "    <tr>\n",
       "      <th>opening_day</th>\n",
       "      <td>-2.454156e-07</td>\n",
       "    </tr>\n",
       "    <tr>\n",
       "      <th>opening_day_of_year</th>\n",
       "      <td>-3.200253e-06</td>\n",
       "    </tr>\n",
       "    <tr>\n",
       "      <th>name_lenth</th>\n",
       "      <td>-4.231381e-07</td>\n",
       "    </tr>\n",
       "    <tr>\n",
       "      <th>fl_2</th>\n",
       "      <td>-3.124441e-09</td>\n",
       "    </tr>\n",
       "    <tr>\n",
       "      <th>fl_3</th>\n",
       "      <td>-7.835074e-10</td>\n",
       "    </tr>\n",
       "    <tr>\n",
       "      <th>fl_4</th>\n",
       "      <td>1.712533e-10</td>\n",
       "    </tr>\n",
       "    <tr>\n",
       "      <th>fl_5</th>\n",
       "      <td>0.000000e+00</td>\n",
       "    </tr>\n",
       "    <tr>\n",
       "      <th>fl_a</th>\n",
       "      <td>-3.393582e-09</td>\n",
       "    </tr>\n",
       "    <tr>\n",
       "      <th>fl_b</th>\n",
       "      <td>3.642783e-10</td>\n",
       "    </tr>\n",
       "    <tr>\n",
       "      <th>fl_c</th>\n",
       "      <td>2.026784e-09</td>\n",
       "    </tr>\n",
       "    <tr>\n",
       "      <th>fl_d</th>\n",
       "      <td>-6.825142e-09</td>\n",
       "    </tr>\n",
       "    <tr>\n",
       "      <th>fl_e</th>\n",
       "      <td>3.892478e-10</td>\n",
       "    </tr>\n",
       "    <tr>\n",
       "      <th>fl_f</th>\n",
       "      <td>-7.636141e-10</td>\n",
       "    </tr>\n",
       "    <tr>\n",
       "      <th>fl_g</th>\n",
       "      <td>-1.344911e-09</td>\n",
       "    </tr>\n",
       "    <tr>\n",
       "      <th>fl_h</th>\n",
       "      <td>9.225160e-10</td>\n",
       "    </tr>\n",
       "    <tr>\n",
       "      <th>fl_i</th>\n",
       "      <td>-1.405526e-10</td>\n",
       "    </tr>\n",
       "    <tr>\n",
       "      <th>fl_j</th>\n",
       "      <td>1.808924e-09</td>\n",
       "    </tr>\n",
       "    <tr>\n",
       "      <th>fl_k</th>\n",
       "      <td>-1.585714e-09</td>\n",
       "    </tr>\n",
       "    <tr>\n",
       "      <th>fl_l</th>\n",
       "      <td>1.170099e-10</td>\n",
       "    </tr>\n",
       "    <tr>\n",
       "      <th>fl_m</th>\n",
       "      <td>5.249590e-10</td>\n",
       "    </tr>\n",
       "    <tr>\n",
       "      <th>fl_n</th>\n",
       "      <td>2.070452e-10</td>\n",
       "    </tr>\n",
       "    <tr>\n",
       "      <th>fl_o</th>\n",
       "      <td>-4.567269e-10</td>\n",
       "    </tr>\n",
       "    <tr>\n",
       "      <th>fl_p</th>\n",
       "      <td>-2.645650e-09</td>\n",
       "    </tr>\n",
       "    <tr>\n",
       "      <th>fl_r</th>\n",
       "      <td>1.140956e-09</td>\n",
       "    </tr>\n",
       "    <tr>\n",
       "      <th>fl_s</th>\n",
       "      <td>-2.936500e-09</td>\n",
       "    </tr>\n",
       "    <tr>\n",
       "      <th>fl_t</th>\n",
       "      <td>-3.817794e-09</td>\n",
       "    </tr>\n",
       "    <tr>\n",
       "      <th>fl_u</th>\n",
       "      <td>-7.634257e-10</td>\n",
       "    </tr>\n",
       "    <tr>\n",
       "      <th>fl_v</th>\n",
       "      <td>1.688081e-09</td>\n",
       "    </tr>\n",
       "    <tr>\n",
       "      <th>fl_w</th>\n",
       "      <td>-2.029757e-09</td>\n",
       "    </tr>\n",
       "  </tbody>\n",
       "</table>\n",
       "</div>"
      ],
      "text/plain": [
       "                                  coef\n",
       "budget                   -1.185395e-09\n",
       "duration                 -2.284065e-06\n",
       "year                     -4.272609e-05\n",
       "genres.action             1.511790e-08\n",
       "genres.adventure         -4.453006e-09\n",
       "genres.animation         -2.562034e-09\n",
       "genres.biography         -5.104862e-09\n",
       "genres.comedy            -1.974960e-08\n",
       "genres.crime              6.318081e-09\n",
       "genres.documentary       -2.402305e-09\n",
       "genres.drama             -8.442474e-10\n",
       "genres.family            -1.942641e-09\n",
       "genres.fantasy            1.740448e-09\n",
       "genres.history           -2.373240e-09\n",
       "genres.horror            -5.066335e-09\n",
       "genres.music             -1.475876e-09\n",
       "genres.musical            0.000000e+00\n",
       "genres.mystery           -3.476140e-09\n",
       "genres.romance           -3.512189e-09\n",
       "genres.sci-fi            -2.819106e-09\n",
       "genres.sport             -1.501966e-09\n",
       "genres.thriller          -3.589481e-09\n",
       "genres.war               -7.097426e-10\n",
       "genres.western            9.743401e-10\n",
       "avg_mc_critic_by_opening -1.819628e-06\n",
       "opening_month            -1.188201e-07\n",
       "opening_day              -2.454156e-07\n",
       "opening_day_of_year      -3.200253e-06\n",
       "name_lenth               -4.231381e-07\n",
       "fl_2                     -3.124441e-09\n",
       "fl_3                     -7.835074e-10\n",
       "fl_4                      1.712533e-10\n",
       "fl_5                      0.000000e+00\n",
       "fl_a                     -3.393582e-09\n",
       "fl_b                      3.642783e-10\n",
       "fl_c                      2.026784e-09\n",
       "fl_d                     -6.825142e-09\n",
       "fl_e                      3.892478e-10\n",
       "fl_f                     -7.636141e-10\n",
       "fl_g                     -1.344911e-09\n",
       "fl_h                      9.225160e-10\n",
       "fl_i                     -1.405526e-10\n",
       "fl_j                      1.808924e-09\n",
       "fl_k                     -1.585714e-09\n",
       "fl_l                      1.170099e-10\n",
       "fl_m                      5.249590e-10\n",
       "fl_n                      2.070452e-10\n",
       "fl_o                     -4.567269e-10\n",
       "fl_p                     -2.645650e-09\n",
       "fl_r                      1.140956e-09\n",
       "fl_s                     -2.936500e-09\n",
       "fl_t                     -3.817794e-09\n",
       "fl_u                     -7.634257e-10\n",
       "fl_v                      1.688081e-09\n",
       "fl_w                     -2.029757e-09"
      ]
     },
     "execution_count": 181,
     "metadata": {},
     "output_type": "execute_result"
    }
   ],
   "source": [
    "coef_df"
   ]
  },
  {
   "cell_type": "markdown",
   "metadata": {},
   "source": [
    "## Predicting return on investment"
   ]
  },
  {
   "cell_type": "code",
   "execution_count": 117,
   "metadata": {
    "collapsed": false
   },
   "outputs": [
    {
     "data": {
      "text/plain": [
       "Index(['budget', 'duration', 'year', 'genres.action', 'genres.adventure',\n",
       "       'genres.animation', 'genres.biography', 'genres.comedy', 'genres.crime',\n",
       "       'genres.documentary', 'genres.drama', 'genres.family', 'genres.fantasy',\n",
       "       'genres.history', 'genres.horror', 'genres.music', 'genres.musical',\n",
       "       'genres.mystery', 'genres.romance', 'genres.sci-fi', 'genres.sport',\n",
       "       'genres.thriller', 'genres.war', 'genres.western',\n",
       "       'avg_mc_critic_by_opening', 'opening_month', 'opening_day',\n",
       "       'opening_day_of_year', 'name_lenth', 'fl_2', 'fl_3', 'fl_4', 'fl_5',\n",
       "       'fl_a', 'fl_b', 'fl_c', 'fl_d', 'fl_e', 'fl_f', 'fl_g', 'fl_h', 'fl_i',\n",
       "       'fl_j', 'fl_k', 'fl_l', 'fl_m', 'fl_n', 'fl_o', 'fl_p', 'fl_r', 'fl_s',\n",
       "       'fl_t', 'fl_u', 'fl_v', 'fl_w'],\n",
       "      dtype='object')"
      ]
     },
     "execution_count": 117,
     "metadata": {},
     "output_type": "execute_result"
    }
   ],
   "source": [
    "dataset"
   ]
  },
  {
   "cell_type": "code",
   "execution_count": 109,
   "metadata": {
    "collapsed": true
   },
   "outputs": [],
   "source": [
    "X = dataset\n",
    "Y = df['norm_gross'].ix[dataset.index]"
   ]
  },
  {
   "cell_type": "code",
   "execution_count": 110,
   "metadata": {
    "collapsed": true
   },
   "outputs": [],
   "source": [
    "from sklearn.model_selection import train_test_split\n",
    "X_train, X_test, y_train, y_test = train_test_split(X, Y, test_size=0.33, random_state=42)"
   ]
  },
  {
   "cell_type": "code",
   "execution_count": 112,
   "metadata": {
    "collapsed": false
   },
   "outputs": [
    {
     "name": "stderr",
     "output_type": "stream",
     "text": [
      "/Users/shaypalachy/miniconda3/envs/ds/lib/python3.5/site-packages/scipy/linalg/basic.py:884: RuntimeWarning: internal gelsd driver lwork query error, required iwork dimension not returned. This is likely the result of LAPACK bug 0038, fixed in LAPACK 3.2.2 (released July 21, 2010). Falling back to 'gelss' driver.\n",
      "  warnings.warn(mesg, RuntimeWarning)\n"
     ]
    },
    {
     "data": {
      "text/plain": [
       "LinearRegression(copy_X=True, fit_intercept=True, n_jobs=1, normalize=False)"
      ]
     },
     "execution_count": 112,
     "metadata": {},
     "output_type": "execute_result"
    }
   ],
   "source": [
    "regr = linear_model.LinearRegression()\n",
    "regr.fit(X_train, y_train)"
   ]
  },
  {
   "cell_type": "code",
   "execution_count": 115,
   "metadata": {
    "collapsed": true
   },
   "outputs": [],
   "source": [
    "coef_df = pd.DataFrame({'coef': regr.coef_[0]}, index=X_train.columns)\n",
    "coef_df"
   ]
  },
  {
   "cell_type": "code",
   "execution_count": 116,
   "metadata": {
    "collapsed": false
   },
   "outputs": [
    {
     "data": {
      "text/plain": [
       "-0.93319393276110452"
      ]
     },
     "execution_count": 116,
     "metadata": {},
     "output_type": "execute_result"
    }
   ],
   "source": [
    "regr.score(X_test, y_test) "
   ]
  },
  {
   "cell_type": "code",
   "execution_count": null,
   "metadata": {
    "collapsed": true
   },
   "outputs": [],
   "source": []
  }
 ],
 "metadata": {
  "kernelspec": {
   "display_name": "conda [ds]",
   "language": "python",
   "name": "python3"
  },
  "language_info": {
   "codemirror_mode": {
    "name": "ipython",
    "version": 3
   },
   "file_extension": ".py",
   "mimetype": "text/x-python",
   "name": "python",
   "nbconvert_exporter": "python",
   "pygments_lexer": "ipython3",
   "version": "3.5.3"
  }
 },
 "nbformat": 4,
 "nbformat_minor": 2
}
