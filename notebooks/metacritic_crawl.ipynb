{
 "cells": [
  {
   "cell_type": "markdown",
   "metadata": {},
   "source": [
    "# Metacritic Crawler"
   ]
  },
  {
   "cell_type": "code",
   "execution_count": 94,
   "metadata": {
    "collapsed": true
   },
   "outputs": [],
   "source": [
    "import re\n",
    "import urllib\n",
    "import urllib.request\n",
    "from datetime import datetime\n",
    "\n",
    "from bs4 import BeautifulSoup as bs"
   ]
  },
  {
   "cell_type": "markdown",
   "metadata": {},
   "source": [
    "## Search"
   ]
  },
  {
   "cell_type": "code",
   "execution_count": 14,
   "metadata": {
    "collapsed": true
   },
   "outputs": [],
   "source": [
    "movie_name = \"Kingsman: The Secret Service\""
   ]
  },
  {
   "cell_type": "code",
   "execution_count": 15,
   "metadata": {
    "collapsed": true
   },
   "outputs": [],
   "source": [
    "CHARS_TO_REMOVE = \"[\\:\\;,\\.'/\\!]\""
   ]
  },
  {
   "cell_type": "code",
   "execution_count": 16,
   "metadata": {
    "collapsed": true
   },
   "outputs": [],
   "source": [
    "def _parse_name_for_search(movie_name):\n",
    "    parsed = re.sub(CHARS_TO_REMOVE, '', movie_name)\n",
    "    return parsed.replace(' ', '+')"
   ]
  },
  {
   "cell_type": "code",
   "execution_count": 40,
   "metadata": {
    "collapsed": true
   },
   "outputs": [],
   "source": [
    "SEARCH_URL = \"http://www.metacritic.com/search/all/{movie_name}/results?cats%5Bmovie%5D=1&search_type=advanced\"\n",
    "_HEADERS = {'User-Agent': 'Mozilla/5.0'}\n",
    "METACRITIC_URL = \"http://www.metacritic.com\""
   ]
  },
  {
   "cell_type": "code",
   "execution_count": 43,
   "metadata": {
    "collapsed": true
   },
   "outputs": [],
   "source": [
    "def _get_movie_url_by_name(movie_name):\n",
    "    query = SEARCH_URL.format(movie_name=_parse_name_for_search(movie_name))\n",
    "    request = urllib.request.Request(query, headers=_HEADERS)\n",
    "    search_res = bs(urllib.request.urlopen(request), \"html.parser\")\n",
    "    first_res = search_res.find_all(\"li\", {\"class\": \"result first_result\"})[0]\n",
    "    movie_url_suffix = first_res.find_all(\"a\")[0]['href']\n",
    "    return METACRITIC_URL + movie_url_suffix"
   ]
  },
  {
   "cell_type": "code",
   "execution_count": 45,
   "metadata": {
    "collapsed": false
   },
   "outputs": [
    {
     "data": {
      "text/plain": [
       "'http://www.metacritic.com/movie/kingsman-the-secret-service'"
      ]
     },
     "execution_count": 45,
     "metadata": {},
     "output_type": "execute_result"
    }
   ],
   "source": [
    "movie_url = _get_movie_url_by_name(movie_name)\n",
    "movie_url"
   ]
  },
  {
   "cell_type": "markdown",
   "metadata": {},
   "source": [
    "## Critics Reviews Page"
   ]
  },
  {
   "cell_type": "code",
   "execution_count": 38,
   "metadata": {
    "collapsed": true
   },
   "outputs": [],
   "source": [
    "CRITICS_REVIEWS_URL_SUFFIX = \"/critic-reviews\""
   ]
  },
  {
   "cell_type": "code",
   "execution_count": 46,
   "metadata": {
    "collapsed": true
   },
   "outputs": [],
   "source": [
    "critics_url = movie_url + CRITICS_REVIEWS_URL_SUFFIX"
   ]
  },
  {
   "cell_type": "code",
   "execution_count": 47,
   "metadata": {
    "collapsed": true
   },
   "outputs": [],
   "source": [
    "critics_request = urllib.request.Request(critics_url, headers=_HEADERS)\n",
    "critics_page = bs(urllib.request.urlopen(critics_request), \"html.parser\")"
   ]
  },
  {
   "cell_type": "code",
   "execution_count": 48,
   "metadata": {
    "collapsed": true
   },
   "outputs": [],
   "source": [
    "SCORE_CLASSES = [\n",
    "    \"metascore_w larger movie positive\",\n",
    "    \"metascore_w larger movie mixed\",\n",
    "    \"metascore_w larger movie negative\"\n",
    "]"
   ]
  },
  {
   "cell_type": "code",
   "execution_count": 54,
   "metadata": {
    "collapsed": false
   },
   "outputs": [
    {
     "data": {
      "text/plain": [
       "58"
      ]
     },
     "execution_count": 54,
     "metadata": {},
     "output_type": "execute_result"
    }
   ],
   "source": [
    "metascore = int(critics_page.find_all(\"span\", {\"class\": SCORE_CLASSES})[0].contents[0])\n",
    "metascore"
   ]
  },
  {
   "cell_type": "code",
   "execution_count": 117,
   "metadata": {
    "collapsed": false
   },
   "outputs": [],
   "source": [
    "MONTH_SHORTHAND_MAP = {\n",
    "    \"Jan\": \"January\", \"Feb\": \"February\", \"Mar\": \"March\", \"Apr\": \"April\",\n",
    "    \"May\": \"May\", \"Jun\": \"June\", \"Jul\": \"July\", \"Aug\": \"August\",\n",
    "    \"Sep\": \"September\", \"Oct\": \"October\", \"Nov\": \"November\", \"Dec\": \"December\"\n",
    "}"
   ]
  },
  {
   "cell_type": "code",
   "execution_count": 111,
   "metadata": {
    "collapsed": true
   },
   "outputs": [],
   "source": [
    "def _parse_date_str(date_str):\n",
    "    for month in MONTH_SHORTHAND_MAP:\n",
    "        if month in date_str:\n",
    "            return date_str.replace(month, MONTH_SHORTHAND_MAP[month])"
   ]
  },
  {
   "cell_type": "code",
   "execution_count": 137,
   "metadata": {
    "collapsed": true
   },
   "outputs": [],
   "source": [
    "def _get_critic_review_props(review):\n",
    "    review_props = {}\n",
    "    date_str = review.find_all(\"span\", {\"class\": \"date\"})[0].contents[0]\n",
    "    date_str = _parse_date_str(date_str)\n",
    "    review_props['review_date'] = datetime.strptime(date_str, \"%B %d, %Y\").date()\n",
    "    review_props['score'] = int(review.find_all(\"div\", {\"class\": \"metascore_w\"})[0].contents[0])\n",
    "    review_props['summary'] = review.find_all('a', {'class': 'no_hover'})[0].contents[0].strip()\n",
    "    review_props['publication'] = None\n",
    "    review_props['critic'] = None\n",
    "    for link in review.find_all(\"a\"):\n",
    "        if 'publication' in link['href']:\n",
    "            review_props['publication'] = link.contents[0]\n",
    "        if 'critic' in link['href']:\n",
    "            review_props['critic'] = link.contents[0]\n",
    "    return review_props"
   ]
  },
  {
   "cell_type": "code",
   "execution_count": 124,
   "metadata": {
    "collapsed": false
   },
   "outputs": [],
   "source": [
    "reviews = []\n",
    "for review in critics_page.find_all(\"div\", {\"class\": \"review\"}):\n",
    "    try:\n",
    "        reviews.append(_get_critic_review_props(review))\n",
    "    except Exception:\n",
    "        continue"
   ]
  },
  {
   "cell_type": "code",
   "execution_count": 128,
   "metadata": {
    "collapsed": false
   },
   "outputs": [
    {
     "data": {
      "text/plain": [
       "39"
      ]
     },
     "execution_count": 128,
     "metadata": {},
     "output_type": "execute_result"
    }
   ],
   "source": [
    "len(reviews)"
   ]
  },
  {
   "cell_type": "markdown",
   "metadata": {},
   "source": [
    "## User Reviews Page"
   ]
  },
  {
   "cell_type": "code",
   "execution_count": 129,
   "metadata": {
    "collapsed": true
   },
   "outputs": [],
   "source": [
    "USERS_REVIEWS_URL_SUFFIX = \"/user-reviews?page=0\""
   ]
  },
  {
   "cell_type": "code",
   "execution_count": 130,
   "metadata": {
    "collapsed": true
   },
   "outputs": [],
   "source": [
    "users_url = movie_url + USERS_REVIEWS_URL_SUFFIX"
   ]
  },
  {
   "cell_type": "code",
   "execution_count": 131,
   "metadata": {
    "collapsed": true
   },
   "outputs": [],
   "source": [
    "users_request = urllib.request.Request(users_url, headers=_HEADERS)\n",
    "users_page = bs(urllib.request.urlopen(users_request), \"html.parser\")"
   ]
  },
  {
   "cell_type": "code",
   "execution_count": null,
   "metadata": {
    "collapsed": true
   },
   "outputs": [],
   "source": [
    "<div class=\"review pad_top1\">"
   ]
  },
  {
   "cell_type": "code",
   "execution_count": 134,
   "metadata": {
    "collapsed": false
   },
   "outputs": [],
   "source": [
    "review_elements = users_page.find_all(\"div\", {\"class\": \"review\"})"
   ]
  },
  {
   "cell_type": "code",
   "execution_count": 170,
   "metadata": {
    "collapsed": true
   },
   "outputs": [],
   "source": [
    "def _get_user_review_props(review):\n",
    "    review_props = {}\n",
    "    date_str = review.find_all(\"span\", {\"class\": \"date\"})[0].contents[0]\n",
    "    date_str = _parse_date_str(date_str)\n",
    "    review_props['review_date'] = datetime.strptime(date_str, \"%B %d, %Y\").date()\n",
    "    review_props['score'] = int(review.find_all(\"div\", {\"class\": \"metascore_w\"})[0].contents[0])\n",
    "    try:\n",
    "        review_props['text'] = review.find_all('span', {'class': 'blurb blurb_expanded'})[0].contents[0].strip()\n",
    "    except IndexError:\n",
    "        review_props['text'] = review.find_all('div', {'class': 'review_body'})[0].contents[1].contents[0].strip()\n",
    "    review_props['user'] = review.find_all('span', {'class': 'author'})[0].contents[0].contents[0]\n",
    "    review_props['total_reactions'] = int(review.find_all('span', {'class': 'total_count'})[0].contents[0])\n",
    "    review_props['pos_reactions'] = int(review.find_all('span', {'class': 'yes_count'})[0].contents[0])\n",
    "    review_props['neg_reactions'] = review_props['total_reactions'] - review_props['pos_reactions']\n",
    "    return review_props"
   ]
  },
  {
   "cell_type": "code",
   "execution_count": 171,
   "metadata": {
    "collapsed": true
   },
   "outputs": [],
   "source": [
    "user_reviews = []"
   ]
  },
  {
   "cell_type": "code",
   "execution_count": 172,
   "metadata": {
    "collapsed": false
   },
   "outputs": [],
   "source": [
    "for review in review_elements:\n",
    "    try:\n",
    "        user_reviews.append(_get_user_review_props(review))\n",
    "    except Exception:\n",
    "        continue\n",
    "#         print(review)\n",
    "#         print(review.find_all('div', {'class': 'review_body'})[0].contents[1].contents[0].strip())\n",
    "#         break"
   ]
  },
  {
   "cell_type": "code",
   "execution_count": 173,
   "metadata": {
    "collapsed": false
   },
   "outputs": [
    {
     "data": {
      "text/plain": [
       "100"
      ]
     },
     "execution_count": 173,
     "metadata": {},
     "output_type": "execute_result"
    }
   ],
   "source": [
    "len(user_reviews)"
   ]
  },
  {
   "cell_type": "code",
   "execution_count": null,
   "metadata": {
    "collapsed": true
   },
   "outputs": [],
   "source": []
  }
 ],
 "metadata": {
  "anaconda-cloud": {},
  "kernelspec": {
   "display_name": "Python [conda env:ds]",
   "language": "python",
   "name": "conda-env-ds-py"
  },
  "language_info": {
   "codemirror_mode": {
    "name": "ipython",
    "version": 3
   },
   "file_extension": ".py",
   "mimetype": "text/x-python",
   "name": "python",
   "nbconvert_exporter": "python",
   "pygments_lexer": "ipython3",
   "version": "3.5.2"
  }
 },
 "nbformat": 4,
 "nbformat_minor": 1
}
