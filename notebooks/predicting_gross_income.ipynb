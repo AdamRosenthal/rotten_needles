{
 "cells": [
  {
   "cell_type": "markdown",
   "metadata": {
    "deletable": true,
    "editable": true
   },
   "source": [
    "# Predicting Gross Income"
   ]
  },
  {
   "cell_type": "markdown",
   "metadata": {
    "deletable": true,
    "editable": true
   },
   "source": [
    "## Loading the dataset"
   ]
  },
  {
   "cell_type": "code",
   "execution_count": 166,
   "metadata": {
    "collapsed": true,
    "deletable": true,
    "editable": true
   },
   "outputs": [],
   "source": [
    "import os\n",
    "\n",
    "import pandas as pd\n",
    "import sklearn as skl\n",
    "\n",
    "# import holcrawl.shared"
   ]
  },
  {
   "cell_type": "code",
   "execution_count": 40,
   "metadata": {
    "collapsed": true,
    "deletable": true,
    "editable": true
   },
   "outputs": [],
   "source": [
    "# dataset_dir = holcrawl.shared._get_dataset_dir_path()"
   ]
  },
  {
   "cell_type": "code",
   "execution_count": 41,
   "metadata": {
    "collapsed": true,
    "deletable": true,
    "editable": true
   },
   "outputs": [],
   "source": [
    "# dataset_path = os.path.join(dataset_dir, 'movies_dataset.csv')"
   ]
  },
  {
   "cell_type": "code",
   "execution_count": 245,
   "metadata": {
    "collapsed": true,
    "deletable": true,
    "editable": true
   },
   "outputs": [],
   "source": [
    "df = pd.read_csv('movies_dataset.csv')"
   ]
  },
  {
   "cell_type": "code",
   "execution_count": 246,
   "metadata": {
    "collapsed": false
   },
   "outputs": [
    {
     "data": {
      "text/plain": [
       "2009.0    163\n",
       "2011.0    152\n",
       "2012.0    148\n",
       "2014.0    129\n",
       "2013.0    122\n",
       "2010.0    105\n",
       "2015.0     67\n",
       "2008.0     14\n",
       "Name: year, dtype: int64"
      ]
     },
     "execution_count": 246,
     "metadata": {},
     "output_type": "execute_result"
    }
   ],
   "source": [
    "df.year.value_counts()"
   ]
  },
  {
   "cell_type": "code",
   "execution_count": 247,
   "metadata": {
    "collapsed": false,
    "deletable": true,
    "editable": true,
    "scrolled": true
   },
   "outputs": [],
   "source": [
    "# list(df.columns)"
   ]
  },
  {
   "cell_type": "markdown",
   "metadata": {
    "deletable": true,
    "editable": true
   },
   "source": [
    "## Feature Generation"
   ]
  },
  {
   "cell_type": "code",
   "execution_count": 169,
   "metadata": {
    "collapsed": true,
    "deletable": true,
    "editable": true
   },
   "outputs": [],
   "source": [
    "df['name_length'] = df['name'].map(lambda name: len(name))"
   ]
  },
  {
   "cell_type": "code",
   "execution_count": 170,
   "metadata": {
    "collapsed": false,
    "deletable": true,
    "editable": true
   },
   "outputs": [
    {
     "data": {
      "text/plain": [
       "900"
      ]
     },
     "execution_count": 170,
     "metadata": {},
     "output_type": "execute_result"
    }
   ],
   "source": [
    "len(df)"
   ]
  },
  {
   "cell_type": "code",
   "execution_count": 171,
   "metadata": {
    "collapsed": false,
    "deletable": true,
    "editable": true,
    "scrolled": true
   },
   "outputs": [
    {
     "data": {
      "text/plain": [
       "avg_screens                                 0\n",
       "budget                                    149\n",
       "budget_currency                           149\n",
       "closing_date                                0\n",
       "critic_review_count                         0\n",
       "duration                                    0\n",
       "gross_income                                0\n",
       "imdb_user_reviews                           0\n",
       "max_screens                                 0\n",
       "mc_avg_user_score                           0\n",
       "mc_metascore                                0\n",
       "mc_mixed_rating_frequency                   0\n",
       "mc_movie_name                               0\n",
       "mc_negative_rating_frequency                0\n",
       "mc_positive_rating_frequency                0\n",
       "mc_pro_critic_reviews                       0\n",
       "mc_user_reviews                             0\n",
       "metascore                                   3\n",
       "name                                        0\n",
       "num_weekends                                0\n",
       "opening_weekend_date                        0\n",
       "opening_weekend_income                      0\n",
       "opening_weekend_income_currency             0\n",
       "opening_weekend_screens                     0\n",
       "rating                                      0\n",
       "rating_count                                0\n",
       "release_day                               191\n",
       "release_month                             191\n",
       "release_year                              191\n",
       "screens_by_weekend                          0\n",
       "total_screens                               0\n",
       "user_review_count                           0\n",
       "year                                        0\n",
       "avg_rating_per_demo.aged_18-29              0\n",
       "avg_rating_per_demo.aged_30-44              0\n",
       "avg_rating_per_demo.aged_45+                0\n",
       "avg_rating_per_demo.aged_under_18          10\n",
       "avg_rating_per_demo.females                 0\n",
       "avg_rating_per_demo.females_aged_18-29      0\n",
       "avg_rating_per_demo.females_aged_30-44      0\n",
       "avg_rating_per_demo.females_aged_45+        0\n",
       "avg_rating_per_demo.females_under_18       59\n",
       "avg_rating_per_demo.imdb_staff             40\n",
       "avg_rating_per_demo.imdb_users              0\n",
       "avg_rating_per_demo.males                   0\n",
       "avg_rating_per_demo.males_aged_18-29        0\n",
       "avg_rating_per_demo.males_aged_30-44        0\n",
       "avg_rating_per_demo.males_aged_45+          0\n",
       "avg_rating_per_demo.males_under_18         18\n",
       "avg_rating_per_demo.non-us_users            0\n",
       "avg_rating_per_demo.top_1000_voters         0\n",
       "avg_rating_per_demo.us_users                0\n",
       "votes_per_demo.aged_18-29                   0\n",
       "votes_per_demo.aged_30-44                   0\n",
       "votes_per_demo.aged_45+                     0\n",
       "votes_per_demo.aged_under_18               10\n",
       "votes_per_demo.females                      0\n",
       "votes_per_demo.females_aged_18-29           0\n",
       "votes_per_demo.females_aged_30-44           0\n",
       "votes_per_demo.females_aged_45+             0\n",
       "votes_per_demo.females_under_18            59\n",
       "votes_per_demo.imdb_staff                  40\n",
       "votes_per_demo.imdb_users                   0\n",
       "votes_per_demo.males                        0\n",
       "votes_per_demo.males_aged_18-29             0\n",
       "votes_per_demo.males_aged_30-44             0\n",
       "votes_per_demo.males_aged_45+               0\n",
       "votes_per_demo.males_under_18              18\n",
       "votes_per_demo.non-us_users                 0\n",
       "votes_per_demo.top_1000_voters              0\n",
       "votes_per_demo.us_users                     0\n",
       "rating_freq.1                               0\n",
       "rating_freq.10                              0\n",
       "rating_freq.2                               0\n",
       "rating_freq.3                               0\n",
       "rating_freq.4                               0\n",
       "rating_freq.5                               0\n",
       "rating_freq.6                               0\n",
       "rating_freq.7                               0\n",
       "rating_freq.8                               0\n",
       "rating_freq.9                               0\n",
       "genres.action                               0\n",
       "genres.adventure                            0\n",
       "genres.animation                            0\n",
       "genres.biography                            0\n",
       "genres.comedy                               0\n",
       "genres.crime                                0\n",
       "genres.documentary                          0\n",
       "genres.drama                                0\n",
       "genres.family                               0\n",
       "genres.fantasy                              0\n",
       "genres.history                              0\n",
       "genres.horror                               0\n",
       "genres.music                                0\n",
       "genres.musical                              0\n",
       "genres.mystery                              0\n",
       "genres.news                                 0\n",
       "genres.romance                              0\n",
       "genres.sci-fi                               0\n",
       "genres.sport                                0\n",
       "genres.thriller                             0\n",
       "genres.war                                  0\n",
       "genres.western                              0\n",
       "num_mc_critic                               0\n",
       "avg_mc_critic                             235\n",
       "num_mc_critic_by_opening                    0\n",
       "avg_mc_critic_by_opening                  266\n",
       "num_mc_user                                 0\n",
       "avg_mc_user                                16\n",
       "num_mc_user_by_opening                      0\n",
       "avg_mc_user_by_opening                    441\n",
       "num_imdb_user                               0\n",
       "avg_imdb_user                               0\n",
       "num_imdb_user_by_opening                    0\n",
       "avg_imdb_user_by_opening                   45\n",
       "opening_month                               0\n",
       "opening_day                                 0\n",
       "opening_day_of_year                         0\n",
       "norm_gross                                149\n",
       "profit                                    149\n",
       "ROI                                       149\n",
       "name_length                                 0\n",
       "mc_avg_user_score_scaled                    0\n",
       "rating_scaled                               0\n",
       "dtype: int64"
      ]
     },
     "execution_count": 171,
     "metadata": {},
     "output_type": "execute_result"
    }
   ],
   "source": [
    "df.isnull().sum()"
   ]
  },
  {
   "cell_type": "code",
   "execution_count": 172,
   "metadata": {
    "collapsed": false,
    "deletable": true,
    "editable": true
   },
   "outputs": [
    {
     "data": {
      "text/plain": [
       "634"
      ]
     },
     "execution_count": 172,
     "metadata": {},
     "output_type": "execute_result"
    }
   ],
   "source": [
    "len(df[df['avg_mc_critic_by_opening'].notnull()])"
   ]
  },
  {
   "cell_type": "code",
   "execution_count": 174,
   "metadata": {
    "collapsed": true,
    "deletable": true,
    "editable": true
   },
   "outputs": [],
   "source": [
    "BASE_FEAT_TO_KEEP = [\n",
    "    'duration', 'budget', 'opening_month', 'opening_day', 'opening_day_of_year', 'year',\n",
    "    'avg_mc_critic_by_opening', 'num_mc_critic_by_opening', 'name_length', \n",
    "    'num_imdb_user_by_opening', 'avg_imdb_user_by_opening', 'opening_weekend_screens'# 'avg_mc_user_by_opening'\n",
    "]"
   ]
  },
  {
   "cell_type": "code",
   "execution_count": 175,
   "metadata": {
    "collapsed": true,
    "deletable": true,
    "editable": true
   },
   "outputs": [],
   "source": [
    "FEAT_TO_KEEP = BASE_FEAT_TO_KEEP + [col for col in df.columns if 'genres' in col]"
   ]
  },
  {
   "cell_type": "code",
   "execution_count": 176,
   "metadata": {
    "collapsed": true,
    "deletable": true,
    "editable": true
   },
   "outputs": [],
   "source": [
    "features = df.drop([col for col in df.columns if col not in BASE_FEAT_TO_KEEP], axis=1)"
   ]
  },
  {
   "cell_type": "code",
   "execution_count": 177,
   "metadata": {
    "collapsed": false,
    "deletable": true,
    "editable": true,
    "scrolled": true
   },
   "outputs": [],
   "source": [
    "dataset = df.drop([col for col in df.columns if col not in FEAT_TO_KEEP], axis=1)"
   ]
  },
  {
   "cell_type": "code",
   "execution_count": 180,
   "metadata": {
    "collapsed": false,
    "deletable": true,
    "editable": true
   },
   "outputs": [],
   "source": [
    "dataset = dataset.dropna(axis=0)"
   ]
  },
  {
   "cell_type": "code",
   "execution_count": 181,
   "metadata": {
    "collapsed": false,
    "deletable": true,
    "editable": true
   },
   "outputs": [
    {
     "data": {
      "text/plain": [
       "518"
      ]
     },
     "execution_count": 181,
     "metadata": {},
     "output_type": "execute_result"
    }
   ],
   "source": [
    "len(dataset)"
   ]
  },
  {
   "cell_type": "code",
   "execution_count": 186,
   "metadata": {
    "collapsed": false,
    "deletable": true,
    "editable": true
   },
   "outputs": [
    {
     "data": {
      "text/plain": [
       "Index(['budget', 'duration', 'opening_weekend_screens', 'year',\n",
       "       'genres.action', 'genres.adventure', 'genres.animation',\n",
       "       'genres.biography', 'genres.comedy', 'genres.crime',\n",
       "       'genres.documentary', 'genres.drama', 'genres.family', 'genres.fantasy',\n",
       "       'genres.history', 'genres.horror', 'genres.music', 'genres.musical',\n",
       "       'genres.mystery', 'genres.news', 'genres.romance', 'genres.sci-fi',\n",
       "       'genres.sport', 'genres.thriller', 'genres.war', 'genres.western',\n",
       "       'num_mc_critic_by_opening', 'avg_mc_critic_by_opening',\n",
       "       'num_imdb_user_by_opening', 'avg_imdb_user_by_opening', 'opening_month',\n",
       "       'opening_day', 'opening_day_of_year', 'name_length'],\n",
       "      dtype='object')"
      ]
     },
     "execution_count": 186,
     "metadata": {},
     "output_type": "execute_result"
    }
   ],
   "source": [
    "dataset.columns"
   ]
  },
  {
   "cell_type": "code",
   "execution_count": 187,
   "metadata": {
    "collapsed": false,
    "deletable": true,
    "editable": true
   },
   "outputs": [
    {
     "data": {
      "text/html": [
       "<div>\n",
       "<table border=\"1\" class=\"dataframe\">\n",
       "  <thead>\n",
       "    <tr style=\"text-align: right;\">\n",
       "      <th></th>\n",
       "      <th>budget</th>\n",
       "      <th>duration</th>\n",
       "      <th>opening_weekend_screens</th>\n",
       "      <th>year</th>\n",
       "      <th>genres.action</th>\n",
       "      <th>genres.adventure</th>\n",
       "      <th>genres.animation</th>\n",
       "      <th>genres.biography</th>\n",
       "      <th>genres.comedy</th>\n",
       "      <th>genres.crime</th>\n",
       "      <th>genres.documentary</th>\n",
       "      <th>genres.drama</th>\n",
       "      <th>genres.family</th>\n",
       "      <th>genres.fantasy</th>\n",
       "      <th>genres.history</th>\n",
       "      <th>genres.horror</th>\n",
       "      <th>genres.music</th>\n",
       "      <th>genres.musical</th>\n",
       "      <th>genres.mystery</th>\n",
       "      <th>genres.news</th>\n",
       "      <th>genres.romance</th>\n",
       "      <th>genres.sci-fi</th>\n",
       "      <th>genres.sport</th>\n",
       "      <th>genres.thriller</th>\n",
       "      <th>genres.war</th>\n",
       "      <th>genres.western</th>\n",
       "      <th>num_mc_critic_by_opening</th>\n",
       "      <th>avg_mc_critic_by_opening</th>\n",
       "      <th>num_imdb_user_by_opening</th>\n",
       "      <th>avg_imdb_user_by_opening</th>\n",
       "      <th>opening_month</th>\n",
       "      <th>opening_day</th>\n",
       "      <th>opening_day_of_year</th>\n",
       "      <th>name_length</th>\n",
       "    </tr>\n",
       "  </thead>\n",
       "  <tbody>\n",
       "    <tr>\n",
       "      <th>2</th>\n",
       "      <td>4000000.0</td>\n",
       "      <td>93.0</td>\n",
       "      <td>45.0</td>\n",
       "      <td>2014.0</td>\n",
       "      <td>0</td>\n",
       "      <td>0</td>\n",
       "      <td>0</td>\n",
       "      <td>0</td>\n",
       "      <td>0</td>\n",
       "      <td>0</td>\n",
       "      <td>0</td>\n",
       "      <td>0</td>\n",
       "      <td>0</td>\n",
       "      <td>0</td>\n",
       "      <td>0</td>\n",
       "      <td>1</td>\n",
       "      <td>0</td>\n",
       "      <td>0</td>\n",
       "      <td>0</td>\n",
       "      <td>0</td>\n",
       "      <td>0</td>\n",
       "      <td>0</td>\n",
       "      <td>0</td>\n",
       "      <td>1</td>\n",
       "      <td>0</td>\n",
       "      <td>0</td>\n",
       "      <td>10</td>\n",
       "      <td>49.700000</td>\n",
       "      <td>15</td>\n",
       "      <td>7.000000</td>\n",
       "      <td>4</td>\n",
       "      <td>18</td>\n",
       "      <td>108</td>\n",
       "      <td>7</td>\n",
       "    </tr>\n",
       "    <tr>\n",
       "      <th>5</th>\n",
       "      <td>42000000.0</td>\n",
       "      <td>110.0</td>\n",
       "      <td>3121.0</td>\n",
       "      <td>2012.0</td>\n",
       "      <td>1</td>\n",
       "      <td>0</td>\n",
       "      <td>0</td>\n",
       "      <td>0</td>\n",
       "      <td>1</td>\n",
       "      <td>1</td>\n",
       "      <td>0</td>\n",
       "      <td>0</td>\n",
       "      <td>0</td>\n",
       "      <td>0</td>\n",
       "      <td>0</td>\n",
       "      <td>0</td>\n",
       "      <td>0</td>\n",
       "      <td>0</td>\n",
       "      <td>0</td>\n",
       "      <td>0</td>\n",
       "      <td>0</td>\n",
       "      <td>0</td>\n",
       "      <td>0</td>\n",
       "      <td>0</td>\n",
       "      <td>0</td>\n",
       "      <td>0</td>\n",
       "      <td>39</td>\n",
       "      <td>72.179487</td>\n",
       "      <td>23</td>\n",
       "      <td>7.000000</td>\n",
       "      <td>3</td>\n",
       "      <td>16</td>\n",
       "      <td>76</td>\n",
       "      <td>14</td>\n",
       "    </tr>\n",
       "    <tr>\n",
       "      <th>6</th>\n",
       "      <td>50000000.0</td>\n",
       "      <td>112.0</td>\n",
       "      <td>3306.0</td>\n",
       "      <td>2014.0</td>\n",
       "      <td>1</td>\n",
       "      <td>0</td>\n",
       "      <td>0</td>\n",
       "      <td>0</td>\n",
       "      <td>1</td>\n",
       "      <td>1</td>\n",
       "      <td>0</td>\n",
       "      <td>0</td>\n",
       "      <td>0</td>\n",
       "      <td>0</td>\n",
       "      <td>0</td>\n",
       "      <td>0</td>\n",
       "      <td>0</td>\n",
       "      <td>0</td>\n",
       "      <td>0</td>\n",
       "      <td>0</td>\n",
       "      <td>0</td>\n",
       "      <td>0</td>\n",
       "      <td>0</td>\n",
       "      <td>0</td>\n",
       "      <td>0</td>\n",
       "      <td>0</td>\n",
       "      <td>45</td>\n",
       "      <td>72.844444</td>\n",
       "      <td>31</td>\n",
       "      <td>8.290323</td>\n",
       "      <td>6</td>\n",
       "      <td>13</td>\n",
       "      <td>164</td>\n",
       "      <td>14</td>\n",
       "    </tr>\n",
       "  </tbody>\n",
       "</table>\n",
       "</div>"
      ],
      "text/plain": [
       "       budget  duration  opening_weekend_screens    year  genres.action  \\\n",
       "2   4000000.0      93.0                     45.0  2014.0              0   \n",
       "5  42000000.0     110.0                   3121.0  2012.0              1   \n",
       "6  50000000.0     112.0                   3306.0  2014.0              1   \n",
       "\n",
       "   genres.adventure  genres.animation  genres.biography  genres.comedy  \\\n",
       "2                 0                 0                 0              0   \n",
       "5                 0                 0                 0              1   \n",
       "6                 0                 0                 0              1   \n",
       "\n",
       "   genres.crime  genres.documentary  genres.drama  genres.family  \\\n",
       "2             0                   0             0              0   \n",
       "5             1                   0             0              0   \n",
       "6             1                   0             0              0   \n",
       "\n",
       "   genres.fantasy  genres.history  genres.horror  genres.music  \\\n",
       "2               0               0              1             0   \n",
       "5               0               0              0             0   \n",
       "6               0               0              0             0   \n",
       "\n",
       "   genres.musical  genres.mystery  genres.news  genres.romance  genres.sci-fi  \\\n",
       "2               0               0            0               0              0   \n",
       "5               0               0            0               0              0   \n",
       "6               0               0            0               0              0   \n",
       "\n",
       "   genres.sport  genres.thriller  genres.war  genres.western  \\\n",
       "2             0                1           0               0   \n",
       "5             0                0           0               0   \n",
       "6             0                0           0               0   \n",
       "\n",
       "   num_mc_critic_by_opening  avg_mc_critic_by_opening  \\\n",
       "2                        10                 49.700000   \n",
       "5                        39                 72.179487   \n",
       "6                        45                 72.844444   \n",
       "\n",
       "   num_imdb_user_by_opening  avg_imdb_user_by_opening  opening_month  \\\n",
       "2                        15                  7.000000              4   \n",
       "5                        23                  7.000000              3   \n",
       "6                        31                  8.290323              6   \n",
       "\n",
       "   opening_day  opening_day_of_year  name_length  \n",
       "2           18                  108            7  \n",
       "5           16                   76           14  \n",
       "6           13                  164           14  "
      ]
     },
     "execution_count": 187,
     "metadata": {},
     "output_type": "execute_result"
    }
   ],
   "source": [
    "pd.options.display.max_columns = 999\n",
    "dataset.iloc[0:3]"
   ]
  },
  {
   "cell_type": "markdown",
   "metadata": {},
   "source": [
    "## Predicting Gross Income"
   ]
  },
  {
   "cell_type": "code",
   "execution_count": 276,
   "metadata": {
    "collapsed": true,
    "deletable": true,
    "editable": true
   },
   "outputs": [],
   "source": [
    "from sklearn import linear_model\n",
    "from sklearn.model_selection import train_test_split"
   ]
  },
  {
   "cell_type": "code",
   "execution_count": 277,
   "metadata": {
    "collapsed": false,
    "deletable": true,
    "editable": true
   },
   "outputs": [],
   "source": [
    "X = dataset\n",
    "# Y = df['ROI'].ix[dataset.index]\n",
    "Y = df['gross_income'].ix[dataset.index]"
   ]
  },
  {
   "cell_type": "code",
   "execution_count": 278,
   "metadata": {
    "collapsed": false,
    "deletable": true,
    "editable": true
   },
   "outputs": [],
   "source": [
    "from sklearn.model_selection import train_test_split\n",
    "X_train, X_test, y_train, y_test = train_test_split(X, Y, test_size=0.30)"
   ]
  },
  {
   "cell_type": "markdown",
   "metadata": {
    "deletable": true,
    "editable": true
   },
   "source": [
    "### Feature selection with Mutual Information Regression"
   ]
  },
  {
   "cell_type": "code",
   "execution_count": 279,
   "metadata": {
    "collapsed": true,
    "deletable": true,
    "editable": true
   },
   "outputs": [],
   "source": [
    "FEATURES_TO_SELECT = 10"
   ]
  },
  {
   "cell_type": "code",
   "execution_count": 280,
   "metadata": {
    "collapsed": false,
    "deletable": true,
    "editable": true,
    "scrolled": true
   },
   "outputs": [],
   "source": [
    "from sklearn.feature_selection import f_regression, mutual_info_regression\n",
    "mi = mutual_info_regression(X_train, y_train)"
   ]
  },
  {
   "cell_type": "code",
   "execution_count": 281,
   "metadata": {
    "collapsed": false,
    "deletable": true,
    "editable": true
   },
   "outputs": [],
   "source": [
    "mi_df = pd.DataFrame([mi]).T\n",
    "mi_df.index = X_train.columns\n",
    "mi_df.columns = ['MI']"
   ]
  },
  {
   "cell_type": "code",
   "execution_count": 282,
   "metadata": {
    "collapsed": false,
    "deletable": true,
    "editable": true,
    "scrolled": true
   },
   "outputs": [
    {
     "name": "stderr",
     "output_type": "stream",
     "text": [
      "/Users/shaypalachy/miniconda3/envs/ds/lib/python3.5/site-packages/ipykernel/__main__.py:1: FutureWarning: sort(columns=....) is deprecated, use sort_values(by=.....)\n",
      "  if __name__ == '__main__':\n"
     ]
    },
    {
     "data": {
      "text/html": [
       "<div>\n",
       "<table border=\"1\" class=\"dataframe\">\n",
       "  <thead>\n",
       "    <tr style=\"text-align: right;\">\n",
       "      <th></th>\n",
       "      <th>MI</th>\n",
       "    </tr>\n",
       "  </thead>\n",
       "  <tbody>\n",
       "    <tr>\n",
       "      <th>opening_weekend_screens</th>\n",
       "      <td>5.257127e-01</td>\n",
       "    </tr>\n",
       "    <tr>\n",
       "      <th>budget</th>\n",
       "      <td>3.586542e-01</td>\n",
       "    </tr>\n",
       "    <tr>\n",
       "      <th>num_mc_critic_by_opening</th>\n",
       "      <td>2.638703e-01</td>\n",
       "    </tr>\n",
       "    <tr>\n",
       "      <th>num_imdb_user_by_opening</th>\n",
       "      <td>2.006672e-01</td>\n",
       "    </tr>\n",
       "    <tr>\n",
       "      <th>avg_mc_critic_by_opening</th>\n",
       "      <td>1.538417e-01</td>\n",
       "    </tr>\n",
       "    <tr>\n",
       "      <th>genres.adventure</th>\n",
       "      <td>9.011780e-02</td>\n",
       "    </tr>\n",
       "    <tr>\n",
       "      <th>opening_month</th>\n",
       "      <td>5.058676e-02</td>\n",
       "    </tr>\n",
       "    <tr>\n",
       "      <th>duration</th>\n",
       "      <td>4.018463e-02</td>\n",
       "    </tr>\n",
       "    <tr>\n",
       "      <th>opening_day_of_year</th>\n",
       "      <td>4.018256e-02</td>\n",
       "    </tr>\n",
       "    <tr>\n",
       "      <th>name_length</th>\n",
       "      <td>3.968138e-02</td>\n",
       "    </tr>\n",
       "    <tr>\n",
       "      <th>genres.animation</th>\n",
       "      <td>3.829288e-02</td>\n",
       "    </tr>\n",
       "    <tr>\n",
       "      <th>genres.family</th>\n",
       "      <td>2.957691e-02</td>\n",
       "    </tr>\n",
       "    <tr>\n",
       "      <th>genres.drama</th>\n",
       "      <td>2.613771e-02</td>\n",
       "    </tr>\n",
       "    <tr>\n",
       "      <th>genres.horror</th>\n",
       "      <td>2.348821e-02</td>\n",
       "    </tr>\n",
       "    <tr>\n",
       "      <th>genres.fantasy</th>\n",
       "      <td>1.613176e-02</td>\n",
       "    </tr>\n",
       "    <tr>\n",
       "      <th>genres.music</th>\n",
       "      <td>1.107048e-02</td>\n",
       "    </tr>\n",
       "    <tr>\n",
       "      <th>genres.crime</th>\n",
       "      <td>7.022980e-03</td>\n",
       "    </tr>\n",
       "    <tr>\n",
       "      <th>genres.documentary</th>\n",
       "      <td>5.541445e-03</td>\n",
       "    </tr>\n",
       "    <tr>\n",
       "      <th>genres.sport</th>\n",
       "      <td>4.538791e-03</td>\n",
       "    </tr>\n",
       "    <tr>\n",
       "      <th>genres.mystery</th>\n",
       "      <td>3.025178e-03</td>\n",
       "    </tr>\n",
       "    <tr>\n",
       "      <th>genres.war</th>\n",
       "      <td>9.131581e-04</td>\n",
       "    </tr>\n",
       "    <tr>\n",
       "      <th>genres.musical</th>\n",
       "      <td>2.886580e-15</td>\n",
       "    </tr>\n",
       "    <tr>\n",
       "      <th>genres.news</th>\n",
       "      <td>1.887379e-15</td>\n",
       "    </tr>\n",
       "    <tr>\n",
       "      <th>genres.romance</th>\n",
       "      <td>0.000000e+00</td>\n",
       "    </tr>\n",
       "    <tr>\n",
       "      <th>genres.sci-fi</th>\n",
       "      <td>0.000000e+00</td>\n",
       "    </tr>\n",
       "    <tr>\n",
       "      <th>genres.thriller</th>\n",
       "      <td>0.000000e+00</td>\n",
       "    </tr>\n",
       "    <tr>\n",
       "      <th>genres.western</th>\n",
       "      <td>0.000000e+00</td>\n",
       "    </tr>\n",
       "    <tr>\n",
       "      <th>genres.comedy</th>\n",
       "      <td>0.000000e+00</td>\n",
       "    </tr>\n",
       "    <tr>\n",
       "      <th>genres.biography</th>\n",
       "      <td>0.000000e+00</td>\n",
       "    </tr>\n",
       "    <tr>\n",
       "      <th>genres.history</th>\n",
       "      <td>0.000000e+00</td>\n",
       "    </tr>\n",
       "    <tr>\n",
       "      <th>avg_imdb_user_by_opening</th>\n",
       "      <td>0.000000e+00</td>\n",
       "    </tr>\n",
       "    <tr>\n",
       "      <th>genres.action</th>\n",
       "      <td>0.000000e+00</td>\n",
       "    </tr>\n",
       "    <tr>\n",
       "      <th>opening_day</th>\n",
       "      <td>0.000000e+00</td>\n",
       "    </tr>\n",
       "    <tr>\n",
       "      <th>year</th>\n",
       "      <td>0.000000e+00</td>\n",
       "    </tr>\n",
       "  </tbody>\n",
       "</table>\n",
       "</div>"
      ],
      "text/plain": [
       "                                    MI\n",
       "opening_weekend_screens   5.257127e-01\n",
       "budget                    3.586542e-01\n",
       "num_mc_critic_by_opening  2.638703e-01\n",
       "num_imdb_user_by_opening  2.006672e-01\n",
       "avg_mc_critic_by_opening  1.538417e-01\n",
       "genres.adventure          9.011780e-02\n",
       "opening_month             5.058676e-02\n",
       "duration                  4.018463e-02\n",
       "opening_day_of_year       4.018256e-02\n",
       "name_length               3.968138e-02\n",
       "genres.animation          3.829288e-02\n",
       "genres.family             2.957691e-02\n",
       "genres.drama              2.613771e-02\n",
       "genres.horror             2.348821e-02\n",
       "genres.fantasy            1.613176e-02\n",
       "genres.music              1.107048e-02\n",
       "genres.crime              7.022980e-03\n",
       "genres.documentary        5.541445e-03\n",
       "genres.sport              4.538791e-03\n",
       "genres.mystery            3.025178e-03\n",
       "genres.war                9.131581e-04\n",
       "genres.musical            2.886580e-15\n",
       "genres.news               1.887379e-15\n",
       "genres.romance            0.000000e+00\n",
       "genres.sci-fi             0.000000e+00\n",
       "genres.thriller           0.000000e+00\n",
       "genres.western            0.000000e+00\n",
       "genres.comedy             0.000000e+00\n",
       "genres.biography          0.000000e+00\n",
       "genres.history            0.000000e+00\n",
       "avg_imdb_user_by_opening  0.000000e+00\n",
       "genres.action             0.000000e+00\n",
       "opening_day               0.000000e+00\n",
       "year                      0.000000e+00"
      ]
     },
     "execution_count": 282,
     "metadata": {},
     "output_type": "execute_result"
    }
   ],
   "source": [
    "mi_df = mi_df.sort('MI', ascending=False)\n",
    "mi_df"
   ]
  },
  {
   "cell_type": "code",
   "execution_count": 283,
   "metadata": {
    "collapsed": false,
    "deletable": true,
    "editable": true
   },
   "outputs": [],
   "source": [
    "support = mi_df.index[0:FEATURES_TO_SELECT]"
   ]
  },
  {
   "cell_type": "markdown",
   "metadata": {
    "deletable": true,
    "editable": true
   },
   "source": [
    "### Linear Regression"
   ]
  },
  {
   "cell_type": "code",
   "execution_count": 284,
   "metadata": {
    "collapsed": false,
    "deletable": true,
    "editable": true
   },
   "outputs": [],
   "source": [
    "selected_X_train = X_train.drop([col for col in X_train if col not in support], axis=1)"
   ]
  },
  {
   "cell_type": "code",
   "execution_count": 285,
   "metadata": {
    "collapsed": true,
    "deletable": true,
    "editable": true
   },
   "outputs": [],
   "source": [
    "selected_X_test = X_test.drop([col for col in X_test if col not in support], axis=1)"
   ]
  },
  {
   "cell_type": "code",
   "execution_count": 286,
   "metadata": {
    "collapsed": false,
    "deletable": true,
    "editable": true
   },
   "outputs": [],
   "source": [
    "regr = linear_model.LinearRegression(fit_intercept=True, normalize=True)\n",
    "regr = regr.fit(selected_X_train, y_train)"
   ]
  },
  {
   "cell_type": "code",
   "execution_count": 287,
   "metadata": {
    "collapsed": false,
    "deletable": true,
    "editable": true,
    "scrolled": true
   },
   "outputs": [
    {
     "name": "stderr",
     "output_type": "stream",
     "text": [
      "/Users/shaypalachy/miniconda3/envs/ds/lib/python3.5/site-packages/ipykernel/__main__.py:2: FutureWarning: sort(columns=....) is deprecated, use sort_values(by=.....)\n",
      "  from ipykernel import kernelapp as app\n"
     ]
    },
    {
     "data": {
      "text/html": [
       "<div>\n",
       "<table border=\"1\" class=\"dataframe\">\n",
       "  <thead>\n",
       "    <tr style=\"text-align: right;\">\n",
       "      <th></th>\n",
       "      <th>coef</th>\n",
       "    </tr>\n",
       "  </thead>\n",
       "  <tbody>\n",
       "    <tr>\n",
       "      <th>genres.adventure</th>\n",
       "      <td>9.753665e+06</td>\n",
       "    </tr>\n",
       "    <tr>\n",
       "      <th>opening_month</th>\n",
       "      <td>6.106549e+06</td>\n",
       "    </tr>\n",
       "    <tr>\n",
       "      <th>avg_mc_critic_by_opening</th>\n",
       "      <td>1.409603e+06</td>\n",
       "    </tr>\n",
       "    <tr>\n",
       "      <th>name_length</th>\n",
       "      <td>5.972524e+05</td>\n",
       "    </tr>\n",
       "    <tr>\n",
       "      <th>num_imdb_user_by_opening</th>\n",
       "      <td>4.134863e+05</td>\n",
       "    </tr>\n",
       "    <tr>\n",
       "      <th>num_mc_critic_by_opening</th>\n",
       "      <td>2.234796e+05</td>\n",
       "    </tr>\n",
       "    <tr>\n",
       "      <th>opening_weekend_screens</th>\n",
       "      <td>1.645777e+04</td>\n",
       "    </tr>\n",
       "    <tr>\n",
       "      <th>budget</th>\n",
       "      <td>5.119382e-01</td>\n",
       "    </tr>\n",
       "    <tr>\n",
       "      <th>duration</th>\n",
       "      <td>-5.560414e+04</td>\n",
       "    </tr>\n",
       "    <tr>\n",
       "      <th>opening_day_of_year</th>\n",
       "      <td>-2.007545e+05</td>\n",
       "    </tr>\n",
       "  </tbody>\n",
       "</table>\n",
       "</div>"
      ],
      "text/plain": [
       "                                  coef\n",
       "genres.adventure          9.753665e+06\n",
       "opening_month             6.106549e+06\n",
       "avg_mc_critic_by_opening  1.409603e+06\n",
       "name_length               5.972524e+05\n",
       "num_imdb_user_by_opening  4.134863e+05\n",
       "num_mc_critic_by_opening  2.234796e+05\n",
       "opening_weekend_screens   1.645777e+04\n",
       "budget                    5.119382e-01\n",
       "duration                 -5.560414e+04\n",
       "opening_day_of_year      -2.007545e+05"
      ]
     },
     "execution_count": 287,
     "metadata": {},
     "output_type": "execute_result"
    }
   ],
   "source": [
    "coef_df = pd.DataFrame({'coef': regr.coef_}, index=selected_X_train.columns)\n",
    "coef_df.sort('coef', ascending=False)"
   ]
  },
  {
   "cell_type": "code",
   "execution_count": 288,
   "metadata": {
    "collapsed": false,
    "deletable": true,
    "editable": true
   },
   "outputs": [],
   "source": [
    "y_predict = regr.predict(selected_X_test)"
   ]
  },
  {
   "cell_type": "code",
   "execution_count": 289,
   "metadata": {
    "collapsed": false,
    "deletable": true,
    "editable": true
   },
   "outputs": [
    {
     "data": {
      "text/plain": [
       "0.66185796843055644"
      ]
     },
     "execution_count": 289,
     "metadata": {},
     "output_type": "execute_result"
    }
   ],
   "source": [
    "regr.score(selected_X_test, y_test) "
   ]
  },
  {
   "cell_type": "code",
   "execution_count": 290,
   "metadata": {
    "collapsed": false,
    "deletable": true,
    "editable": true,
    "scrolled": false
   },
   "outputs": [
    {
     "data": {
      "image/png": "[encoded data removed]",
      "text/plain": [
       "<matplotlib.figure.Figure at 0x113677160>"
      ]
     },
     "metadata": {},
     "output_type": "display_data"
    }
   ],
   "source": [
    "plt.figure(figsize=(12,9))\n",
    "plt.scatter(y_test / 1000000, y_predict / 1000000)\n",
    "plt.xlabel('True Gross Income')\n",
    "plt.ylabel('Predicted Gross Income');"
   ]
  },
  {
   "cell_type": "markdown",
   "metadata": {
    "collapsed": true,
    "deletable": true,
    "editable": true
   },
   "source": [
    "## With opening weekend income"
   ]
  },
  {
   "cell_type": "code",
   "execution_count": 256,
   "metadata": {
    "collapsed": false,
    "deletable": true,
    "editable": true
   },
   "outputs": [
    {
     "name": "stderr",
     "output_type": "stream",
     "text": [
      "/Users/shaypalachy/miniconda3/envs/ds/lib/python3.5/site-packages/ipykernel/__main__.py:2: SettingWithCopyWarning: \n",
      "A value is trying to be set on a copy of a slice from a DataFrame.\n",
      "Try using .loc[row_indexer,col_indexer] = value instead\n",
      "\n",
      "See the caveats in the documentation: http://pandas.pydata.org/pandas-docs/stable/indexing.html#indexing-view-versus-copy\n",
      "  from ipykernel import kernelapp as app\n",
      "/Users/shaypalachy/miniconda3/envs/ds/lib/python3.5/site-packages/ipykernel/__main__.py:4: SettingWithCopyWarning: \n",
      "A value is trying to be set on a copy of a slice from a DataFrame.\n",
      "Try using .loc[row_indexer,col_indexer] = value instead\n",
      "\n",
      "See the caveats in the documentation: http://pandas.pydata.org/pandas-docs/stable/indexing.html#indexing-view-versus-copy\n"
     ]
    }
   ],
   "source": [
    "X_train_weekend_inc = X_train\n",
    "X_train_weekend_inc['opening_weekend_income'] = df.ix[X_train.index]['opening_weekend_income']\n",
    "X_test_weekend_inc = X_test\n",
    "X_test_weekend_inc['opening_weekend_income'] = df.ix[X_test.index]['opening_weekend_income']"
   ]
  },
  {
   "cell_type": "code",
   "execution_count": 257,
   "metadata": {
    "collapsed": false,
    "deletable": true,
    "editable": true
   },
   "outputs": [],
   "source": [
    "mi = mutual_info_regression(X_train_weekend_inc, y_train)"
   ]
  },
  {
   "cell_type": "code",
   "execution_count": 258,
   "metadata": {
    "collapsed": true,
    "deletable": true,
    "editable": true
   },
   "outputs": [],
   "source": [
    "mi_df = pd.DataFrame([mi]).T\n",
    "mi_df.index = X_train_weekend_inc.columns\n",
    "mi_df.columns = ['MI']"
   ]
  },
  {
   "cell_type": "code",
   "execution_count": 259,
   "metadata": {
    "collapsed": false,
    "deletable": true,
    "editable": true,
    "scrolled": false
   },
   "outputs": [
    {
     "name": "stderr",
     "output_type": "stream",
     "text": [
      "/Users/shaypalachy/miniconda3/envs/ds/lib/python3.5/site-packages/ipykernel/__main__.py:1: FutureWarning: sort(columns=....) is deprecated, use sort_values(by=.....)\n",
      "  if __name__ == '__main__':\n"
     ]
    },
    {
     "data": {
      "text/html": [
       "<div>\n",
       "<table border=\"1\" class=\"dataframe\">\n",
       "  <thead>\n",
       "    <tr style=\"text-align: right;\">\n",
       "      <th></th>\n",
       "      <th>MI</th>\n",
       "    </tr>\n",
       "  </thead>\n",
       "  <tbody>\n",
       "    <tr>\n",
       "      <th>opening_weekend_income</th>\n",
       "      <td>1.229179e+00</td>\n",
       "    </tr>\n",
       "    <tr>\n",
       "      <th>opening_weekend_screens</th>\n",
       "      <td>6.176942e-01</td>\n",
       "    </tr>\n",
       "    <tr>\n",
       "      <th>budget</th>\n",
       "      <td>4.129944e-01</td>\n",
       "    </tr>\n",
       "    <tr>\n",
       "      <th>num_mc_critic_by_opening</th>\n",
       "      <td>2.830909e-01</td>\n",
       "    </tr>\n",
       "    <tr>\n",
       "      <th>num_imdb_user_by_opening</th>\n",
       "      <td>1.497448e-01</td>\n",
       "    </tr>\n",
       "    <tr>\n",
       "      <th>genres.adventure</th>\n",
       "      <td>1.076145e-01</td>\n",
       "    </tr>\n",
       "    <tr>\n",
       "      <th>opening_day_of_year</th>\n",
       "      <td>9.753823e-02</td>\n",
       "    </tr>\n",
       "    <tr>\n",
       "      <th>avg_mc_critic_by_opening</th>\n",
       "      <td>7.608544e-02</td>\n",
       "    </tr>\n",
       "    <tr>\n",
       "      <th>duration</th>\n",
       "      <td>6.042927e-02</td>\n",
       "    </tr>\n",
       "    <tr>\n",
       "      <th>genres.animation</th>\n",
       "      <td>5.459138e-02</td>\n",
       "    </tr>\n",
       "    <tr>\n",
       "      <th>genres.drama</th>\n",
       "      <td>4.253039e-02</td>\n",
       "    </tr>\n",
       "    <tr>\n",
       "      <th>genres.thriller</th>\n",
       "      <td>3.863557e-02</td>\n",
       "    </tr>\n",
       "    <tr>\n",
       "      <th>name_length</th>\n",
       "      <td>3.571095e-02</td>\n",
       "    </tr>\n",
       "    <tr>\n",
       "      <th>year</th>\n",
       "      <td>3.381337e-02</td>\n",
       "    </tr>\n",
       "    <tr>\n",
       "      <th>avg_imdb_user_by_opening</th>\n",
       "      <td>1.938500e-02</td>\n",
       "    </tr>\n",
       "    <tr>\n",
       "      <th>genres.sci-fi</th>\n",
       "      <td>1.696322e-02</td>\n",
       "    </tr>\n",
       "    <tr>\n",
       "      <th>genres.crime</th>\n",
       "      <td>1.560913e-02</td>\n",
       "    </tr>\n",
       "    <tr>\n",
       "      <th>opening_month</th>\n",
       "      <td>1.326453e-02</td>\n",
       "    </tr>\n",
       "    <tr>\n",
       "      <th>genres.comedy</th>\n",
       "      <td>8.335426e-03</td>\n",
       "    </tr>\n",
       "    <tr>\n",
       "      <th>genres.romance</th>\n",
       "      <td>8.279536e-03</td>\n",
       "    </tr>\n",
       "    <tr>\n",
       "      <th>genres.family</th>\n",
       "      <td>8.081836e-03</td>\n",
       "    </tr>\n",
       "    <tr>\n",
       "      <th>genres.horror</th>\n",
       "      <td>7.834359e-03</td>\n",
       "    </tr>\n",
       "    <tr>\n",
       "      <th>genres.sport</th>\n",
       "      <td>5.239986e-03</td>\n",
       "    </tr>\n",
       "    <tr>\n",
       "      <th>genres.war</th>\n",
       "      <td>3.660264e-03</td>\n",
       "    </tr>\n",
       "    <tr>\n",
       "      <th>genres.fantasy</th>\n",
       "      <td>2.390522e-03</td>\n",
       "    </tr>\n",
       "    <tr>\n",
       "      <th>genres.biography</th>\n",
       "      <td>1.910034e-03</td>\n",
       "    </tr>\n",
       "    <tr>\n",
       "      <th>genres.action</th>\n",
       "      <td>1.250647e-03</td>\n",
       "    </tr>\n",
       "    <tr>\n",
       "      <th>genres.documentary</th>\n",
       "      <td>1.550195e-04</td>\n",
       "    </tr>\n",
       "    <tr>\n",
       "      <th>genres.news</th>\n",
       "      <td>1.887379e-15</td>\n",
       "    </tr>\n",
       "    <tr>\n",
       "      <th>genres.musical</th>\n",
       "      <td>1.887379e-15</td>\n",
       "    </tr>\n",
       "    <tr>\n",
       "      <th>genres.western</th>\n",
       "      <td>0.000000e+00</td>\n",
       "    </tr>\n",
       "    <tr>\n",
       "      <th>genres.mystery</th>\n",
       "      <td>0.000000e+00</td>\n",
       "    </tr>\n",
       "    <tr>\n",
       "      <th>opening_day</th>\n",
       "      <td>0.000000e+00</td>\n",
       "    </tr>\n",
       "    <tr>\n",
       "      <th>genres.music</th>\n",
       "      <td>0.000000e+00</td>\n",
       "    </tr>\n",
       "    <tr>\n",
       "      <th>genres.history</th>\n",
       "      <td>0.000000e+00</td>\n",
       "    </tr>\n",
       "  </tbody>\n",
       "</table>\n",
       "</div>"
      ],
      "text/plain": [
       "                                    MI\n",
       "opening_weekend_income    1.229179e+00\n",
       "opening_weekend_screens   6.176942e-01\n",
       "budget                    4.129944e-01\n",
       "num_mc_critic_by_opening  2.830909e-01\n",
       "num_imdb_user_by_opening  1.497448e-01\n",
       "genres.adventure          1.076145e-01\n",
       "opening_day_of_year       9.753823e-02\n",
       "avg_mc_critic_by_opening  7.608544e-02\n",
       "duration                  6.042927e-02\n",
       "genres.animation          5.459138e-02\n",
       "genres.drama              4.253039e-02\n",
       "genres.thriller           3.863557e-02\n",
       "name_length               3.571095e-02\n",
       "year                      3.381337e-02\n",
       "avg_imdb_user_by_opening  1.938500e-02\n",
       "genres.sci-fi             1.696322e-02\n",
       "genres.crime              1.560913e-02\n",
       "opening_month             1.326453e-02\n",
       "genres.comedy             8.335426e-03\n",
       "genres.romance            8.279536e-03\n",
       "genres.family             8.081836e-03\n",
       "genres.horror             7.834359e-03\n",
       "genres.sport              5.239986e-03\n",
       "genres.war                3.660264e-03\n",
       "genres.fantasy            2.390522e-03\n",
       "genres.biography          1.910034e-03\n",
       "genres.action             1.250647e-03\n",
       "genres.documentary        1.550195e-04\n",
       "genres.news               1.887379e-15\n",
       "genres.musical            1.887379e-15\n",
       "genres.western            0.000000e+00\n",
       "genres.mystery            0.000000e+00\n",
       "opening_day               0.000000e+00\n",
       "genres.music              0.000000e+00\n",
       "genres.history            0.000000e+00"
      ]
     },
     "execution_count": 259,
     "metadata": {},
     "output_type": "execute_result"
    }
   ],
   "source": [
    "mi_df = mi_df.sort('MI', ascending=False)\n",
    "mi_df"
   ]
  },
  {
   "cell_type": "code",
   "execution_count": 260,
   "metadata": {
    "collapsed": true,
    "deletable": true,
    "editable": true
   },
   "outputs": [],
   "source": [
    "support = mi_df.index[0:FEATURES_TO_SELECT]"
   ]
  },
  {
   "cell_type": "code",
   "execution_count": 261,
   "metadata": {
    "collapsed": true,
    "deletable": true,
    "editable": true
   },
   "outputs": [],
   "source": [
    "selected_X_train_weekend_inc = X_train_weekend_inc\n",
    "selected_X_test_weekend_inc = X_test_weekend_inc\n",
    "selected_X_train_weekend_inc = X_train_weekend_inc.drop([col for col in X_train_weekend_inc if col not in support], axis=1)\n",
    "selected_X_test_weekend_inc = X_test_weekend_inc.drop([col for col in X_test_weekend_inc if col not in support], axis=1)"
   ]
  },
  {
   "cell_type": "code",
   "execution_count": 262,
   "metadata": {
    "collapsed": true,
    "deletable": true,
    "editable": true
   },
   "outputs": [],
   "source": [
    "regr2 = linear_model.LinearRegression(fit_intercept=True, normalize=True)\n",
    "regr2 = regr2.fit(selected_X_train_weekend_inc, y_train)"
   ]
  },
  {
   "cell_type": "code",
   "execution_count": 263,
   "metadata": {
    "collapsed": false,
    "deletable": true,
    "editable": true
   },
   "outputs": [
    {
     "name": "stderr",
     "output_type": "stream",
     "text": [
      "/Users/shaypalachy/miniconda3/envs/ds/lib/python3.5/site-packages/ipykernel/__main__.py:2: FutureWarning: sort(columns=....) is deprecated, use sort_values(by=.....)\n",
      "  from ipykernel import kernelapp as app\n"
     ]
    },
    {
     "data": {
      "text/html": [
       "<div>\n",
       "<table border=\"1\" class=\"dataframe\">\n",
       "  <thead>\n",
       "    <tr style=\"text-align: right;\">\n",
       "      <th></th>\n",
       "      <th>coef</th>\n",
       "    </tr>\n",
       "  </thead>\n",
       "  <tbody>\n",
       "    <tr>\n",
       "      <th>genres.animation</th>\n",
       "      <td>3.641685e+07</td>\n",
       "    </tr>\n",
       "    <tr>\n",
       "      <th>avg_mc_critic_by_opening</th>\n",
       "      <td>6.797033e+05</td>\n",
       "    </tr>\n",
       "    <tr>\n",
       "      <th>duration</th>\n",
       "      <td>2.911722e+05</td>\n",
       "    </tr>\n",
       "    <tr>\n",
       "      <th>opening_day_of_year</th>\n",
       "      <td>3.573639e+04</td>\n",
       "    </tr>\n",
       "    <tr>\n",
       "      <th>opening_weekend_screens</th>\n",
       "      <td>2.587271e+03</td>\n",
       "    </tr>\n",
       "    <tr>\n",
       "      <th>opening_weekend_income</th>\n",
       "      <td>2.356574e+00</td>\n",
       "    </tr>\n",
       "    <tr>\n",
       "      <th>budget</th>\n",
       "      <td>1.995159e-01</td>\n",
       "    </tr>\n",
       "    <tr>\n",
       "      <th>num_imdb_user_by_opening</th>\n",
       "      <td>-3.475150e+04</td>\n",
       "    </tr>\n",
       "    <tr>\n",
       "      <th>num_mc_critic_by_opening</th>\n",
       "      <td>-3.527992e+05</td>\n",
       "    </tr>\n",
       "    <tr>\n",
       "      <th>genres.adventure</th>\n",
       "      <td>-2.864501e+06</td>\n",
       "    </tr>\n",
       "  </tbody>\n",
       "</table>\n",
       "</div>"
      ],
      "text/plain": [
       "                                  coef\n",
       "genres.animation          3.641685e+07\n",
       "avg_mc_critic_by_opening  6.797033e+05\n",
       "duration                  2.911722e+05\n",
       "opening_day_of_year       3.573639e+04\n",
       "opening_weekend_screens   2.587271e+03\n",
       "opening_weekend_income    2.356574e+00\n",
       "budget                    1.995159e-01\n",
       "num_imdb_user_by_opening -3.475150e+04\n",
       "num_mc_critic_by_opening -3.527992e+05\n",
       "genres.adventure         -2.864501e+06"
      ]
     },
     "execution_count": 263,
     "metadata": {},
     "output_type": "execute_result"
    }
   ],
   "source": [
    "coef_df2 = pd.DataFrame({'coef': regr2.coef_}, index=selected_X_train_weekend_inc.columns)\n",
    "coef_df2.sort('coef', ascending=False)"
   ]
  },
  {
   "cell_type": "code",
   "execution_count": 266,
   "metadata": {
    "collapsed": false,
    "deletable": true,
    "editable": true
   },
   "outputs": [
    {
     "data": {
      "text/plain": [
       "0.81705961271413918"
      ]
     },
     "execution_count": 266,
     "metadata": {},
     "output_type": "execute_result"
    }
   ],
   "source": [
    "y_predict2 = regr2.predict(selected_X_test_weekend_inc)\n",
    "regr2.score(selected_X_test_weekend_inc, y_test) "
   ]
  },
  {
   "cell_type": "code",
   "execution_count": 267,
   "metadata": {
    "collapsed": false,
    "deletable": true,
    "editable": true,
    "scrolled": false
   },
   "outputs": [
    {
     "data": {
      "image/png": "[encoded data removed]",
      "text/plain": [
       "<matplotlib.figure.Figure at 0x1175c81d0>"
      ]
     },
     "metadata": {},
     "output_type": "display_data"
    }
   ],
   "source": [
    "plt.figure(figsize=(12,9))\n",
    "plt.scatter(y_test / 1000000, y_predict2 / 1000000)\n",
    "plt.xlabel('True Gross Income')\n",
    "plt.ylabel('Predicted Gross Income');\n",
    "# plt.title('Predicted vs True Gross Income');"
   ]
  },
  {
   "cell_type": "code",
   "execution_count": null,
   "metadata": {
    "collapsed": true
   },
   "outputs": [],
   "source": []
  }
 ],
 "metadata": {
  "kernelspec": {
   "display_name": "conda [ds]",
   "language": "python",
   "name": "python3"
  },
  "language_info": {
   "codemirror_mode": {
    "name": "ipython",
    "version": 3
   },
   "file_extension": ".py",
   "mimetype": "text/x-python",
   "name": "python",
   "nbconvert_exporter": "python",
   "pygments_lexer": "ipython3",
   "version": "3.5.3"
  }
 },
 "nbformat": 4,
 "nbformat_minor": 2
}
